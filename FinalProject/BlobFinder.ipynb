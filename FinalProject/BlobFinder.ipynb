{
 "metadata": {
  "name": "",
  "signature": "sha256:68ddc1a95272a2d22b2a63918ce90a14d83182ec98fd5023f6a686fa4146a1a4"
 },
 "nbformat": 3,
 "nbformat_minor": 0,
 "worksheets": [
  {
   "cells": [
    {
     "cell_type": "heading",
     "level": 1,
     "metadata": {},
     "source": [
      "Blob Finder"
     ]
    },
    {
     "cell_type": "code",
     "collapsed": false,
     "input": [
      "%pylab inline\n",
      "import numpy as np\n",
      "import matplotlib.pyplot as plt\n",
      "from PIL import Image\n",
      "import requests\n",
      "from StringIO import StringIO"
     ],
     "language": "python",
     "metadata": {},
     "outputs": [
      {
       "output_type": "stream",
       "stream": "stdout",
       "text": [
        "Populating the interactive namespace from numpy and matplotlib\n"
       ]
      }
     ],
     "prompt_number": 20
    },
    {
     "cell_type": "code",
     "collapsed": false,
     "input": [
      "#%%file Blobfinder.py\n",
      "\n",
      "class Blob(): \n",
      "    def __init__(self): \n",
      "        #construct an empty blob\n",
      "        self.pixels = []\n",
      "    def add(self, i, j): \n",
      "        #add a pixel at location (i,j) to the blob\n",
      "        self.pixels.append((i,j))\n",
      "    def mass(self): \n",
      "        #return number of pixels added, which equals the blob's mass\n",
      "        return len(self.pixels)\n",
      "    def distanceTo(self, b): \n",
      "        #return distance between centers of masses of this blob and blob b\n",
      "        x1 = self.centerOfMass()[0]\n",
      "        x2 = b.centerOfMass()[0]\n",
      "        y1 = self.centerOfMass()[1]\n",
      "        y2 = b.centerOfMass()[1]\n",
      "        \n",
      "        dist = ((x2 - x1)**2 + (y2 - y1)**2)**0.5\n",
      "        return dist\n",
      "    def centerOfMass(self): \n",
      "        #return tuple of (x,y) values for this blob's center of mass\n",
      "        #format center of mass coordinates with 4 digits to right of \n",
      "        #decimal point\n",
      "        x = 0\n",
      "        y = 0\n",
      "        for coord in self.pixles: \n",
      "            x += coord[0]\n",
      "            y += coord[1]\n",
      "        x_avg = x / (len(self.pixels))\n",
      "        y_avg = y / (len(slef.pixles))\n",
      "        return [x_avg, y_avg]\n",
      "    \n",
      "    def fillrec(picture, xsize, ysize, x, y): \n",
      "        \"\"\"Each call to 'fillrec' takes care of one pixel, then calls \n",
      "        'fillrec' again to take care of the neighbors\"\"\"\n",
      "        if picture[x,y] != BLACK:\n",
      "            return\n",
      "        picture[x,y] = RED\n",
      "        if x > 0: \n",
      "            fillrec(picture, xsize, ysize, x-1, y)\n",
      "        if x < (xsize-1): \n",
      "            fillrec(picture, xsize, ysize, x, x+1, y)\n",
      "        if y > 0: \n",
      "            fillrec(picture, xsize, ysize, x, y-1)\n",
      "        if y < (ysize-1): \n",
      "            fillrec(picture, xsize, ysize, x, y+1)\n",
      "            \n",
      "    def monochrome(picture, tau):\n",
      "        \"\"\"loops over the pixels in the loaded image, \n",
      "        replacing the RGB values of each with either \n",
      "        black or white depending on whether its total \n",
      "        luminance is above or below some threshold \n",
      "        passed in by the user\"\"\"\n",
      "        black = (0, 0, 0)\n",
      "        white = (255, 255, 255)\n",
      "        xsize, ysize = picture.size\n",
      "        temp = picture.load()\n",
      "        for x in range(xsize):\n",
      "            for y in range(ysize):\n",
      "                r,g,b = temp[x,y]\n",
      "                if r+g+b >= threshold: \n",
      "                    temp[x,y] = black\n",
      "                else:\n",
      "                    temp[x,y] = white"
     ],
     "language": "python",
     "metadata": {},
     "outputs": [],
     "prompt_number": 21
    },
    {
     "cell_type": "code",
     "collapsed": false,
     "input": [
      "def BlobFinder(picture, tau):\n",
      "    '''find all blobs in the picture using the luminance threshold tau'''\n",
      "    \"\"\"Scan the image top to bottom and left to right using a nested loop.\n",
      "    When black pixel is found, incriment the count, then call the fill \n",
      "    function to fill in all the pixels conected to that one.\"\"\"\n",
      "    xsize, ysize = picture.size\n",
      "    temp = picture.load()\n",
      "    result = 0\n",
      "    for x in range(xsize):\n",
      "        for y in range(ysize):\n",
      "            if temp[x,y] == BLACK: \n",
      "                result += 1\n",
      "                fill(temp,xsize,ysize,x,y)\n",
      "    return result"
     ],
     "language": "python",
     "metadata": {},
     "outputs": [],
     "prompt_number": 25
    },
    {
     "cell_type": "code",
     "collapsed": false,
     "input": [
      "Blobs = []\n",
      "pic.monochrome()\n",
      "\n",
      "#iterate over tau pixels\n",
      "tau = \n",
      "if pixel > float(tau): \n",
      "    Blobs.append()"
     ],
     "language": "python",
     "metadata": {},
     "outputs": [
      {
       "ename": "SyntaxError",
       "evalue": "invalid syntax (<ipython-input-27-8e4ec71bdb2e>, line 5)",
       "output_type": "pyerr",
       "traceback": [
        "\u001b[0;36m  File \u001b[0;32m\"<ipython-input-27-8e4ec71bdb2e>\"\u001b[0;36m, line \u001b[0;32m5\u001b[0m\n\u001b[0;31m    tau =\u001b[0m\n\u001b[0m          ^\u001b[0m\n\u001b[0;31mSyntaxError\u001b[0m\u001b[0;31m:\u001b[0m invalid syntax\n"
       ]
      }
     ],
     "prompt_number": 27
    },
    {
     "cell_type": "code",
     "collapsed": false,
     "input": [
      "def countBeads(P):\n",
      "    '''return the number of beads with >= P pixels'''\n",
      "\n",
      "def getBeads(P):\n",
      "    '''return all beads with >= P pixels'''"
     ],
     "language": "python",
     "metadata": {},
     "outputs": [],
     "prompt_number": 28
    },
    {
     "cell_type": "code",
     "collapsed": false,
     "input": [
      "Blob.blob = [1,2]\n",
      "print Blob.blob"
     ],
     "language": "python",
     "metadata": {},
     "outputs": [
      {
       "output_type": "stream",
       "stream": "stdout",
       "text": [
        "[1, 2]\n"
       ]
      }
     ],
     "prompt_number": 29
    },
    {
     "cell_type": "code",
     "collapsed": false,
     "input": [
      "BlobFinder(bwpic)"
     ],
     "language": "python",
     "metadata": {},
     "outputs": [
      {
       "ename": "NameError",
       "evalue": "name 'bwpic' is not defined",
       "output_type": "pyerr",
       "traceback": [
        "\u001b[0;31m---------------------------------------------------------------------------\u001b[0m\n\u001b[0;31mNameError\u001b[0m                                 Traceback (most recent call last)",
        "\u001b[0;32m<ipython-input-30-0bd7ec71bfe8>\u001b[0m in \u001b[0;36m<module>\u001b[0;34m()\u001b[0m\n\u001b[0;32m----> 1\u001b[0;31m \u001b[0mBlobFinder\u001b[0m\u001b[0;34m(\u001b[0m\u001b[0mbwpic\u001b[0m\u001b[0;34m)\u001b[0m\u001b[0;34m\u001b[0m\u001b[0m\n\u001b[0m",
        "\u001b[0;31mNameError\u001b[0m: name 'bwpic' is not defined"
       ]
      }
     ],
     "prompt_number": 30
    },
    {
     "cell_type": "code",
     "collapsed": false,
     "input": [
      "from PIL import image\n",
      "frame00000 = Image.open('frame00000.jpg')\n",
      "plt.imshow(frame00001)"
     ],
     "language": "python",
     "metadata": {},
     "outputs": [
      {
       "ename": "ImportError",
       "evalue": "cannot import name image",
       "output_type": "pyerr",
       "traceback": [
        "\u001b[0;31m---------------------------------------------------------------------------\u001b[0m\n\u001b[0;31mImportError\u001b[0m                               Traceback (most recent call last)",
        "\u001b[0;32m<ipython-input-6-079596a2f194>\u001b[0m in \u001b[0;36m<module>\u001b[0;34m()\u001b[0m\n\u001b[0;32m----> 1\u001b[0;31m \u001b[0;32mfrom\u001b[0m \u001b[0mPIL\u001b[0m \u001b[0;32mimport\u001b[0m \u001b[0mimage\u001b[0m\u001b[0;34m\u001b[0m\u001b[0m\n\u001b[0m\u001b[1;32m      2\u001b[0m \u001b[0mframe00000\u001b[0m \u001b[0;34m=\u001b[0m \u001b[0mImage\u001b[0m\u001b[0;34m.\u001b[0m\u001b[0mopen\u001b[0m\u001b[0;34m(\u001b[0m\u001b[0;34m'frame00000.jpg'\u001b[0m\u001b[0;34m)\u001b[0m\u001b[0;34m\u001b[0m\u001b[0m\n\u001b[1;32m      3\u001b[0m \u001b[0mplt\u001b[0m\u001b[0;34m.\u001b[0m\u001b[0mimshow\u001b[0m\u001b[0;34m(\u001b[0m\u001b[0mframe00001\u001b[0m\u001b[0;34m)\u001b[0m\u001b[0;34m\u001b[0m\u001b[0m\n",
        "\u001b[0;31mImportError\u001b[0m: cannot import name image"
       ]
      }
     ],
     "prompt_number": 6
    },
    {
     "cell_type": "code",
     "collapsed": false,
     "input": [],
     "language": "python",
     "metadata": {},
     "outputs": []
    }
   ],
   "metadata": {}
  }
 ]
}