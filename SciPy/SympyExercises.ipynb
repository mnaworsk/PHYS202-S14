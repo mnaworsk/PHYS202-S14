{
 "metadata": {
  "name": "",
  "signature": "sha256:d98b02e2b257455a3baea4eca8505b3407e892fcd0151895be0bed5d131a3982"
 },
 "nbformat": 3,
 "nbformat_minor": 0,
 "worksheets": [
  {
   "cells": [
    {
     "cell_type": "heading",
     "level": 1,
     "metadata": {},
     "source": [
      "Sympy Exercises"
     ]
    },
    {
     "cell_type": "code",
     "collapsed": false,
     "input": [],
     "language": "python",
     "metadata": {},
     "outputs": []
    }
   ],
   "metadata": {}
  }
 ]
}