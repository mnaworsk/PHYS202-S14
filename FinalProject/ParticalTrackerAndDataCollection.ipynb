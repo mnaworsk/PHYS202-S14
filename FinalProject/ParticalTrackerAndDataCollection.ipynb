{
 "metadata": {
  "name": "",
  "signature": "sha256:e781bc0b7137a7e8c9fcf67a5f11b1d2de8c321bb789e62a1b567ff3fc73f574"
 },
 "nbformat": 3,
 "nbformat_minor": 0,
 "worksheets": [
  {
   "cells": [
    {
     "cell_type": "code",
     "collapsed": false,
     "input": [
      "%pylab inline\n",
      "import numpy as np\n",
      "import matplotlib.pyplot as plt\n",
      "from PIL import Image\n",
      "import requests\n",
      "from StringIO import StringIO\n",
      "from import BlobFinder\n",
      "from BlobFinder import *"
     ],
     "language": "python",
     "metadata": {},
     "outputs": [
      {
       "output_type": "stream",
       "stream": "stdout",
       "text": [
        "Populating the interactive namespace from numpy and matplotlib\n"
       ]
      },
      {
       "ename": "ImportError",
       "evalue": "No module named BlobFinder",
       "output_type": "pyerr",
       "traceback": [
        "\u001b[0;31m---------------------------------------------------------------------------\u001b[0m\n\u001b[0;31mImportError\u001b[0m                               Traceback (most recent call last)",
        "\u001b[0;32m<ipython-input-19-43d7b8cae9ec>\u001b[0m in \u001b[0;36m<module>\u001b[0;34m()\u001b[0m\n\u001b[1;32m      5\u001b[0m \u001b[0;32mimport\u001b[0m \u001b[0mrequests\u001b[0m\u001b[0;34m\u001b[0m\u001b[0m\n\u001b[1;32m      6\u001b[0m \u001b[0;32mfrom\u001b[0m \u001b[0mStringIO\u001b[0m \u001b[0;32mimport\u001b[0m \u001b[0mStringIO\u001b[0m\u001b[0;34m\u001b[0m\u001b[0m\n\u001b[0;32m----> 7\u001b[0;31m \u001b[0;32mfrom\u001b[0m \u001b[0mBlobFinder\u001b[0m \u001b[0;32mimport\u001b[0m \u001b[0;34m*\u001b[0m\u001b[0;34m\u001b[0m\u001b[0m\n\u001b[0m",
        "\u001b[0;31mImportError\u001b[0m: No module named BlobFinder"
       ]
      }
     ],
     "prompt_number": 19
    },
    {
     "cell_type": "code",
     "collapsed": false,
     "input": [
      "def Blob_Recorder(P, tau, picture):\n",
      "    \"\"\"prints mass, center of mass of blobs >= P as well as blobs \n",
      "    with at least 1 pixel\"\"\"\n",
      "    list_of_blobs = BlobFinder(pic,tau)\n",
      "    beads = countBeads(P,list_of_blobs)\n",
      "    conditional_list_of_blobs = getBeads(P, list_of_blobs)\n",
      "    count = 0\n",
      "    for i in range(beads):\n",
      "        print conditional_blob_list[i].mass, conditional_blob_list[i].centerOfMass\n",
      "        count += 1\n",
      "        for i in range(len(list_of_blobs)):\n",
      "            print list_of_blobs[i].mass, list_of_blobs[i].centerOfMass\n",
      "\n",
      "    print count"
     ],
     "language": "python",
     "metadata": {},
     "outputs": [],
     "prompt_number": 9
    },
    {
     "cell_type": "code",
     "collapsed": false,
     "input": [
      "frame00000 = Image.open('frame00000.jpg', mode = 'r')\n",
      "Blob_Recorder(25, 180, frame00000);\n",
      "plt.imshow(frame00001);"
     ],
     "language": "python",
     "metadata": {},
     "outputs": [
      {
       "ename": "NameError",
       "evalue": "global name 'BlobFinder' is not defined",
       "output_type": "pyerr",
       "traceback": [
        "\u001b[0;31m---------------------------------------------------------------------------\u001b[0m\n\u001b[0;31mNameError\u001b[0m                                 Traceback (most recent call last)",
        "\u001b[0;32m<ipython-input-10-801e2ec30473>\u001b[0m in \u001b[0;36m<module>\u001b[0;34m()\u001b[0m\n\u001b[1;32m      1\u001b[0m \u001b[0mframe00000\u001b[0m \u001b[0;34m=\u001b[0m \u001b[0mImage\u001b[0m\u001b[0;34m.\u001b[0m\u001b[0mopen\u001b[0m\u001b[0;34m(\u001b[0m\u001b[0;34m'frame00000.jpg'\u001b[0m\u001b[0;34m,\u001b[0m \u001b[0mmode\u001b[0m \u001b[0;34m=\u001b[0m \u001b[0;34m'r'\u001b[0m\u001b[0;34m)\u001b[0m\u001b[0;34m\u001b[0m\u001b[0m\n\u001b[0;32m----> 2\u001b[0;31m \u001b[0mBlob_Recorder\u001b[0m\u001b[0;34m(\u001b[0m\u001b[0;36m25\u001b[0m\u001b[0;34m,\u001b[0m \u001b[0;36m180\u001b[0m\u001b[0;34m,\u001b[0m \u001b[0mframe00000\u001b[0m\u001b[0;34m)\u001b[0m\u001b[0;34m;\u001b[0m\u001b[0;34m\u001b[0m\u001b[0m\n\u001b[0m\u001b[1;32m      3\u001b[0m \u001b[0mplt\u001b[0m\u001b[0;34m.\u001b[0m\u001b[0mimshow\u001b[0m\u001b[0;34m(\u001b[0m\u001b[0mframe00001\u001b[0m\u001b[0;34m)\u001b[0m\u001b[0;34m;\u001b[0m\u001b[0;34m\u001b[0m\u001b[0m\n",
        "\u001b[0;32m<ipython-input-9-8195242adc06>\u001b[0m in \u001b[0;36mBlob_Recorder\u001b[0;34m(P, tau, picture)\u001b[0m\n\u001b[1;32m      2\u001b[0m     \"\"\"prints mass, center of mass of blobs >= P as well as blobs \n\u001b[1;32m      3\u001b[0m     with at least 1 pixel\"\"\"\n\u001b[0;32m----> 4\u001b[0;31m     \u001b[0mlist_of_blobs\u001b[0m \u001b[0;34m=\u001b[0m \u001b[0mBlobFinder\u001b[0m\u001b[0;34m.\u001b[0m\u001b[0mpy\u001b[0m\u001b[0;34m(\u001b[0m\u001b[0mpic\u001b[0m\u001b[0;34m,\u001b[0m\u001b[0mtau\u001b[0m\u001b[0;34m)\u001b[0m\u001b[0;34m\u001b[0m\u001b[0m\n\u001b[0m\u001b[1;32m      5\u001b[0m     \u001b[0mbeads\u001b[0m \u001b[0;34m=\u001b[0m \u001b[0mcountBeads\u001b[0m\u001b[0;34m(\u001b[0m\u001b[0mP\u001b[0m\u001b[0;34m,\u001b[0m\u001b[0mlist_of_blobs\u001b[0m\u001b[0;34m)\u001b[0m\u001b[0;34m\u001b[0m\u001b[0m\n\u001b[1;32m      6\u001b[0m     \u001b[0mconditional_list_of_blobs\u001b[0m \u001b[0;34m=\u001b[0m \u001b[0mgetBeads\u001b[0m\u001b[0;34m(\u001b[0m\u001b[0mP\u001b[0m\u001b[0;34m,\u001b[0m \u001b[0mlist_of_blobs\u001b[0m\u001b[0;34m)\u001b[0m\u001b[0;34m\u001b[0m\u001b[0m\n",
        "\u001b[0;31mNameError\u001b[0m: global name 'BlobFinder' is not defined"
       ]
      }
     ],
     "prompt_number": 10
    },
    {
     "cell_type": "code",
     "collapsed": false,
     "input": [
      "#creating a list of all of the pictures to be used as sample data\n",
      "files = []\n",
      "for i in range(200): \n",
      "    x = str(i)\n",
      "    if i < 10: \n",
      "        files.append(\"frame0000\"+x+\".jpg\")\n",
      "    elif i < 100: \n",
      "        files.append(\"frame000\"+x+\".jpg\")\n",
      "    else: \n",
      "        files.append(\"frame00\"+x+\".jpg\")"
     ],
     "language": "python",
     "metadata": {},
     "outputs": []
    },
    {
     "cell_type": "code",
     "collapsed": false,
     "input": [
      "frame00065 = Image.open(file[65],mode='r')\n",
      "Blob_Recorder(25,180, frame00065);\n",
      "plt.imshow(frame00065);"
     ],
     "language": "python",
     "metadata": {},
     "outputs": []
    },
    {
     "cell_type": "code",
     "collapsed": false,
     "input": [
      "def test_blob_tracker(files,P,tau,delta_p): \n",
      "    frame1 = Image.open(list_of_files)\n",
      "    find_beads = Beads(P, Blobfinder(frame1,tau))\n",
      "    \n",
      "    \n",
      "    "
     ],
     "language": "python",
     "metadata": {},
     "outputs": []
    }
   ],
   "metadata": {}
  }
 ]
}