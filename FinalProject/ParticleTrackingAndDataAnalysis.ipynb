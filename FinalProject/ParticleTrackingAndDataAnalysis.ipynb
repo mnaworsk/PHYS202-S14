{
 "metadata": {
  "name": "",
  "signature": "sha256:e939af962f94cf51031580ecbe74ac2507e6203dc954ad062331d60ab48fd4fd"
 },
 "nbformat": 3,
 "nbformat_minor": 0,
 "worksheets": [
  {
   "cells": [
    {
     "cell_type": "code",
     "collapsed": false,
     "input": [
      "from PIL import Image\n",
      "from Blobfinder import *"
     ],
     "language": "python",
     "metadata": {},
     "outputs": [],
     "prompt_number": 1
    },
    {
     "cell_type": "markdown",
     "metadata": {},
     "source": [
      "Collaborator: Devin Vaage"
     ]
    },
    {
     "cell_type": "heading",
     "level": 2,
     "metadata": {},
     "source": [
      "Particle Tracking"
     ]
    },
    {
     "cell_type": "markdown",
     "metadata": {},
     "source": [
      "Tracking the brownian motion of blobs in successive frames using files of 200 frames, P, tau, and deltaP as arguments\n",
      "\n",
      "Determines how far a blob moved from one time step to the next (deltat = 0.5 for test data)\n",
      "\n",
      "Calculates the Euclidean distance for each bead at time t+deltat and identifies these blobs as the same unless the distance exceeds delta_P.\n",
      "\n",
      "Records displacements of each blobs for time deltat"
     ]
    },
    {
     "cell_type": "code",
     "collapsed": false,
     "input": [
      "def Particle_Tracker(frame1, frame2, P, tau, delta_P): \n",
      " \n",
      "    frame1 = Image.open(frame1)\n",
      "    frame2 = Image.open(frame2)\n",
      "        \n",
      "    frame1_blobs = getBeads(P, BlobFinder(frame1, tau))\n",
      "    frame2_blobs = getBeads(P, BlobFinder(frame2, tau))\n",
      "        \n",
      "    displacements = []\n",
      "    #looks at each frame and it's nearest neighbor\n",
      "    #and records the radial displacement \n",
      "    for i in range(len(frame1_blobs)): \n",
      "        #minimum radial displacement = delta P\n",
      "        min_rad_disp = delta_P\n",
      "        for j in range(len(frame2_blobs)):\n",
      "            displacement = frame1_blobs[i].distanceTo(frame2_blobs[j])\n",
      "            if (displacement < min_rad_disp):\n",
      "                min_rad_disp = displacement\n",
      "                nearest = j\n",
      "        #blobs within delta_p will be added to displacement list, \n",
      "        #each on a new line and douplicates will be deleted because they \n",
      "        #are too close to be considered a new blob\n",
      "        if min_rad_disp < delta_P: \n",
      "            displacements.append(str(min_rad_disp)+'\\n')\n",
      "            del frame2_blobs[nearest]\n",
      "        \n",
      "    return displacements"
     ],
     "language": "python",
     "metadata": {},
     "outputs": [],
     "prompt_number": 2
    },
    {
     "cell_type": "code",
     "collapsed": false,
     "input": [
      "P = 35\n",
      "tau = 650\n",
      "delta_P = 18\n",
      "#writes radial displacements from frame to frame to a file    \n",
      "def brownian_motion_recorder(P, tau, delta_P, files, output_file):\n",
      "    displacements = []\n",
      "    output = open(output_file, 'w')\n",
      "    for i in xrange(len(files) -1): \n",
      "        displacements += Particle_Tracker(files[i], files[i+1], P, tau, delta_P)\n",
      "        print \"Motion in file\", i,\"has been recorded\"\n",
      "    output.writelines(displacements)\n",
      "    output.close()"
     ],
     "language": "python",
     "metadata": {},
     "outputs": [],
     "prompt_number": 39
    },
    {
     "cell_type": "code",
     "collapsed": false,
     "input": [
      "#creating a list of all of the frames to be used as sample data\n",
      "files = []\n",
      "for i in range(200): \n",
      "    if i < 10: \n",
      "        files.append(\"Run5/frame0000\"+ str(i) +\".jpg\")\n",
      "    elif i < 100: \n",
      "        files.append(\"Run5/frame000\"+ str(i) +\".jpg\")\n",
      "    else: \n",
      "        files.append(\"Run5/frame00\"+ str(i) +\".jpg\")\n",
      "\n",
      "#naming the output file, indicating when process is complete\n",
      "output_file = 'Run5.dat'\n",
      "brownian_motion_recorder(P, tau, delta_P, files, output_file)\n",
      "print 'Displacement comparisons done'"
     ],
     "language": "python",
     "metadata": {},
     "outputs": [
      {
       "output_type": "stream",
       "stream": "stdout",
       "text": [
        "Motion in file 0 has been recorded\n",
        "Motion in file"
       ]
      },
      {
       "output_type": "stream",
       "stream": "stdout",
       "text": [
        " 1 has been recorded\n",
        "Motion in file"
       ]
      },
      {
       "output_type": "stream",
       "stream": "stdout",
       "text": [
        " 2 has been recorded\n",
        "Motion in file"
       ]
      },
      {
       "output_type": "stream",
       "stream": "stdout",
       "text": [
        " 3 has been recorded\n",
        "Motion in file"
       ]
      },
      {
       "output_type": "stream",
       "stream": "stdout",
       "text": [
        " 4 has been recorded\n",
        "Motion in file"
       ]
      },
      {
       "output_type": "stream",
       "stream": "stdout",
       "text": [
        " 5 has been recorded\n",
        "Motion in file"
       ]
      },
      {
       "output_type": "stream",
       "stream": "stdout",
       "text": [
        " 6 has been recorded\n",
        "Motion in file"
       ]
      },
      {
       "output_type": "stream",
       "stream": "stdout",
       "text": [
        " 7 has been recorded\n",
        "Motion in file"
       ]
      },
      {
       "output_type": "stream",
       "stream": "stdout",
       "text": [
        " 8 has been recorded\n",
        "Motion in file"
       ]
      },
      {
       "output_type": "stream",
       "stream": "stdout",
       "text": [
        " 9 has been recorded\n",
        "Motion in file"
       ]
      },
      {
       "output_type": "stream",
       "stream": "stdout",
       "text": [
        " 10 has been recorded\n",
        "Motion in file"
       ]
      },
      {
       "output_type": "stream",
       "stream": "stdout",
       "text": [
        " 11 has been recorded\n",
        "Motion in file"
       ]
      },
      {
       "output_type": "stream",
       "stream": "stdout",
       "text": [
        " 12 has been recorded\n",
        "Motion in file"
       ]
      },
      {
       "output_type": "stream",
       "stream": "stdout",
       "text": [
        " 13 has been recorded\n",
        "Motion in file"
       ]
      },
      {
       "output_type": "stream",
       "stream": "stdout",
       "text": [
        " 14 has been recorded\n",
        "Motion in file"
       ]
      },
      {
       "output_type": "stream",
       "stream": "stdout",
       "text": [
        " 15 has been recorded\n",
        "Motion in file"
       ]
      },
      {
       "output_type": "stream",
       "stream": "stdout",
       "text": [
        " 16 has been recorded\n",
        "Motion in file"
       ]
      },
      {
       "output_type": "stream",
       "stream": "stdout",
       "text": [
        " 17 has been recorded\n",
        "Motion in file"
       ]
      },
      {
       "output_type": "stream",
       "stream": "stdout",
       "text": [
        " 18 has been recorded\n",
        "Motion in file"
       ]
      },
      {
       "output_type": "stream",
       "stream": "stdout",
       "text": [
        " 19 has been recorded\n",
        "Motion in file"
       ]
      },
      {
       "output_type": "stream",
       "stream": "stdout",
       "text": [
        " 20 has been recorded\n",
        "Motion in file"
       ]
      },
      {
       "output_type": "stream",
       "stream": "stdout",
       "text": [
        " 21 has been recorded\n",
        "Motion in file"
       ]
      },
      {
       "output_type": "stream",
       "stream": "stdout",
       "text": [
        " 22 has been recorded\n",
        "Motion in file"
       ]
      },
      {
       "output_type": "stream",
       "stream": "stdout",
       "text": [
        " 23 has been recorded\n",
        "Motion in file"
       ]
      },
      {
       "output_type": "stream",
       "stream": "stdout",
       "text": [
        " 24 has been recorded\n",
        "Motion in file"
       ]
      },
      {
       "output_type": "stream",
       "stream": "stdout",
       "text": [
        " 25 has been recorded\n",
        "Motion in file"
       ]
      },
      {
       "output_type": "stream",
       "stream": "stdout",
       "text": [
        " 26 has been recorded\n",
        "Motion in file"
       ]
      },
      {
       "output_type": "stream",
       "stream": "stdout",
       "text": [
        " 27 has been recorded\n",
        "Motion in file"
       ]
      },
      {
       "output_type": "stream",
       "stream": "stdout",
       "text": [
        " 28 has been recorded\n",
        "Motion in file"
       ]
      },
      {
       "output_type": "stream",
       "stream": "stdout",
       "text": [
        " 29 has been recorded\n",
        "Motion in file"
       ]
      },
      {
       "output_type": "stream",
       "stream": "stdout",
       "text": [
        " 30 has been recorded\n",
        "Motion in file"
       ]
      },
      {
       "output_type": "stream",
       "stream": "stdout",
       "text": [
        " 31 has been recorded\n",
        "Motion in file"
       ]
      },
      {
       "output_type": "stream",
       "stream": "stdout",
       "text": [
        " 32 has been recorded\n",
        "Motion in file"
       ]
      },
      {
       "output_type": "stream",
       "stream": "stdout",
       "text": [
        " 33 has been recorded\n",
        "Motion in file"
       ]
      },
      {
       "output_type": "stream",
       "stream": "stdout",
       "text": [
        " 34 has been recorded\n",
        "Motion in file"
       ]
      },
      {
       "output_type": "stream",
       "stream": "stdout",
       "text": [
        " 35 has been recorded\n",
        "Motion in file"
       ]
      },
      {
       "output_type": "stream",
       "stream": "stdout",
       "text": [
        " 36 has been recorded\n",
        "Motion in file"
       ]
      },
      {
       "output_type": "stream",
       "stream": "stdout",
       "text": [
        " 37 has been recorded\n",
        "Motion in file"
       ]
      },
      {
       "output_type": "stream",
       "stream": "stdout",
       "text": [
        " 38 has been recorded\n",
        "Motion in file"
       ]
      },
      {
       "output_type": "stream",
       "stream": "stdout",
       "text": [
        " 39 has been recorded\n",
        "Motion in file"
       ]
      },
      {
       "output_type": "stream",
       "stream": "stdout",
       "text": [
        " 40 has been recorded\n",
        "Motion in file"
       ]
      },
      {
       "output_type": "stream",
       "stream": "stdout",
       "text": [
        " 41 has been recorded\n",
        "Motion in file"
       ]
      },
      {
       "output_type": "stream",
       "stream": "stdout",
       "text": [
        " 42 has been recorded\n",
        "Motion in file"
       ]
      },
      {
       "output_type": "stream",
       "stream": "stdout",
       "text": [
        " 43 has been recorded\n",
        "Motion in file"
       ]
      },
      {
       "output_type": "stream",
       "stream": "stdout",
       "text": [
        " 44 has been recorded\n",
        "Motion in file"
       ]
      },
      {
       "output_type": "stream",
       "stream": "stdout",
       "text": [
        " 45 has been recorded\n",
        "Motion in file"
       ]
      },
      {
       "output_type": "stream",
       "stream": "stdout",
       "text": [
        " 46 has been recorded\n",
        "Motion in file"
       ]
      },
      {
       "output_type": "stream",
       "stream": "stdout",
       "text": [
        " 47 has been recorded\n",
        "Motion in file"
       ]
      },
      {
       "output_type": "stream",
       "stream": "stdout",
       "text": [
        " 48 has been recorded\n",
        "Motion in file"
       ]
      },
      {
       "output_type": "stream",
       "stream": "stdout",
       "text": [
        " 49 has been recorded\n",
        "Motion in file"
       ]
      },
      {
       "output_type": "stream",
       "stream": "stdout",
       "text": [
        " 50 has been recorded\n",
        "Motion in file"
       ]
      },
      {
       "output_type": "stream",
       "stream": "stdout",
       "text": [
        " 51 has been recorded\n",
        "Motion in file"
       ]
      },
      {
       "output_type": "stream",
       "stream": "stdout",
       "text": [
        " 52 has been recorded\n",
        "Motion in file"
       ]
      },
      {
       "output_type": "stream",
       "stream": "stdout",
       "text": [
        " 53 has been recorded\n",
        "Motion in file"
       ]
      },
      {
       "output_type": "stream",
       "stream": "stdout",
       "text": [
        " 54 has been recorded\n",
        "Motion in file"
       ]
      },
      {
       "output_type": "stream",
       "stream": "stdout",
       "text": [
        " 55 has been recorded\n",
        "Motion in file"
       ]
      },
      {
       "output_type": "stream",
       "stream": "stdout",
       "text": [
        " 56 has been recorded\n",
        "Motion in file"
       ]
      },
      {
       "output_type": "stream",
       "stream": "stdout",
       "text": [
        " 57 has been recorded\n",
        "Motion in file"
       ]
      },
      {
       "output_type": "stream",
       "stream": "stdout",
       "text": [
        " 58 has been recorded\n",
        "Motion in file"
       ]
      },
      {
       "output_type": "stream",
       "stream": "stdout",
       "text": [
        " 59 has been recorded\n",
        "Motion in file"
       ]
      },
      {
       "output_type": "stream",
       "stream": "stdout",
       "text": [
        " 60 has been recorded\n",
        "Motion in file"
       ]
      },
      {
       "output_type": "stream",
       "stream": "stdout",
       "text": [
        " 61 has been recorded\n",
        "Motion in file"
       ]
      },
      {
       "output_type": "stream",
       "stream": "stdout",
       "text": [
        " 62 has been recorded\n",
        "Motion in file"
       ]
      },
      {
       "output_type": "stream",
       "stream": "stdout",
       "text": [
        " 63 has been recorded\n",
        "Motion in file"
       ]
      },
      {
       "output_type": "stream",
       "stream": "stdout",
       "text": [
        " 64 has been recorded\n",
        "Motion in file"
       ]
      },
      {
       "output_type": "stream",
       "stream": "stdout",
       "text": [
        " 65 has been recorded\n",
        "Motion in file"
       ]
      },
      {
       "output_type": "stream",
       "stream": "stdout",
       "text": [
        " 66 has been recorded\n",
        "Motion in file"
       ]
      },
      {
       "output_type": "stream",
       "stream": "stdout",
       "text": [
        " 67 has been recorded\n",
        "Motion in file"
       ]
      },
      {
       "output_type": "stream",
       "stream": "stdout",
       "text": [
        " 68 has been recorded\n",
        "Motion in file"
       ]
      },
      {
       "output_type": "stream",
       "stream": "stdout",
       "text": [
        " 69 has been recorded\n",
        "Motion in file"
       ]
      },
      {
       "output_type": "stream",
       "stream": "stdout",
       "text": [
        " 70 has been recorded\n",
        "Motion in file"
       ]
      },
      {
       "output_type": "stream",
       "stream": "stdout",
       "text": [
        " 71 has been recorded\n",
        "Motion in file"
       ]
      },
      {
       "output_type": "stream",
       "stream": "stdout",
       "text": [
        " 72 has been recorded\n",
        "Motion in file"
       ]
      },
      {
       "output_type": "stream",
       "stream": "stdout",
       "text": [
        " 73 has been recorded\n",
        "Motion in file"
       ]
      },
      {
       "output_type": "stream",
       "stream": "stdout",
       "text": [
        " 74 has been recorded\n",
        "Motion in file"
       ]
      },
      {
       "output_type": "stream",
       "stream": "stdout",
       "text": [
        " 75 has been recorded\n",
        "Motion in file"
       ]
      },
      {
       "output_type": "stream",
       "stream": "stdout",
       "text": [
        " 76 has been recorded\n",
        "Motion in file"
       ]
      },
      {
       "output_type": "stream",
       "stream": "stdout",
       "text": [
        " 77 has been recorded\n",
        "Motion in file"
       ]
      },
      {
       "output_type": "stream",
       "stream": "stdout",
       "text": [
        " 78 has been recorded\n",
        "Motion in file"
       ]
      },
      {
       "output_type": "stream",
       "stream": "stdout",
       "text": [
        " 79 has been recorded\n",
        "Motion in file"
       ]
      },
      {
       "output_type": "stream",
       "stream": "stdout",
       "text": [
        " 80 has been recorded\n",
        "Motion in file"
       ]
      },
      {
       "output_type": "stream",
       "stream": "stdout",
       "text": [
        " 81 has been recorded\n",
        "Motion in file"
       ]
      },
      {
       "output_type": "stream",
       "stream": "stdout",
       "text": [
        " 82 has been recorded\n",
        "Motion in file"
       ]
      },
      {
       "output_type": "stream",
       "stream": "stdout",
       "text": [
        " 83 has been recorded\n",
        "Motion in file"
       ]
      },
      {
       "output_type": "stream",
       "stream": "stdout",
       "text": [
        " 84 has been recorded\n",
        "Motion in file"
       ]
      },
      {
       "output_type": "stream",
       "stream": "stdout",
       "text": [
        " 85 has been recorded\n",
        "Motion in file"
       ]
      },
      {
       "output_type": "stream",
       "stream": "stdout",
       "text": [
        " 86 has been recorded\n",
        "Motion in file"
       ]
      },
      {
       "output_type": "stream",
       "stream": "stdout",
       "text": [
        " 87 has been recorded\n",
        "Motion in file"
       ]
      },
      {
       "output_type": "stream",
       "stream": "stdout",
       "text": [
        " 88 has been recorded\n",
        "Motion in file"
       ]
      },
      {
       "output_type": "stream",
       "stream": "stdout",
       "text": [
        " 89 has been recorded\n",
        "Motion in file"
       ]
      },
      {
       "output_type": "stream",
       "stream": "stdout",
       "text": [
        " 90 has been recorded\n",
        "Motion in file"
       ]
      },
      {
       "output_type": "stream",
       "stream": "stdout",
       "text": [
        " 91 has been recorded\n",
        "Motion in file"
       ]
      },
      {
       "output_type": "stream",
       "stream": "stdout",
       "text": [
        " 92 has been recorded\n",
        "Motion in file"
       ]
      },
      {
       "output_type": "stream",
       "stream": "stdout",
       "text": [
        " 93 has been recorded\n",
        "Motion in file"
       ]
      },
      {
       "output_type": "stream",
       "stream": "stdout",
       "text": [
        " 94 has been recorded\n",
        "Motion in file"
       ]
      },
      {
       "output_type": "stream",
       "stream": "stdout",
       "text": [
        " 95 has been recorded\n",
        "Motion in file"
       ]
      },
      {
       "output_type": "stream",
       "stream": "stdout",
       "text": [
        " 96 has been recorded\n",
        "Motion in file"
       ]
      },
      {
       "output_type": "stream",
       "stream": "stdout",
       "text": [
        " 97 has been recorded\n",
        "Motion in file"
       ]
      },
      {
       "output_type": "stream",
       "stream": "stdout",
       "text": [
        " 98 has been recorded\n",
        "Motion in file"
       ]
      },
      {
       "output_type": "stream",
       "stream": "stdout",
       "text": [
        " 99 has been recorded\n",
        "Motion in file"
       ]
      },
      {
       "output_type": "stream",
       "stream": "stdout",
       "text": [
        " 100 has been recorded\n",
        "Motion in file"
       ]
      },
      {
       "output_type": "stream",
       "stream": "stdout",
       "text": [
        " 101 has been recorded\n",
        "Motion in file"
       ]
      },
      {
       "output_type": "stream",
       "stream": "stdout",
       "text": [
        " 102 has been recorded\n",
        "Motion in file"
       ]
      },
      {
       "output_type": "stream",
       "stream": "stdout",
       "text": [
        " 103 has been recorded\n",
        "Motion in file"
       ]
      },
      {
       "output_type": "stream",
       "stream": "stdout",
       "text": [
        " 104 has been recorded\n",
        "Motion in file"
       ]
      },
      {
       "output_type": "stream",
       "stream": "stdout",
       "text": [
        " 105 has been recorded\n",
        "Motion in file"
       ]
      },
      {
       "output_type": "stream",
       "stream": "stdout",
       "text": [
        " 106 has been recorded\n",
        "Motion in file"
       ]
      },
      {
       "output_type": "stream",
       "stream": "stdout",
       "text": [
        " 107 has been recorded\n",
        "Motion in file"
       ]
      },
      {
       "output_type": "stream",
       "stream": "stdout",
       "text": [
        " 108 has been recorded\n",
        "Motion in file"
       ]
      },
      {
       "output_type": "stream",
       "stream": "stdout",
       "text": [
        " 109 has been recorded\n",
        "Motion in file"
       ]
      },
      {
       "output_type": "stream",
       "stream": "stdout",
       "text": [
        " 110 has been recorded\n",
        "Motion in file"
       ]
      },
      {
       "output_type": "stream",
       "stream": "stdout",
       "text": [
        " 111 has been recorded\n",
        "Motion in file"
       ]
      },
      {
       "output_type": "stream",
       "stream": "stdout",
       "text": [
        " 112 has been recorded\n",
        "Motion in file"
       ]
      },
      {
       "output_type": "stream",
       "stream": "stdout",
       "text": [
        " 113 has been recorded\n",
        "Motion in file"
       ]
      },
      {
       "output_type": "stream",
       "stream": "stdout",
       "text": [
        " 114 has been recorded\n",
        "Motion in file"
       ]
      },
      {
       "output_type": "stream",
       "stream": "stdout",
       "text": [
        " 115 has been recorded\n",
        "Motion in file"
       ]
      },
      {
       "output_type": "stream",
       "stream": "stdout",
       "text": [
        " 116 has been recorded\n",
        "Motion in file"
       ]
      },
      {
       "output_type": "stream",
       "stream": "stdout",
       "text": [
        " 117 has been recorded\n",
        "Motion in file"
       ]
      },
      {
       "output_type": "stream",
       "stream": "stdout",
       "text": [
        " 118 has been recorded\n",
        "Motion in file"
       ]
      },
      {
       "output_type": "stream",
       "stream": "stdout",
       "text": [
        " 119 has been recorded\n",
        "Motion in file"
       ]
      },
      {
       "output_type": "stream",
       "stream": "stdout",
       "text": [
        " 120 has been recorded\n",
        "Motion in file"
       ]
      },
      {
       "output_type": "stream",
       "stream": "stdout",
       "text": [
        " 121 has been recorded\n",
        "Motion in file"
       ]
      },
      {
       "output_type": "stream",
       "stream": "stdout",
       "text": [
        " 122 has been recorded\n",
        "Motion in file"
       ]
      },
      {
       "output_type": "stream",
       "stream": "stdout",
       "text": [
        " 123 has been recorded\n",
        "Motion in file"
       ]
      },
      {
       "output_type": "stream",
       "stream": "stdout",
       "text": [
        " 124 has been recorded\n",
        "Motion in file"
       ]
      },
      {
       "output_type": "stream",
       "stream": "stdout",
       "text": [
        " 125 has been recorded\n",
        "Motion in file"
       ]
      },
      {
       "output_type": "stream",
       "stream": "stdout",
       "text": [
        " 126 has been recorded\n",
        "Motion in file"
       ]
      },
      {
       "output_type": "stream",
       "stream": "stdout",
       "text": [
        " 127 has been recorded\n",
        "Motion in file"
       ]
      },
      {
       "output_type": "stream",
       "stream": "stdout",
       "text": [
        " 128 has been recorded\n",
        "Motion in file"
       ]
      },
      {
       "output_type": "stream",
       "stream": "stdout",
       "text": [
        " 129 has been recorded\n",
        "Motion in file"
       ]
      },
      {
       "output_type": "stream",
       "stream": "stdout",
       "text": [
        " 130 has been recorded\n",
        "Motion in file"
       ]
      },
      {
       "output_type": "stream",
       "stream": "stdout",
       "text": [
        " 131 has been recorded\n",
        "Motion in file"
       ]
      },
      {
       "output_type": "stream",
       "stream": "stdout",
       "text": [
        " 132 has been recorded\n",
        "Motion in file"
       ]
      },
      {
       "output_type": "stream",
       "stream": "stdout",
       "text": [
        " 133 has been recorded\n",
        "Motion in file"
       ]
      },
      {
       "output_type": "stream",
       "stream": "stdout",
       "text": [
        " 134 has been recorded\n",
        "Motion in file"
       ]
      },
      {
       "output_type": "stream",
       "stream": "stdout",
       "text": [
        " 135 has been recorded\n",
        "Motion in file"
       ]
      },
      {
       "output_type": "stream",
       "stream": "stdout",
       "text": [
        " 136 has been recorded\n",
        "Motion in file"
       ]
      },
      {
       "output_type": "stream",
       "stream": "stdout",
       "text": [
        " 137 has been recorded\n",
        "Motion in file"
       ]
      },
      {
       "output_type": "stream",
       "stream": "stdout",
       "text": [
        " 138 has been recorded\n",
        "Motion in file"
       ]
      },
      {
       "output_type": "stream",
       "stream": "stdout",
       "text": [
        " 139 has been recorded\n",
        "Motion in file"
       ]
      },
      {
       "output_type": "stream",
       "stream": "stdout",
       "text": [
        " 140 has been recorded\n",
        "Motion in file"
       ]
      },
      {
       "output_type": "stream",
       "stream": "stdout",
       "text": [
        " 141 has been recorded\n",
        "Motion in file"
       ]
      },
      {
       "output_type": "stream",
       "stream": "stdout",
       "text": [
        " 142 has been recorded\n",
        "Motion in file"
       ]
      },
      {
       "output_type": "stream",
       "stream": "stdout",
       "text": [
        " 143 has been recorded\n",
        "Motion in file"
       ]
      },
      {
       "output_type": "stream",
       "stream": "stdout",
       "text": [
        " 144 has been recorded\n",
        "Motion in file"
       ]
      },
      {
       "output_type": "stream",
       "stream": "stdout",
       "text": [
        " 145 has been recorded\n",
        "Motion in file"
       ]
      },
      {
       "output_type": "stream",
       "stream": "stdout",
       "text": [
        " 146 has been recorded\n",
        "Motion in file"
       ]
      },
      {
       "output_type": "stream",
       "stream": "stdout",
       "text": [
        " 147 has been recorded\n",
        "Motion in file"
       ]
      },
      {
       "output_type": "stream",
       "stream": "stdout",
       "text": [
        " 148 has been recorded\n",
        "Motion in file"
       ]
      },
      {
       "output_type": "stream",
       "stream": "stdout",
       "text": [
        " 149 has been recorded\n",
        "Motion in file"
       ]
      },
      {
       "output_type": "stream",
       "stream": "stdout",
       "text": [
        " 150 has been recorded\n",
        "Motion in file"
       ]
      },
      {
       "output_type": "stream",
       "stream": "stdout",
       "text": [
        " 151 has been recorded\n",
        "Motion in file"
       ]
      },
      {
       "output_type": "stream",
       "stream": "stdout",
       "text": [
        " 152 has been recorded\n",
        "Motion in file"
       ]
      },
      {
       "output_type": "stream",
       "stream": "stdout",
       "text": [
        " 153 has been recorded\n",
        "Motion in file"
       ]
      },
      {
       "output_type": "stream",
       "stream": "stdout",
       "text": [
        " 154 has been recorded\n",
        "Motion in file"
       ]
      },
      {
       "output_type": "stream",
       "stream": "stdout",
       "text": [
        " 155 has been recorded\n",
        "Motion in file"
       ]
      },
      {
       "output_type": "stream",
       "stream": "stdout",
       "text": [
        " 156 has been recorded\n",
        "Motion in file"
       ]
      },
      {
       "output_type": "stream",
       "stream": "stdout",
       "text": [
        " 157 has been recorded\n",
        "Motion in file"
       ]
      },
      {
       "output_type": "stream",
       "stream": "stdout",
       "text": [
        " 158 has been recorded\n",
        "Motion in file"
       ]
      },
      {
       "output_type": "stream",
       "stream": "stdout",
       "text": [
        " 159 has been recorded\n",
        "Motion in file"
       ]
      },
      {
       "output_type": "stream",
       "stream": "stdout",
       "text": [
        " 160 has been recorded\n",
        "Motion in file"
       ]
      },
      {
       "output_type": "stream",
       "stream": "stdout",
       "text": [
        " 161 has been recorded\n",
        "Motion in file"
       ]
      },
      {
       "output_type": "stream",
       "stream": "stdout",
       "text": [
        " 162 has been recorded\n",
        "Motion in file"
       ]
      },
      {
       "output_type": "stream",
       "stream": "stdout",
       "text": [
        " 163 has been recorded\n",
        "Motion in file"
       ]
      },
      {
       "output_type": "stream",
       "stream": "stdout",
       "text": [
        " 164 has been recorded\n",
        "Motion in file"
       ]
      },
      {
       "output_type": "stream",
       "stream": "stdout",
       "text": [
        " 165 has been recorded\n",
        "Motion in file"
       ]
      },
      {
       "output_type": "stream",
       "stream": "stdout",
       "text": [
        " 166 has been recorded\n",
        "Motion in file"
       ]
      },
      {
       "output_type": "stream",
       "stream": "stdout",
       "text": [
        " 167 has been recorded\n",
        "Motion in file"
       ]
      },
      {
       "output_type": "stream",
       "stream": "stdout",
       "text": [
        " 168 has been recorded\n",
        "Motion in file"
       ]
      },
      {
       "output_type": "stream",
       "stream": "stdout",
       "text": [
        " 169 has been recorded\n",
        "Motion in file"
       ]
      },
      {
       "output_type": "stream",
       "stream": "stdout",
       "text": [
        " 170 has been recorded\n",
        "Motion in file"
       ]
      },
      {
       "output_type": "stream",
       "stream": "stdout",
       "text": [
        " 171 has been recorded\n",
        "Motion in file"
       ]
      },
      {
       "output_type": "stream",
       "stream": "stdout",
       "text": [
        " 172 has been recorded\n",
        "Motion in file"
       ]
      },
      {
       "output_type": "stream",
       "stream": "stdout",
       "text": [
        " 173 has been recorded\n",
        "Motion in file"
       ]
      },
      {
       "output_type": "stream",
       "stream": "stdout",
       "text": [
        " 174 has been recorded\n",
        "Motion in file"
       ]
      },
      {
       "output_type": "stream",
       "stream": "stdout",
       "text": [
        " 175 has been recorded\n",
        "Motion in file"
       ]
      },
      {
       "output_type": "stream",
       "stream": "stdout",
       "text": [
        " 176 has been recorded\n",
        "Motion in file"
       ]
      },
      {
       "output_type": "stream",
       "stream": "stdout",
       "text": [
        " 177 has been recorded\n",
        "Motion in file"
       ]
      },
      {
       "output_type": "stream",
       "stream": "stdout",
       "text": [
        " 178 has been recorded\n",
        "Motion in file"
       ]
      },
      {
       "output_type": "stream",
       "stream": "stdout",
       "text": [
        " 179 has been recorded\n",
        "Motion in file"
       ]
      },
      {
       "output_type": "stream",
       "stream": "stdout",
       "text": [
        " 180 has been recorded\n",
        "Motion in file"
       ]
      },
      {
       "output_type": "stream",
       "stream": "stdout",
       "text": [
        " 181 has been recorded\n",
        "Motion in file"
       ]
      },
      {
       "output_type": "stream",
       "stream": "stdout",
       "text": [
        " 182 has been recorded\n",
        "Motion in file"
       ]
      },
      {
       "output_type": "stream",
       "stream": "stdout",
       "text": [
        " 183 has been recorded\n",
        "Motion in file"
       ]
      },
      {
       "output_type": "stream",
       "stream": "stdout",
       "text": [
        " 184 has been recorded\n",
        "Motion in file"
       ]
      },
      {
       "output_type": "stream",
       "stream": "stdout",
       "text": [
        " 185 has been recorded\n",
        "Motion in file"
       ]
      },
      {
       "output_type": "stream",
       "stream": "stdout",
       "text": [
        " 186 has been recorded\n",
        "Motion in file"
       ]
      },
      {
       "output_type": "stream",
       "stream": "stdout",
       "text": [
        " 187 has been recorded\n",
        "Motion in file"
       ]
      },
      {
       "output_type": "stream",
       "stream": "stdout",
       "text": [
        " 188 has been recorded\n",
        "Motion in file"
       ]
      },
      {
       "output_type": "stream",
       "stream": "stdout",
       "text": [
        " 189 has been recorded\n",
        "Motion in file"
       ]
      },
      {
       "output_type": "stream",
       "stream": "stdout",
       "text": [
        " 190 has been recorded\n",
        "Motion in file"
       ]
      },
      {
       "output_type": "stream",
       "stream": "stdout",
       "text": [
        " 191 has been recorded\n",
        "Motion in file"
       ]
      },
      {
       "output_type": "stream",
       "stream": "stdout",
       "text": [
        " 192 has been recorded\n",
        "Motion in file"
       ]
      },
      {
       "output_type": "stream",
       "stream": "stdout",
       "text": [
        " 193 has been recorded\n",
        "Motion in file"
       ]
      },
      {
       "output_type": "stream",
       "stream": "stdout",
       "text": [
        " 194 has been recorded\n",
        "Motion in file"
       ]
      },
      {
       "output_type": "stream",
       "stream": "stdout",
       "text": [
        " 195 has been recorded\n",
        "Motion in file"
       ]
      },
      {
       "output_type": "stream",
       "stream": "stdout",
       "text": [
        " 196 has been recorded\n",
        "Motion in file"
       ]
      },
      {
       "output_type": "stream",
       "stream": "stdout",
       "text": [
        " 197 has been recorded\n",
        "Motion in file"
       ]
      },
      {
       "output_type": "stream",
       "stream": "stdout",
       "text": [
        " 198 has been recorded\n",
        "Displacement comparisons done\n"
       ]
      }
     ],
     "prompt_number": 4
    },
    {
     "cell_type": "code",
     "collapsed": false,
     "input": [
      "#creating a list of milk blob files\n",
      "files2 = []\n",
      "for i in range(1,201): \n",
      "    if i < 10: \n",
      "        files2.append(\"MilkBlobData/Naworski_T000\"+ str(i) +\".jpg\")\n",
      "    elif i < 100: \n",
      "        files2.append(\"MilkBlobData/Naworski_T00\"+ str(i) +\".jpg\")\n",
      "    else: \n",
      "        files2.append(\"MilkBlobData/Naworski_T0\"+ str(i) +\".jpg\")\n",
      "\n",
      "output_file = 'MilkBlobData.dat'\n",
      "brownian_motion_recorder(P, tau, delta_P, files2, output_file)\n",
      "print 'Displacement comparisons done'"
     ],
     "language": "python",
     "metadata": {},
     "outputs": [
      {
       "output_type": "stream",
       "stream": "stdout",
       "text": [
        "Motion in file 0 has been recorded\n",
        "Motion in file"
       ]
      },
      {
       "output_type": "stream",
       "stream": "stdout",
       "text": [
        " 1 has been recorded\n",
        "Motion in file"
       ]
      },
      {
       "output_type": "stream",
       "stream": "stdout",
       "text": [
        " 2 has been recorded\n",
        "Motion in file"
       ]
      },
      {
       "output_type": "stream",
       "stream": "stdout",
       "text": [
        " 3 has been recorded\n",
        "Motion in file"
       ]
      },
      {
       "output_type": "stream",
       "stream": "stdout",
       "text": [
        " 4 has been recorded\n",
        "Motion in file"
       ]
      },
      {
       "output_type": "stream",
       "stream": "stdout",
       "text": [
        " 5 has been recorded\n",
        "Motion in file"
       ]
      },
      {
       "output_type": "stream",
       "stream": "stdout",
       "text": [
        " 6 has been recorded\n",
        "Motion in file"
       ]
      },
      {
       "output_type": "stream",
       "stream": "stdout",
       "text": [
        " 7 has been recorded\n",
        "Motion in file"
       ]
      },
      {
       "output_type": "stream",
       "stream": "stdout",
       "text": [
        " 8 has been recorded\n",
        "Motion in file"
       ]
      },
      {
       "output_type": "stream",
       "stream": "stdout",
       "text": [
        " 9 has been recorded\n",
        "Motion in file"
       ]
      },
      {
       "output_type": "stream",
       "stream": "stdout",
       "text": [
        " 10 has been recorded\n",
        "Motion in file"
       ]
      },
      {
       "output_type": "stream",
       "stream": "stdout",
       "text": [
        " 11 has been recorded\n",
        "Motion in file"
       ]
      },
      {
       "output_type": "stream",
       "stream": "stdout",
       "text": [
        " 12 has been recorded\n",
        "Motion in file"
       ]
      },
      {
       "output_type": "stream",
       "stream": "stdout",
       "text": [
        " 13 has been recorded\n",
        "Motion in file"
       ]
      },
      {
       "output_type": "stream",
       "stream": "stdout",
       "text": [
        " 14 has been recorded\n",
        "Motion in file"
       ]
      },
      {
       "output_type": "stream",
       "stream": "stdout",
       "text": [
        " 15 has been recorded\n",
        "Motion in file"
       ]
      },
      {
       "output_type": "stream",
       "stream": "stdout",
       "text": [
        " 16 has been recorded\n",
        "Motion in file"
       ]
      },
      {
       "output_type": "stream",
       "stream": "stdout",
       "text": [
        " 17 has been recorded\n",
        "Motion in file"
       ]
      },
      {
       "output_type": "stream",
       "stream": "stdout",
       "text": [
        " 18 has been recorded\n",
        "Motion in file"
       ]
      },
      {
       "output_type": "stream",
       "stream": "stdout",
       "text": [
        " 19 has been recorded\n",
        "Motion in file"
       ]
      },
      {
       "output_type": "stream",
       "stream": "stdout",
       "text": [
        " 20 has been recorded\n",
        "Motion in file"
       ]
      },
      {
       "output_type": "stream",
       "stream": "stdout",
       "text": [
        " 21 has been recorded\n",
        "Motion in file"
       ]
      },
      {
       "output_type": "stream",
       "stream": "stdout",
       "text": [
        " 22 has been recorded\n",
        "Motion in file"
       ]
      },
      {
       "output_type": "stream",
       "stream": "stdout",
       "text": [
        " 23 has been recorded\n",
        "Motion in file"
       ]
      },
      {
       "output_type": "stream",
       "stream": "stdout",
       "text": [
        " 24 has been recorded\n",
        "Motion in file"
       ]
      },
      {
       "output_type": "stream",
       "stream": "stdout",
       "text": [
        " 25 has been recorded\n",
        "Motion in file"
       ]
      },
      {
       "output_type": "stream",
       "stream": "stdout",
       "text": [
        " 26 has been recorded\n",
        "Motion in file"
       ]
      },
      {
       "output_type": "stream",
       "stream": "stdout",
       "text": [
        " 27 has been recorded\n",
        "Motion in file"
       ]
      },
      {
       "output_type": "stream",
       "stream": "stdout",
       "text": [
        " 28 has been recorded\n",
        "Motion in file"
       ]
      },
      {
       "output_type": "stream",
       "stream": "stdout",
       "text": [
        " 29 has been recorded\n",
        "Motion in file"
       ]
      },
      {
       "output_type": "stream",
       "stream": "stdout",
       "text": [
        " 30 has been recorded\n",
        "Motion in file"
       ]
      },
      {
       "output_type": "stream",
       "stream": "stdout",
       "text": [
        " 31 has been recorded\n",
        "Motion in file"
       ]
      },
      {
       "output_type": "stream",
       "stream": "stdout",
       "text": [
        " 32 has been recorded\n",
        "Motion in file"
       ]
      },
      {
       "output_type": "stream",
       "stream": "stdout",
       "text": [
        " 33 has been recorded\n",
        "Motion in file"
       ]
      },
      {
       "output_type": "stream",
       "stream": "stdout",
       "text": [
        " 34 has been recorded\n",
        "Motion in file"
       ]
      },
      {
       "output_type": "stream",
       "stream": "stdout",
       "text": [
        " 35 has been recorded\n",
        "Motion in file"
       ]
      },
      {
       "output_type": "stream",
       "stream": "stdout",
       "text": [
        " 36 has been recorded\n",
        "Motion in file"
       ]
      },
      {
       "output_type": "stream",
       "stream": "stdout",
       "text": [
        " 37 has been recorded\n",
        "Motion in file"
       ]
      },
      {
       "output_type": "stream",
       "stream": "stdout",
       "text": [
        " 38 has been recorded\n",
        "Motion in file"
       ]
      },
      {
       "output_type": "stream",
       "stream": "stdout",
       "text": [
        " 39 has been recorded\n",
        "Motion in file"
       ]
      },
      {
       "output_type": "stream",
       "stream": "stdout",
       "text": [
        " 40 has been recorded\n",
        "Motion in file"
       ]
      },
      {
       "output_type": "stream",
       "stream": "stdout",
       "text": [
        " 41 has been recorded\n",
        "Motion in file"
       ]
      },
      {
       "output_type": "stream",
       "stream": "stdout",
       "text": [
        " 42 has been recorded\n",
        "Motion in file"
       ]
      },
      {
       "output_type": "stream",
       "stream": "stdout",
       "text": [
        " 43 has been recorded\n",
        "Motion in file"
       ]
      },
      {
       "output_type": "stream",
       "stream": "stdout",
       "text": [
        " 44 has been recorded\n",
        "Motion in file"
       ]
      },
      {
       "output_type": "stream",
       "stream": "stdout",
       "text": [
        " 45 has been recorded\n",
        "Motion in file"
       ]
      },
      {
       "output_type": "stream",
       "stream": "stdout",
       "text": [
        " 46 has been recorded\n",
        "Motion in file"
       ]
      },
      {
       "output_type": "stream",
       "stream": "stdout",
       "text": [
        " 47 has been recorded\n",
        "Motion in file"
       ]
      },
      {
       "output_type": "stream",
       "stream": "stdout",
       "text": [
        " 48 has been recorded\n",
        "Motion in file"
       ]
      },
      {
       "output_type": "stream",
       "stream": "stdout",
       "text": [
        " 49 has been recorded\n",
        "Motion in file"
       ]
      },
      {
       "output_type": "stream",
       "stream": "stdout",
       "text": [
        " 50 has been recorded\n",
        "Motion in file"
       ]
      },
      {
       "output_type": "stream",
       "stream": "stdout",
       "text": [
        " 51 has been recorded\n",
        "Motion in file"
       ]
      },
      {
       "output_type": "stream",
       "stream": "stdout",
       "text": [
        " 52 has been recorded\n",
        "Motion in file"
       ]
      },
      {
       "output_type": "stream",
       "stream": "stdout",
       "text": [
        " 53 has been recorded\n",
        "Motion in file"
       ]
      },
      {
       "output_type": "stream",
       "stream": "stdout",
       "text": [
        " 54 has been recorded\n",
        "Motion in file"
       ]
      },
      {
       "output_type": "stream",
       "stream": "stdout",
       "text": [
        " 55 has been recorded\n",
        "Motion in file"
       ]
      },
      {
       "output_type": "stream",
       "stream": "stdout",
       "text": [
        " 56 has been recorded\n",
        "Motion in file"
       ]
      },
      {
       "output_type": "stream",
       "stream": "stdout",
       "text": [
        " 57 has been recorded\n",
        "Motion in file"
       ]
      },
      {
       "output_type": "stream",
       "stream": "stdout",
       "text": [
        " 58 has been recorded\n",
        "Motion in file"
       ]
      },
      {
       "output_type": "stream",
       "stream": "stdout",
       "text": [
        " 59 has been recorded\n",
        "Motion in file"
       ]
      },
      {
       "output_type": "stream",
       "stream": "stdout",
       "text": [
        " 60 has been recorded\n",
        "Motion in file"
       ]
      },
      {
       "output_type": "stream",
       "stream": "stdout",
       "text": [
        " 61 has been recorded\n",
        "Motion in file"
       ]
      },
      {
       "output_type": "stream",
       "stream": "stdout",
       "text": [
        " 62 has been recorded\n",
        "Motion in file"
       ]
      },
      {
       "output_type": "stream",
       "stream": "stdout",
       "text": [
        " 63 has been recorded\n",
        "Motion in file"
       ]
      },
      {
       "output_type": "stream",
       "stream": "stdout",
       "text": [
        " 64 has been recorded\n",
        "Motion in file"
       ]
      },
      {
       "output_type": "stream",
       "stream": "stdout",
       "text": [
        " 65 has been recorded\n",
        "Motion in file"
       ]
      },
      {
       "output_type": "stream",
       "stream": "stdout",
       "text": [
        " 66 has been recorded\n",
        "Motion in file"
       ]
      },
      {
       "output_type": "stream",
       "stream": "stdout",
       "text": [
        " 67 has been recorded\n",
        "Motion in file"
       ]
      },
      {
       "output_type": "stream",
       "stream": "stdout",
       "text": [
        " 68 has been recorded\n",
        "Motion in file"
       ]
      },
      {
       "output_type": "stream",
       "stream": "stdout",
       "text": [
        " 69 has been recorded\n",
        "Motion in file"
       ]
      },
      {
       "output_type": "stream",
       "stream": "stdout",
       "text": [
        " 70 has been recorded\n",
        "Motion in file"
       ]
      },
      {
       "output_type": "stream",
       "stream": "stdout",
       "text": [
        " 71 has been recorded\n",
        "Motion in file"
       ]
      },
      {
       "output_type": "stream",
       "stream": "stdout",
       "text": [
        " 72 has been recorded\n",
        "Motion in file"
       ]
      },
      {
       "output_type": "stream",
       "stream": "stdout",
       "text": [
        " 73 has been recorded\n",
        "Motion in file"
       ]
      },
      {
       "output_type": "stream",
       "stream": "stdout",
       "text": [
        " 74 has been recorded\n",
        "Motion in file"
       ]
      },
      {
       "output_type": "stream",
       "stream": "stdout",
       "text": [
        " 75 has been recorded\n",
        "Motion in file"
       ]
      },
      {
       "output_type": "stream",
       "stream": "stdout",
       "text": [
        " 76 has been recorded\n",
        "Motion in file"
       ]
      },
      {
       "output_type": "stream",
       "stream": "stdout",
       "text": [
        " 77 has been recorded\n",
        "Motion in file"
       ]
      },
      {
       "output_type": "stream",
       "stream": "stdout",
       "text": [
        " 78 has been recorded\n",
        "Motion in file"
       ]
      },
      {
       "output_type": "stream",
       "stream": "stdout",
       "text": [
        " 79 has been recorded\n",
        "Motion in file"
       ]
      },
      {
       "output_type": "stream",
       "stream": "stdout",
       "text": [
        " 80 has been recorded\n",
        "Motion in file"
       ]
      },
      {
       "output_type": "stream",
       "stream": "stdout",
       "text": [
        " 81 has been recorded\n",
        "Motion in file"
       ]
      },
      {
       "output_type": "stream",
       "stream": "stdout",
       "text": [
        " 82 has been recorded\n",
        "Motion in file"
       ]
      },
      {
       "output_type": "stream",
       "stream": "stdout",
       "text": [
        " 83 has been recorded\n",
        "Motion in file"
       ]
      },
      {
       "output_type": "stream",
       "stream": "stdout",
       "text": [
        " 84 has been recorded\n",
        "Motion in file"
       ]
      },
      {
       "output_type": "stream",
       "stream": "stdout",
       "text": [
        " 85 has been recorded\n",
        "Motion in file"
       ]
      },
      {
       "output_type": "stream",
       "stream": "stdout",
       "text": [
        " 86 has been recorded\n",
        "Motion in file"
       ]
      },
      {
       "output_type": "stream",
       "stream": "stdout",
       "text": [
        " 87 has been recorded\n",
        "Motion in file"
       ]
      },
      {
       "output_type": "stream",
       "stream": "stdout",
       "text": [
        " 88 has been recorded\n",
        "Motion in file"
       ]
      },
      {
       "output_type": "stream",
       "stream": "stdout",
       "text": [
        " 89 has been recorded\n",
        "Motion in file"
       ]
      },
      {
       "output_type": "stream",
       "stream": "stdout",
       "text": [
        " 90 has been recorded\n",
        "Motion in file"
       ]
      },
      {
       "output_type": "stream",
       "stream": "stdout",
       "text": [
        " 91 has been recorded\n",
        "Motion in file"
       ]
      },
      {
       "output_type": "stream",
       "stream": "stdout",
       "text": [
        " 92 has been recorded\n",
        "Motion in file"
       ]
      },
      {
       "output_type": "stream",
       "stream": "stdout",
       "text": [
        " 93 has been recorded\n",
        "Motion in file"
       ]
      },
      {
       "output_type": "stream",
       "stream": "stdout",
       "text": [
        " 94 has been recorded\n",
        "Motion in file"
       ]
      },
      {
       "output_type": "stream",
       "stream": "stdout",
       "text": [
        " 95 has been recorded\n",
        "Motion in file"
       ]
      },
      {
       "output_type": "stream",
       "stream": "stdout",
       "text": [
        " 96 has been recorded\n",
        "Motion in file"
       ]
      },
      {
       "output_type": "stream",
       "stream": "stdout",
       "text": [
        " 97 has been recorded\n",
        "Motion in file"
       ]
      },
      {
       "output_type": "stream",
       "stream": "stdout",
       "text": [
        " 98 has been recorded\n",
        "Motion in file"
       ]
      },
      {
       "output_type": "stream",
       "stream": "stdout",
       "text": [
        " 99 has been recorded\n",
        "Motion in file"
       ]
      },
      {
       "output_type": "stream",
       "stream": "stdout",
       "text": [
        " 100 has been recorded\n",
        "Motion in file"
       ]
      },
      {
       "output_type": "stream",
       "stream": "stdout",
       "text": [
        " 101 has been recorded\n",
        "Motion in file"
       ]
      },
      {
       "output_type": "stream",
       "stream": "stdout",
       "text": [
        " 102 has been recorded\n",
        "Motion in file"
       ]
      },
      {
       "output_type": "stream",
       "stream": "stdout",
       "text": [
        " 103 has been recorded\n",
        "Motion in file"
       ]
      },
      {
       "output_type": "stream",
       "stream": "stdout",
       "text": [
        " 104 has been recorded\n",
        "Motion in file"
       ]
      },
      {
       "output_type": "stream",
       "stream": "stdout",
       "text": [
        " 105 has been recorded\n",
        "Motion in file"
       ]
      },
      {
       "output_type": "stream",
       "stream": "stdout",
       "text": [
        " 106 has been recorded\n",
        "Motion in file"
       ]
      },
      {
       "output_type": "stream",
       "stream": "stdout",
       "text": [
        " 107 has been recorded\n",
        "Motion in file"
       ]
      },
      {
       "output_type": "stream",
       "stream": "stdout",
       "text": [
        " 108 has been recorded\n",
        "Motion in file"
       ]
      },
      {
       "output_type": "stream",
       "stream": "stdout",
       "text": [
        " 109 has been recorded\n",
        "Motion in file"
       ]
      },
      {
       "output_type": "stream",
       "stream": "stdout",
       "text": [
        " 110 has been recorded\n",
        "Motion in file"
       ]
      },
      {
       "output_type": "stream",
       "stream": "stdout",
       "text": [
        " 111 has been recorded\n",
        "Motion in file"
       ]
      },
      {
       "output_type": "stream",
       "stream": "stdout",
       "text": [
        " 112 has been recorded\n",
        "Motion in file"
       ]
      },
      {
       "output_type": "stream",
       "stream": "stdout",
       "text": [
        " 113 has been recorded\n",
        "Motion in file"
       ]
      },
      {
       "output_type": "stream",
       "stream": "stdout",
       "text": [
        " 114 has been recorded\n",
        "Motion in file"
       ]
      },
      {
       "output_type": "stream",
       "stream": "stdout",
       "text": [
        " 115 has been recorded\n",
        "Motion in file"
       ]
      },
      {
       "output_type": "stream",
       "stream": "stdout",
       "text": [
        " 116 has been recorded\n",
        "Motion in file"
       ]
      },
      {
       "output_type": "stream",
       "stream": "stdout",
       "text": [
        " 117 has been recorded\n",
        "Motion in file"
       ]
      },
      {
       "output_type": "stream",
       "stream": "stdout",
       "text": [
        " 118 has been recorded\n",
        "Motion in file"
       ]
      },
      {
       "output_type": "stream",
       "stream": "stdout",
       "text": [
        " 119 has been recorded\n",
        "Motion in file"
       ]
      },
      {
       "output_type": "stream",
       "stream": "stdout",
       "text": [
        " 120 has been recorded\n",
        "Motion in file"
       ]
      },
      {
       "output_type": "stream",
       "stream": "stdout",
       "text": [
        " 121 has been recorded\n",
        "Motion in file"
       ]
      },
      {
       "output_type": "stream",
       "stream": "stdout",
       "text": [
        " 122 has been recorded\n",
        "Motion in file"
       ]
      },
      {
       "output_type": "stream",
       "stream": "stdout",
       "text": [
        " 123 has been recorded\n",
        "Motion in file"
       ]
      },
      {
       "output_type": "stream",
       "stream": "stdout",
       "text": [
        " 124 has been recorded\n",
        "Motion in file"
       ]
      },
      {
       "output_type": "stream",
       "stream": "stdout",
       "text": [
        " 125 has been recorded\n",
        "Motion in file"
       ]
      },
      {
       "output_type": "stream",
       "stream": "stdout",
       "text": [
        " 126 has been recorded\n",
        "Motion in file"
       ]
      },
      {
       "output_type": "stream",
       "stream": "stdout",
       "text": [
        " 127 has been recorded\n",
        "Motion in file"
       ]
      },
      {
       "output_type": "stream",
       "stream": "stdout",
       "text": [
        " 128 has been recorded\n",
        "Motion in file"
       ]
      },
      {
       "output_type": "stream",
       "stream": "stdout",
       "text": [
        " 129 has been recorded\n",
        "Motion in file"
       ]
      },
      {
       "output_type": "stream",
       "stream": "stdout",
       "text": [
        " 130 has been recorded\n",
        "Motion in file"
       ]
      },
      {
       "output_type": "stream",
       "stream": "stdout",
       "text": [
        " 131 has been recorded\n",
        "Motion in file"
       ]
      },
      {
       "output_type": "stream",
       "stream": "stdout",
       "text": [
        " 132 has been recorded\n",
        "Motion in file"
       ]
      },
      {
       "output_type": "stream",
       "stream": "stdout",
       "text": [
        " 133 has been recorded\n",
        "Motion in file"
       ]
      },
      {
       "output_type": "stream",
       "stream": "stdout",
       "text": [
        " 134 has been recorded\n",
        "Motion in file"
       ]
      },
      {
       "output_type": "stream",
       "stream": "stdout",
       "text": [
        " 135 has been recorded\n",
        "Motion in file"
       ]
      },
      {
       "output_type": "stream",
       "stream": "stdout",
       "text": [
        " 136 has been recorded\n",
        "Motion in file"
       ]
      },
      {
       "output_type": "stream",
       "stream": "stdout",
       "text": [
        " 137 has been recorded\n",
        "Motion in file"
       ]
      },
      {
       "output_type": "stream",
       "stream": "stdout",
       "text": [
        " 138 has been recorded\n",
        "Motion in file"
       ]
      },
      {
       "output_type": "stream",
       "stream": "stdout",
       "text": [
        " 139 has been recorded\n",
        "Motion in file"
       ]
      },
      {
       "output_type": "stream",
       "stream": "stdout",
       "text": [
        " 140 has been recorded\n",
        "Motion in file"
       ]
      },
      {
       "output_type": "stream",
       "stream": "stdout",
       "text": [
        " 141 has been recorded\n",
        "Motion in file"
       ]
      },
      {
       "output_type": "stream",
       "stream": "stdout",
       "text": [
        " 142 has been recorded\n",
        "Motion in file"
       ]
      },
      {
       "output_type": "stream",
       "stream": "stdout",
       "text": [
        " 143 has been recorded\n",
        "Motion in file"
       ]
      },
      {
       "output_type": "stream",
       "stream": "stdout",
       "text": [
        " 144 has been recorded\n",
        "Motion in file"
       ]
      },
      {
       "output_type": "stream",
       "stream": "stdout",
       "text": [
        " 145 has been recorded\n",
        "Motion in file"
       ]
      },
      {
       "output_type": "stream",
       "stream": "stdout",
       "text": [
        " 146 has been recorded\n",
        "Motion in file"
       ]
      },
      {
       "output_type": "stream",
       "stream": "stdout",
       "text": [
        " 147 has been recorded\n",
        "Motion in file"
       ]
      },
      {
       "output_type": "stream",
       "stream": "stdout",
       "text": [
        " 148 has been recorded\n",
        "Motion in file"
       ]
      },
      {
       "output_type": "stream",
       "stream": "stdout",
       "text": [
        " 149 has been recorded\n",
        "Motion in file"
       ]
      },
      {
       "output_type": "stream",
       "stream": "stdout",
       "text": [
        " 150 has been recorded\n",
        "Motion in file"
       ]
      },
      {
       "output_type": "stream",
       "stream": "stdout",
       "text": [
        " 151 has been recorded\n",
        "Motion in file"
       ]
      },
      {
       "output_type": "stream",
       "stream": "stdout",
       "text": [
        " 152 has been recorded\n",
        "Motion in file"
       ]
      },
      {
       "output_type": "stream",
       "stream": "stdout",
       "text": [
        " 153 has been recorded\n",
        "Motion in file"
       ]
      },
      {
       "output_type": "stream",
       "stream": "stdout",
       "text": [
        " 154 has been recorded\n",
        "Motion in file"
       ]
      },
      {
       "output_type": "stream",
       "stream": "stdout",
       "text": [
        " 155 has been recorded\n",
        "Motion in file"
       ]
      },
      {
       "output_type": "stream",
       "stream": "stdout",
       "text": [
        " 156 has been recorded\n",
        "Motion in file"
       ]
      },
      {
       "output_type": "stream",
       "stream": "stdout",
       "text": [
        " 157 has been recorded\n",
        "Motion in file"
       ]
      },
      {
       "output_type": "stream",
       "stream": "stdout",
       "text": [
        " 158 has been recorded\n",
        "Motion in file"
       ]
      },
      {
       "output_type": "stream",
       "stream": "stdout",
       "text": [
        " 159 has been recorded\n",
        "Motion in file"
       ]
      },
      {
       "output_type": "stream",
       "stream": "stdout",
       "text": [
        " 160 has been recorded\n",
        "Motion in file"
       ]
      },
      {
       "output_type": "stream",
       "stream": "stdout",
       "text": [
        " 161 has been recorded\n",
        "Motion in file"
       ]
      },
      {
       "output_type": "stream",
       "stream": "stdout",
       "text": [
        " 162 has been recorded\n",
        "Motion in file"
       ]
      },
      {
       "output_type": "stream",
       "stream": "stdout",
       "text": [
        " 163 has been recorded\n",
        "Motion in file"
       ]
      },
      {
       "output_type": "stream",
       "stream": "stdout",
       "text": [
        " 164 has been recorded\n",
        "Motion in file"
       ]
      },
      {
       "output_type": "stream",
       "stream": "stdout",
       "text": [
        " 165 has been recorded\n",
        "Motion in file"
       ]
      },
      {
       "output_type": "stream",
       "stream": "stdout",
       "text": [
        " 166 has been recorded\n",
        "Motion in file"
       ]
      },
      {
       "output_type": "stream",
       "stream": "stdout",
       "text": [
        " 167 has been recorded\n",
        "Motion in file"
       ]
      },
      {
       "output_type": "stream",
       "stream": "stdout",
       "text": [
        " 168 has been recorded\n",
        "Motion in file"
       ]
      },
      {
       "output_type": "stream",
       "stream": "stdout",
       "text": [
        " 169 has been recorded\n",
        "Motion in file"
       ]
      },
      {
       "output_type": "stream",
       "stream": "stdout",
       "text": [
        " 170 has been recorded\n",
        "Motion in file"
       ]
      },
      {
       "output_type": "stream",
       "stream": "stdout",
       "text": [
        " 171 has been recorded\n",
        "Motion in file"
       ]
      },
      {
       "output_type": "stream",
       "stream": "stdout",
       "text": [
        " 172 has been recorded\n",
        "Motion in file"
       ]
      },
      {
       "output_type": "stream",
       "stream": "stdout",
       "text": [
        " 173 has been recorded\n",
        "Motion in file"
       ]
      },
      {
       "output_type": "stream",
       "stream": "stdout",
       "text": [
        " 174 has been recorded\n",
        "Motion in file"
       ]
      },
      {
       "output_type": "stream",
       "stream": "stdout",
       "text": [
        " 175 has been recorded\n",
        "Motion in file"
       ]
      },
      {
       "output_type": "stream",
       "stream": "stdout",
       "text": [
        " 176 has been recorded\n",
        "Motion in file"
       ]
      },
      {
       "output_type": "stream",
       "stream": "stdout",
       "text": [
        " 177 has been recorded\n",
        "Motion in file"
       ]
      },
      {
       "output_type": "stream",
       "stream": "stdout",
       "text": [
        " 178 has been recorded\n",
        "Motion in file"
       ]
      },
      {
       "output_type": "stream",
       "stream": "stdout",
       "text": [
        " 179 has been recorded\n",
        "Motion in file"
       ]
      },
      {
       "output_type": "stream",
       "stream": "stdout",
       "text": [
        " 180 has been recorded\n",
        "Motion in file"
       ]
      },
      {
       "output_type": "stream",
       "stream": "stdout",
       "text": [
        " 181 has been recorded\n",
        "Motion in file"
       ]
      },
      {
       "output_type": "stream",
       "stream": "stdout",
       "text": [
        " 182 has been recorded\n",
        "Motion in file"
       ]
      },
      {
       "output_type": "stream",
       "stream": "stdout",
       "text": [
        " 183 has been recorded\n",
        "Motion in file"
       ]
      },
      {
       "output_type": "stream",
       "stream": "stdout",
       "text": [
        " 184 has been recorded\n",
        "Motion in file"
       ]
      },
      {
       "output_type": "stream",
       "stream": "stdout",
       "text": [
        " 185 has been recorded\n",
        "Motion in file"
       ]
      },
      {
       "output_type": "stream",
       "stream": "stdout",
       "text": [
        " 186 has been recorded\n",
        "Motion in file"
       ]
      },
      {
       "output_type": "stream",
       "stream": "stdout",
       "text": [
        " 187 has been recorded\n",
        "Motion in file"
       ]
      },
      {
       "output_type": "stream",
       "stream": "stdout",
       "text": [
        " 188 has been recorded\n",
        "Motion in file"
       ]
      },
      {
       "output_type": "stream",
       "stream": "stdout",
       "text": [
        " 189 has been recorded\n",
        "Motion in file"
       ]
      },
      {
       "output_type": "stream",
       "stream": "stdout",
       "text": [
        " 190 has been recorded\n",
        "Motion in file"
       ]
      },
      {
       "output_type": "stream",
       "stream": "stdout",
       "text": [
        " 191 has been recorded\n",
        "Motion in file"
       ]
      },
      {
       "output_type": "stream",
       "stream": "stdout",
       "text": [
        " 192 has been recorded\n",
        "Motion in file"
       ]
      },
      {
       "output_type": "stream",
       "stream": "stdout",
       "text": [
        " 193 has been recorded\n",
        "Motion in file"
       ]
      },
      {
       "output_type": "stream",
       "stream": "stdout",
       "text": [
        " 194 has been recorded\n",
        "Motion in file"
       ]
      },
      {
       "output_type": "stream",
       "stream": "stdout",
       "text": [
        " 195 has been recorded\n",
        "Motion in file"
       ]
      },
      {
       "output_type": "stream",
       "stream": "stdout",
       "text": [
        " 196 has been recorded\n",
        "Motion in file"
       ]
      },
      {
       "output_type": "stream",
       "stream": "stdout",
       "text": [
        " 197 has been recorded\n",
        "Motion in file"
       ]
      },
      {
       "output_type": "stream",
       "stream": "stdout",
       "text": [
        " 198 has been recorded\n",
        "Displacement comparisons done\n"
       ]
      }
     ],
     "prompt_number": 41
    },
    {
     "cell_type": "heading",
     "level": 2,
     "metadata": {},
     "source": [
      "Data Analysis"
     ]
    },
    {
     "cell_type": "code",
     "collapsed": false,
     "input": [
      "#Calculating Avogadro's number, Boltzmann's constant, and the average displacement from frame to frame\n",
      "def Data_analysis(run_data):\n",
      "    \"\"\"reads in displacements from run data files, computes avg. displacement,\n",
      "    estimates Boltzmann's constant, and Avogadro's number, then prints the results\"\"\"\n",
      "    def self_diffusion(run_data): #sum of squared radial displacements divided by double the size of the blobs\n",
      "        sd = np.loadtxt(run_data)\n",
      "        sd *= 0.175 * (10**-6) #converting pixels to meters\n",
      "        return (sd**2).sum() / (2*sd.size)\n",
      "    \n",
      "    def Boltzmann_estimate(run_data):\n",
      "        T = 297 #room temp in Kelvin\n",
      "        n = 9.135 * (10**-4) #viscosity of water at room temp\n",
      "        r = 0.5 *(10**-6) #radius in meters\n",
      "        Boltzmann = 6*np.pi*n*r*self_diffusion(run_data) / T\n",
      "        return Boltzmann\n",
      "    \n",
      "    def Avogadro_estimate(run_data):\n",
      "        R = 8.31457 #J/k*mol\n",
      "        k = Boltzmann_estimate(run_data)\n",
      "        Avogadro = R / k\n",
      "        return Avogadro\n",
      "\n",
      "\n",
      "    D = self_diffusion(run_data)\n",
      "    B = Boltzmann_estimate(run_data)\n",
      "    A = Avogadro_estimate(run_data)\n",
      "    \n",
      "    print \"These are the estimated values from Run5 Sample data:\"\n",
      "    print \"The average displacement is\",\"{0:.4e}\".format(D), \"meters per pixel\"\n",
      "    print \"Boltzmann's constant = \", \"{0:.4e}\".format(B), \"Joules per Kelvin\"\n",
      "    print \"Avogadro's number = \", \"{0:.4e}\".format(A), \"molecules per mole\""
     ],
     "language": "python",
     "metadata": {},
     "outputs": [],
     "prompt_number": 37
    },
    {
     "cell_type": "code",
     "collapsed": false,
     "input": [
      "Data_analysis('Run5.dat')"
     ],
     "language": "python",
     "metadata": {},
     "outputs": [
      {
       "output_type": "stream",
       "stream": "stdout",
       "text": [
        "These are the estimated values from Run5 Sample data:\n",
        "The average displacement is 1.0316e-12 meters per pixel\n",
        "Boltzmann's constant =  2.9905e-23 Joules per Kelvin\n",
        "Avogadro's number =  2.7803e+23 molecules per mole\n"
       ]
      }
     ],
     "prompt_number": 38
    },
    {
     "cell_type": "code",
     "collapsed": false,
     "input": [
      "Data_analysis('MilkBlobData.dat')"
     ],
     "language": "python",
     "metadata": {},
     "outputs": [
      {
       "output_type": "stream",
       "stream": "stdout",
       "text": [
        "These are the estimated values from Run5 Sample data:\n",
        "The average displacement is 3.8473e-13 meters per pixel\n",
        "Boltzmann's constant =  1.1153e-23 Joules per Kelvin\n",
        "Avogadro's number =  7.4553e+23 molecules per mole\n"
       ]
      }
     ],
     "prompt_number": 42
    },
    {
     "cell_type": "code",
     "collapsed": false,
     "input": [],
     "language": "python",
     "metadata": {},
     "outputs": []
    }
   ],
   "metadata": {}
  }
 ]
}