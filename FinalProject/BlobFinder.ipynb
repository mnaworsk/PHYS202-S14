{
 "metadata": {
  "name": "",
  "signature": "sha256:151ba3ccbaa3e33a2361d38098ef713197316e8ee86142f174436d15e8fca90e"
 },
 "nbformat": 3,
 "nbformat_minor": 0,
 "worksheets": [
  {
   "cells": [
    {
     "cell_type": "heading",
     "level": 1,
     "metadata": {},
     "source": [
      "Blob Finder"
     ]
    },
    {
     "cell_type": "code",
     "collapsed": false,
     "input": [
      "%pylab inline\n",
      "import numpy as np\n",
      "import matplotlib.pyplot as plt\n",
      "from PIL import Image\n",
      "import requests\n",
      "from StringIO import StringIO\n",
      "\n",
      "BLACK = (0,0,0)\n",
      "RED = (25,0,0)\n",
      "WHITE = (255,255,255)\n",
      "pix = 0\n",
      "\n",
      "class Blob(): \n",
      "    def __init__(self,blob): \n",
      "        self.blob = []\n",
      "    def add(self, i, j): \n",
      "        self.blob.append[(i,j)]\n",
      "    def mass(): \n",
      "        return len(self,blob)\n",
      "    def distanceTo(s): "
     ],
     "language": "python",
     "metadata": {},
     "outputs": [
      {
       "output_type": "stream",
       "stream": "stdout",
       "text": [
        "Populating the interactive namespace from numpy and matplotlib\n"
       ]
      }
     ],
     "prompt_number": 6
    },
    {
     "cell_type": "code",
     "collapsed": false,
     "input": [
      "def BlobFinder(picture, tau):\n",
      "    '''find all blobs in the picture using the luminance threshold tau'''\n",
      "    \n",
      "def countBeads(P):\n",
      "    '''return the number of beads with >= P pixels'''\n",
      "\n",
      "def getBeads(P):\n",
      "    '''return all beads with >= P pixels'''"
     ],
     "language": "python",
     "metadata": {},
     "outputs": []
    },
    {
     "cell_type": "code",
     "collapsed": false,
     "input": [
      "Blob.blob = [1,2]\n",
      "print Blob.blob"
     ],
     "language": "python",
     "metadata": {},
     "outputs": [
      {
       "output_type": "stream",
       "stream": "stdout",
       "text": [
        "[1, 2]\n"
       ]
      }
     ],
     "prompt_number": 9
    },
    {
     "cell_type": "code",
     "collapsed": false,
     "input": [],
     "language": "python",
     "metadata": {},
     "outputs": []
    }
   ],
   "metadata": {}
  }
 ]
}