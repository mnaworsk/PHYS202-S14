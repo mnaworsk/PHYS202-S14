{
 "metadata": {
  "name": "",
  "signature": "sha256:f7ac6ed2d6de1326d86214e802e10ad5c00b402f36116015403cafc1c3f38039"
 },
 "nbformat": 3,
 "nbformat_minor": 0,
 "worksheets": [
  {
   "cells": [
    {
     "cell_type": "heading",
     "level": 1,
     "metadata": {},
     "source": [
      "Data I/O Exercises"
     ]
    },
    {
     "cell_type": "code",
     "collapsed": false,
     "input": [
      "%pylab inline\n",
      "import numpy as np"
     ],
     "language": "python",
     "metadata": {},
     "outputs": [
      {
       "output_type": "stream",
       "stream": "stdout",
       "text": [
        "Populating the interactive namespace from numpy and matplotlib\n"
       ]
      }
     ],
     "prompt_number": 2
    },
    {
     "cell_type": "markdown",
     "metadata": {},
     "source": [
      "1. Here is some code that creates a comma-delimited file of numbers with random precision, leading spaces, and formatting:"
     ]
    },
    {
     "cell_type": "code",
     "collapsed": false,
     "input": [
      "f = open('messy_data.dat', 'w')\n",
      "import random\n",
      "for i in range(100): \n",
      "    for j in range(5): \n",
      "        f.write(' ' * random.randint(0, 6))\n",
      "        f.write('%0*.*g' % (random.randint(8, 12),\n",
      "                            random.randint(5, 10), \n",
      "                            100 * random.random()))\n",
      "        if j != 4: \n",
      "            f.write(',')\n",
      "    f.write('\\n')\n",
      "f.close()"
     ],
     "language": "python",
     "metadata": {},
     "outputs": [],
     "prompt_number": 3
    },
    {
     "cell_type": "code",
     "collapsed": false,
     "input": [
      "#Look at the first 4 lines of the file: \n",
      "!head -4 messy_data.dat"
     ],
     "language": "python",
     "metadata": {},
     "outputs": [
      {
       "output_type": "stream",
       "stream": "stdout",
       "text": [
        "     7.833145332,   0000042.074, 6.3514317,     75.22377676,     00021.739313\r\n",
        "      000061.5222,  76.9097318,     0053.516,  094.5651,000096.0384\r\n",
        "037.52069,   00045.6338,   57.0738708,   042.66466,     067.9482\r\n",
        "    061.4200166,      000085.011,  23.673384,     11.1578853, 00059.837088\r\n"
       ]
      }
     ],
     "prompt_number": 4
    },
    {
     "cell_type": "markdown",
     "metadata": {},
     "source": [
      "(a) Write a program that reads in the contents of \"messy_data.dat\" and extracts the numbers from each line, using the string manipulations we used in section 1 (remember that float() will convert a suitable string to a floating-point number)."
     ]
    },
    {
     "cell_type": "code",
     "collapsed": false,
     "input": [],
     "language": "python",
     "metadata": {},
     "outputs": [],
     "prompt_number": 4
    },
    {
     "cell_type": "markdown",
     "metadata": {},
     "source": [
      "(b) Next write out a new file named \"clean_data.dat\". The new file should contain the same data as the old file, but with uniform formatting and aligned columns."
     ]
    },
    {
     "cell_type": "code",
     "collapsed": false,
     "input": [],
     "language": "python",
     "metadata": {},
     "outputs": [],
     "prompt_number": 4
    },
    {
     "cell_type": "markdown",
     "metadata": {},
     "source": [
      "(c) Now re-do the same task using NumPy's loadtxt and savetxt functions."
     ]
    },
    {
     "cell_type": "code",
     "collapsed": false,
     "input": [
      "f = np.arange(100).reshape(20,5)\n",
      "np.savetxt('clean_data.dat', f, fmt='%.2e')\n",
      "!cat clean_data.dat\n",
      "\n",
      "DataIn = np.loadtxt('clean_data.dat', unpack=True)\n",
      "print DataIn.shape\n",
      "print DataIn"
     ],
     "language": "python",
     "metadata": {},
     "outputs": [
      {
       "output_type": "stream",
       "stream": "stdout",
       "text": [
        "0.00e+00 1.00e+00 2.00e+00 3.00e+00 4.00e+00\r\n",
        "5.00e+00 6.00e+00 7.00e+00 8.00e+00 9.00e+00\r\n",
        "1.00e+01 1.10e+01 1.20e+01 1.30e+01 1.40e+01\r\n",
        "1.50e+01 1.60e+01 1.70e+01 1.80e+01 1.90e+01\r\n",
        "2.00e+01 2.10e+01 2.20e+01 2.30e+01 2.40e+01\r\n",
        "2.50e+01 2.60e+01 2.70e+01 2.80e+01 2.90e+01\r\n",
        "3.00e+01 3.10e+01 3.20e+01 3.30e+01 3.40e+01\r\n",
        "3.50e+01 3.60e+01 3.70e+01 3.80e+01 3.90e+01\r\n",
        "4.00e+01 4.10e+01 4.20e+01 4.30e+01 4.40e+01\r\n",
        "4.50e+01 4.60e+01 4.70e+01 4.80e+01 4.90e+01\r\n",
        "5.00e+01 5.10e+01 5.20e+01 5.30e+01 5.40e+01\r\n",
        "5.50e+01 5.60e+01 5.70e+01 5.80e+01 5.90e+01\r\n",
        "6.00e+01 6.10e+01 6.20e+01 6.30e+01 6.40e+01\r\n",
        "6.50e+01 6.60e+01 6.70e+01 6.80e+01 6.90e+01\r\n",
        "7.00e+01 7.10e+01 7.20e+01 7.30e+01 7.40e+01\r\n",
        "7.50e+01 7.60e+01 7.70e+01 7.80e+01 7.90e+01\r\n",
        "8.00e+01 8.10e+01 8.20e+01 8.30e+01 8.40e+01\r\n",
        "8.50e+01 8.60e+01 8.70e+01 8.80e+01 8.90e+01\r\n",
        "9.00e+01 9.10e+01 9.20e+01 9.30e+01 9.40e+01\r\n",
        "9.50e+01 9.60e+01 9.70e+01 9.80e+01 9.90e+01\r\n"
       ]
      },
      {
       "output_type": "stream",
       "stream": "stdout",
       "text": [
        "(5, 20)\n",
        "[[  0.   5.  10.  15.  20.  25.  30.  35.  40.  45.  50.  55.  60.  65.\n",
        "   70.  75.  80.  85.  90.  95.]\n",
        " [  1.   6.  11.  16.  21.  26.  31.  36.  41.  46.  51.  56.  61.  66.\n",
        "   71.  76.  81.  86.  91.  96.]\n",
        " [  2.   7.  12.  17.  22.  27.  32.  37.  42.  47.  52.  57.  62.  67.\n",
        "   72.  77.  82.  87.  92.  97.]\n",
        " [  3.   8.  13.  18.  23.  28.  33.  38.  43.  48.  53.  58.  63.  68.\n",
        "   73.  78.  83.  88.  93.  98.]\n",
        " [  4.   9.  14.  19.  24.  29.  34.  39.  44.  49.  54.  59.  64.  69.\n",
        "   74.  79.  84.  89.  94.  99.]]\n"
       ]
      }
     ],
     "prompt_number": 32
    }
   ],
   "metadata": {}
  }
 ]
}