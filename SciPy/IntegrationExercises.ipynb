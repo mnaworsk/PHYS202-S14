{
 "metadata": {
  "name": "",
  "signature": "sha256:3dcfa851987488fe190e1d6baae5f5541e2cfe61b37da44091bba473ec926fa0"
 },
 "nbformat": 3,
 "nbformat_minor": 0,
 "worksheets": [
  {
   "cells": [
    {
     "cell_type": "markdown",
     "metadata": {},
     "source": [
      "Driver: Mary Naworski \n",
      "    \n",
      "Navigator: Devin Vaage"
     ]
    },
    {
     "cell_type": "heading",
     "level": 1,
     "metadata": {},
     "source": [
      "Integration Exercises"
     ]
    },
    {
     "cell_type": "code",
     "collapsed": false,
     "input": [
      "%pylab inline\n",
      "import numpy as np\n",
      "import matplotlib.pyplot as plt"
     ],
     "language": "python",
     "metadata": {},
     "outputs": [
      {
       "output_type": "stream",
       "stream": "stdout",
       "text": [
        "Populating the interactive namespace from numpy and matplotlib\n"
       ]
      }
     ],
     "prompt_number": 1
    },
    {
     "cell_type": "heading",
     "level": 2,
     "metadata": {},
     "source": [
      "Question 1"
     ]
    },
    {
     "cell_type": "markdown",
     "metadata": {},
     "source": [
      "Question 1\n",
      "(a) Write two functions trapz(func,a,b,N) and simps(func,a,b,N) to compute the integral of the function func over the variable x using the trapezoidal rule and Simpson's rule to a file called Integrators.py. Do not use the scipy.integrate built-in functions. Include docstrings with each function that describe what they do. Then import the module and use the functions to answer the following questions. To avoid namespace conflicts, import your module as myint and then call the functions from that namespace. i.e.\n",
      "    import integrators as myint\n",
      "    #...your code...here\n",
      "    I = myint.trapz(func,a,b,N)\n",
      "Also, be sure that you import any needed modules inside your Integrators.py file."
     ]
    },
    {
     "cell_type": "code",
     "collapsed": false,
     "input": [
      "%%file Integrators.py\n",
      "\n",
      "import numpy as np\n",
      "\n",
      "def trapz(func, a, b, N): \n",
      "    \"\"\"this function claculates an integral by approximating the area with\n",
      "    trapezoidal pieces\"\"\" \n",
      "    h = (b-a)/N\n",
      "    \n",
      "    k = np.arange(1,N)\n",
      "    I = h*(0.5*func(a) + 0.5*func(b) + func(a+k*h).sum())\n",
      "    return I\n",
      "\n",
      "def simps(func, a, b, N): \n",
      "    \"\"\"this function calculates an integral with quadratic curves. \n",
      "    It is a closer approximation that the trapezoidal rule.\"\"\"\n",
      "    h = (b-a)/N\n",
      "    \n",
      "    k1 = np.arange(1,N/2+1)\n",
      "    k2 = np.arange(1,N/2)\n",
      "    I = I = (1./3.)*h*(func(a) + func(b) + 4.*func(a+(2*k1-1)*h).sum() + 2.*func(a+2*k2*h).sum())\n",
      "    \n",
      "    return I"
     ],
     "language": "python",
     "metadata": {},
     "outputs": [
      {
       "output_type": "stream",
       "stream": "stdout",
       "text": [
        "Overwriting Integrators.py\n"
       ]
      }
     ],
     "prompt_number": 2
    },
    {
     "cell_type": "code",
     "collapsed": false,
     "input": [
      "import Integrators as myint\n",
      "from Integrators import *"
     ],
     "language": "python",
     "metadata": {},
     "outputs": [],
     "prompt_number": 3
    },
    {
     "cell_type": "markdown",
     "metadata": {},
     "source": [
      "(b) Use your trapz and simps functions from part (a) to calculate the integral of x4\u22122x+1 from x = 0 to x = 2 with N = 10, N = 100, and N = 1000. Then compare your result to the known correct value of 4.4. What is the percent error in each case?"
     ]
    },
    {
     "cell_type": "code",
     "collapsed": false,
     "input": [
      "#running the integral with the trapezoidal rule\n",
      "func = lambda x: x**4 - 2*x + 1\n",
      "a = 0.0\n",
      "b = 2.0\n",
      "N = 10\n",
      "N2 = 100\n",
      "N3 = 1000\n",
      "\n",
      "print \"for N = 10, I = \", myint.trapz(func, a, b, N)\n",
      "print \"for N = 100, I = \", myint.trapz(func, a, b, N2)\n",
      "print \"for N = 1000, I = \", myint.trapz(func,a, b, N3)"
     ],
     "language": "python",
     "metadata": {},
     "outputs": [
      {
       "output_type": "stream",
       "stream": "stdout",
       "text": [
        "for N = 10, I =  4.50656\n",
        "for N = 100, I =  4.401066656\n",
        "for N = 1000, I =  4.40001066667\n"
       ]
      }
     ],
     "prompt_number": 4
    },
    {
     "cell_type": "code",
     "collapsed": false,
     "input": [
      "#running integral with simpson's rule\n",
      "func = lambda x: x**4 - 2*x + 1\n",
      "a = 0.0\n",
      "b = 2.0\n",
      "N = 10\n",
      "N2 = 100\n",
      "N3 = 1000\n",
      "\n",
      "print \"for N = 10, I = \", myint.simps(func, a, b, N)\n",
      "print \"for N = 100, I = \", myint.simps(func, a, b, N2)\n",
      "print \"for N = 1000, I = \", myint.simps(func,a, b, N3)"
     ],
     "language": "python",
     "metadata": {},
     "outputs": [
      {
       "output_type": "stream",
       "stream": "stdout",
       "text": [
        "for N = 10, I =  4.40042666667\n",
        "for N = 100, I =  4.40000004267\n",
        "for N = 1000, I =  4.4\n"
       ]
      }
     ],
     "prompt_number": 5
    },
    {
     "cell_type": "code",
     "collapsed": false,
     "input": [
      "#error for trapezoidal rule\n",
      "error = abs((myint.trapz(func, a, b, N)-4.4)/(4.4*100))\n",
      "error2=abs((myint.trapz(func, a, b, N2)-4.4)/(4.4*100))\n",
      "error3=abs((myint.trapz(func, a, b, N3)-4.4)/(4.4*100))\n",
      "\n",
      "print \"% error for trapz with N=10 =\", error\n",
      "print\"% error for trapz with N=100 =\", error2\n",
      "print\"% error for trapz with N=1000 =\", error3"
     ],
     "language": "python",
     "metadata": {},
     "outputs": [
      {
       "output_type": "stream",
       "stream": "stdout",
       "text": [
        "% error for trapz with N=10 = 0.000242181818182\n",
        "% error for trapz with N=100 = 2.42421818182e-06\n",
        "% error for trapz with N=1000 = 2.42424218175e-08\n"
       ]
      }
     ],
     "prompt_number": 6
    },
    {
     "cell_type": "code",
     "collapsed": false,
     "input": [
      "#error for simpson's Rule \n",
      "error4=abs((myint.simps(func, a, b, N)-4.4)/(4.4*100))\n",
      "error5=abs((myint.simps(func, a, b, N2)-4.4)/(4.4*100))\n",
      "error6=abs((myint.simps(func, a, b, N3)-4.4)/(4.4*100))\n",
      "print\"% error for simps with N=10 =\", error4\n",
      "print\"% error for simps with N=100 =\", error5\n",
      "print\"% error for simps with N=1000 =\", error6\n"
     ],
     "language": "python",
     "metadata": {},
     "outputs": [
      {
       "output_type": "stream",
       "stream": "stdout",
       "text": [
        "% error for simps with N=10 = 9.69696969697e-07\n",
        "% error for simps with N=100 = 9.69696969187e-11\n",
        "% error for simps with N=1000 = 9.69729347327e-15\n"
       ]
      }
     ],
     "prompt_number": 9
    },
    {
     "cell_type": "heading",
     "level": 2,
     "metadata": {},
     "source": [
      "Question 2"
     ]
    },
    {
     "cell_type": "markdown",
     "metadata": {},
     "source": [
      "(a) Use scipy.integrate.cumtrapz to calculate E(x) for values of x from 0 to 3 in steps of 0.1. Print the result."
     ]
    },
    {
     "cell_type": "code",
     "collapsed": false,
     "input": [
      "import scipy.integrate as integrate\n",
      "t = np.linspace(0, 3, 3/.1)\n",
      "y = np.e**(-t**2)\n",
      "y_int = integrate.cumtrapz(y, t, initial=0)\n",
      "print y_int"
     ],
     "language": "python",
     "metadata": {},
     "outputs": [
      {
       "output_type": "stream",
       "stream": "stdout",
       "text": [
        "[ 0.          0.1028977   0.203628    0.30015952  0.39071871  0.47388559\n",
        "  0.54865477  0.61445829  0.67115136  0.71896644  0.75844433  0.79035214\n",
        "  0.81559822  0.83515262  0.84997946  0.86098488  0.8689817   0.87466999\n",
        "  0.87863094  0.88133097  0.88313271  0.88430968  0.88506233  0.88553349\n",
        "  0.88582223  0.88599545  0.88609717  0.88615565  0.88618856  0.88620669]\n"
       ]
      }
     ],
     "prompt_number": 18
    },
    {
     "cell_type": "markdown",
     "metadata": {},
     "source": [
      "(b) Plot the integrand as a function of t and E(x) as a function of x (both ranging from 0 to 3) on the same graph."
     ]
    },
    {
     "cell_type": "code",
     "collapsed": false,
     "input": [
      "plt.plot(t, y)\n",
      "plt.plot(y, y_int)\n",
      "plt.show()"
     ],
     "language": "python",
     "metadata": {},
     "outputs": [
      {
       "metadata": {},
       "output_type": "display_data",
       "png": "[encoded data removed]",
       "text": [
        "<matplotlib.figure.Figure at 0x108a94c90>"
       ]
      }
     ],
     "prompt_number": 19
    },
    {
     "cell_type": "heading",
     "level": 2,
     "metadata": {},
     "source": [
      "Question 3"
     ]
    },
    {
     "cell_type": "markdown",
     "metadata": {},
     "source": [
      "(a) What is the probability of finding the particle between L/3 and L/2 for the ground state (n = 1) and for the first excited state (n = 2)? Let L = 1. Perform the integral using both scipy.integrate.trapz and scipy.integrate.quad with an accuracy of 6 sig figs. How many slices did you need to use for scipy.integrate.trapz?"
     ]
    },
    {
     "cell_type": "code",
     "collapsed": false,
     "input": [
      "from scipy.integrate import trapz\n",
      "from scipy.integrate import quad\n",
      "n=1\n",
      "x = np.linspace(1./3, 1./2, 51)\n",
      "psi = lambda x: sqrt(2)*np.sin(n*np.pi*x)\n",
      "integrand = psi(x)**2\n",
      "probability = trapz(integrand, x)\n",
      "print \"The probability betweeb 1/3 and 1/2 for n = 1 is\", probability\n",
      "\n",
      "n=2\n",
      "x = np.linspace(1./3, 1./2, 51)\n",
      "psi = lambda x: sqrt(2)*np.sin(n*np.pi*x)\n",
      "integrand = psi(x)**2\n",
      "probability2 = trapz(integrand, x)\n",
      "print \"The probability betweeb 1/3 and 1/2 for n = 2 is\", probability\n"
     ],
     "language": "python",
     "metadata": {},
     "outputs": [
      {
       "output_type": "stream",
       "stream": "stdout",
       "text": [
        "The probability betweeb 1/3 and 1/2 for n = 1 is 0.304493852154\n",
        "The probability betweeb 1/3 and 1/2 for n = 2 is 0.304493852154\n"
       ]
      }
     ],
     "prompt_number": 22
    },
    {
     "cell_type": "markdown",
     "metadata": {},
     "source": [
      "\n",
      "(b) Make a plot of |\u03c8(x)|2 vs. x for the first two excited states with L=1."
     ]
    },
    {
     "cell_type": "code",
     "collapsed": false,
     "input": [],
     "language": "python",
     "metadata": {},
     "outputs": []
    },
    {
     "cell_type": "heading",
     "level": 2,
     "metadata": {},
     "source": [
      "Question 4"
     ]
    },
    {
     "cell_type": "markdown",
     "metadata": {},
     "source": [
      "(a) Use numerical integration to find M, r\u20d7 cm, and Icm. Note that you need M to compute r\u20d7 cm and r\u20d7 cm to compute Icm. The moments of inertia Icm are Ixx, Iyy, and Izz, where e.g. Ixx=\u222b((y\u2212ycm)2+(z\u2212zcm)2)\u03c1dV, etc."
     ]
    },
    {
     "cell_type": "code",
     "collapsed": false,
     "input": [],
     "language": "python",
     "metadata": {},
     "outputs": []
    },
    {
     "cell_type": "markdown",
     "metadata": {},
     "source": [
      "(b) The mass, center of mass, and moments of inertia can be easily computed analytically for a rectangular box of uniform density. (Compute them yourself or look them up). Verify your algorithm from part (a) works by having it compute the result for this test case. How accurate (how many sig figs?) is the numerical result?"
     ]
    },
    {
     "cell_type": "code",
     "collapsed": false,
     "input": [],
     "language": "python",
     "metadata": {},
     "outputs": []
    },
    {
     "cell_type": "markdown",
     "metadata": {},
     "source": [
      "(c) Finally, change the density function to something of your choosing (different from that used in parts (a) and (b)) and recompute M, r\u20d7 cm and Icm for that case."
     ]
    },
    {
     "cell_type": "code",
     "collapsed": false,
     "input": [],
     "language": "python",
     "metadata": {},
     "outputs": []
    }
   ],
   "metadata": {}
  }
 ]
}