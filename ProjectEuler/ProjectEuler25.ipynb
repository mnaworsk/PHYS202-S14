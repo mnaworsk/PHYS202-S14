{
 "metadata": {
  "name": "",
  "signature": "sha256:c5b8de08793048b66293a5a40a91e1a8da84f36461dc55f0857cddb1a1d868b6"
 },
 "nbformat": 3,
 "nbformat_minor": 0,
 "worksheets": [
  {
   "cells": [
    {
     "cell_type": "heading",
     "level": 1,
     "metadata": {},
     "source": [
      "1000-digit Fibonacci number"
     ]
    },
    {
     "cell_type": "heading",
     "level": 3,
     "metadata": {},
     "source": [
      "Problem 25"
     ]
    },
    {
     "cell_type": "markdown",
     "metadata": {},
     "source": [
      "The Fibonacci sequence is defined by the recurrence relation:\n",
      "\n",
      "Fn = Fn\u22121 + Fn\u22122, where F1 = 1 and F2 = 1.\n",
      "Hence the first 12 terms will be:\n",
      "\n",
      "F1 = 1\n",
      "F2 = 1\n",
      "F3 = 2\n",
      "F4 = 3\n",
      "F5 = 5\n",
      "F6 = 8\n",
      "F7 = 13\n",
      "F8 = 21\n",
      "F9 = 34\n",
      "F10 = 55\n",
      "F11 = 89\n",
      "F12 = 144\n",
      "The 12th term, F12, is the first term to contain three digits.\n",
      "\n",
      "What is the first term in the Fibonacci sequence to contain 1000 digits?\n",
      "\n",
      " "
     ]
    },
    {
     "cell_type": "code",
     "collapsed": false,
     "input": [
      "#test case\n",
      "def Fibonacci(n):\n",
      "    a, b = 0, 1\n",
      "    for i in range(0, n): \n",
      "        a, b = b, a+b\n",
      "    return a\n",
      "    \n",
      "first_term = 0 \n",
      "for term in range(1, 6000): #this range was chosen to speed up the function\n",
      "    value = str(Fibonacci(term))\n",
      "    if len(value) == 3: \n",
      "        first_term = term\n",
      "        break\n",
      "    else: continue \n",
      "\n",
      "print \"The first term in the sequence to contain 1000 digits is the \", first_term, \"th term\"\n",
      "#this code does in fact return the 12th term when asked to find the first\n",
      "#3 digit number in the sequence"
     ],
     "language": "python",
     "metadata": {},
     "outputs": [
      {
       "output_type": "stream",
       "stream": "stdout",
       "text": [
        "The first term in the sequence to contain 1000 digits is the  12 th term\n"
       ]
      }
     ],
     "prompt_number": 61
    },
    {
     "cell_type": "code",
     "collapsed": false,
     "input": [
      "first_term = 0 \n",
      "for term in range(1, 6000): #this range was chosen to speed up the function\n",
      "    value = str(Fibonacci(term))\n",
      "    if len(value) == 1000: #now the function is looking for 1000 digits\n",
      "        first_term = term\n",
      "        break\n",
      "    else: continue \n",
      "\n",
      "print \"The first term in the sequence to contain 1000 digits is the \", first_term, \"th term\""
     ],
     "language": "python",
     "metadata": {},
     "outputs": [
      {
       "output_type": "stream",
       "stream": "stdout",
       "text": [
        "The first term in the sequence to contain 1000 digits is the  4782 th term\n"
       ]
      }
     ],
     "prompt_number": 60
    }
   ],
   "metadata": {}
  }
 ]
}