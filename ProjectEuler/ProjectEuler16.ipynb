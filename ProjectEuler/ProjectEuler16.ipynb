{
 "metadata": {
  "name": "",
  "signature": "sha256:948df01b6913ad9b4cb72fc724f3f14d82d90273bacbc5f8666f0f7f5d9faa45"
 },
 "nbformat": 3,
 "nbformat_minor": 0,
 "worksheets": [
  {
   "cells": [
    {
     "cell_type": "heading",
     "level": 1,
     "metadata": {},
     "source": [
      "Power Digit Sum"
     ]
    },
    {
     "cell_type": "heading",
     "level": 3,
     "metadata": {},
     "source": [
      "Problem 16"
     ]
    },
    {
     "cell_type": "markdown",
     "metadata": {},
     "source": [
      "2^15 = 32768 and the sum of its digits is 3 + 2 + 7 + 6 + 8 = 26.\n",
      "\n",
      "What is the sum of the digits of the number 21000?"
     ]
    },
    {
     "cell_type": "code",
     "collapsed": false,
     "input": [],
     "language": "python",
     "metadata": {},
     "outputs": []
    }
   ],
   "metadata": {}
  }
 ]
}