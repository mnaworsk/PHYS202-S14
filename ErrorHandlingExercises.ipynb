{
 "metadata": {
  "name": "",
  "signature": "sha256:0a41afb8a7707d4113d983879ddefd830aac7834c0f976c80342f97bce907b22"
 },
 "nbformat": 3,
 "nbformat_minor": 0,
 "worksheets": [
  {
   "cells": [
    {
     "cell_type": "heading",
     "level": 1,
     "metadata": {},
     "source": [
      "Error Handling Exercises"
     ]
    },
    {
     "cell_type": "code",
     "collapsed": false,
     "input": [
      "%pylab inline"
     ],
     "language": "python",
     "metadata": {},
     "outputs": [
      {
       "output_type": "stream",
       "stream": "stdout",
       "text": [
        "Populating the interactive namespace from numpy and matplotlib\n"
       ]
      }
     ],
     "prompt_number": 1
    },
    {
     "cell_type": "markdown",
     "metadata": {},
     "source": [
      "1. Find a partner. Choose a driver and a navigator. The driver should copy their Battleship code to a cell in the driver's ErrorHandlingExercises notebook. The driver should explain to the navigator the basics of how their program works. Work together to add some error handling to the program. Include a markdown cell identifying the driver and navigator. When you are done, switch roles and let the navigator be the driver and vice versa. At the end you should both have a Battleship program that includes some error handling.\n"
     ]
    },
    {
     "cell_type": "markdown",
     "metadata": {},
     "source": [
      "driver: Mary\n",
      "\n",
      "navigator: Devin V. "
     ]
    },
    {
     "cell_type": "code",
     "collapsed": false,
     "input": [
      "%%file battleship.dat\n",
      "f = open('battleship')\n",
      "\n",
      "from random import randint\n",
      "# Allows us to use the randit function to randomize the ship's location\n",
      "\n",
      "board = []\n",
      "\n",
      "for x in range(0,5):\n",
      "    board.append([\"O\"] * 5)\n",
      "# Adds 5 columns and 5 rows to create a board\n",
      "\n",
      "def print_board(board):\n",
      "    for row in board:\n",
      "        print \" \".join(row)\n",
      "# Allows the board to print as O O O O instead of [O, O, O, O, O]\n",
      "\n",
      "def random_row(board):\n",
      "    return randint(0, len(board) - 1)\n",
      "\n",
      "def random_col(board):\n",
      "    return randint(0, len(board[0]) - 1)\n",
      "\n",
      "ship_row = random_row(board)\n",
      "ship_col = random_col(board)\n",
      "# Hides the ship in a random location on the board\n",
      "\n",
      "for turn in range(4):\n",
      "    print \"Turn\", turn + 1\n",
      "# Allows for 4 turn to take place, printing the turn number before each set of guesses \n",
      "    \n",
      "    guess_row = int(raw_input(\"Guess Row:\"))\n",
      "    guess_col = int(raw_input(\"Guess Col:\"))\n",
      "# Creates guesses and turns them into integers\n",
      "\n",
      "    if guess_row == ship_row and guess_col == ship_col: \n",
      "        print \"Congratulations! You sank my battleship!\"\n",
      "        break \n",
      "# The break allows the game to end, skipping the else statement if the ship has been sunk before turn 4\n",
      "    else: \n",
      "        if guess_row < 0 or guess_row > len(board) -1 or guess_col < 0 or\\\n",
      "        guess_col > len(board[0]) -1: # If a number less than 0 or greater than index 4 is entered, the user has picked a location not on the board\n",
      "            print \"Oops, that's not even in the ocean.\"\n",
      "        elif(board[guess_row][guess_col] == \"X\"):\n",
      "            print \"You guessed that one already.\"\n",
      "        else: \n",
      "            print \"You missed my battleship!\"\n",
      "            board[int(guess_row)][int(guess_col)] = \"X\" # This adds an X to the row/col the user has guessed\n",
      "            print_board(board)\n",
      "        if turn == 3: # 3 is used here because Python takes guesses up to index 3, which means 4 guesses\n",
      "            print \"Game Over\"        \n",
      "f.close()"
     ],
     "language": "python",
     "metadata": {},
     "outputs": [
      {
       "output_type": "stream",
       "stream": "stdout",
       "text": [
        "Writing battleship.dat\n"
       ]
      }
     ],
     "prompt_number": 3
    },
    {
     "cell_type": "code",
     "collapsed": false,
     "input": [
      "import os \n",
      "\n",
      "def read_file(filename):\n",
      "    if not os.path.exists(filename):\n",
      "        raise ValueError(\"'%s' does not exist\"%format(filename))\n",
      "    f = open('battleship.dat')\n",
      "    result = f.read()\n",
      "    f.close()\n",
      "    return result"
     ],
     "language": "python",
     "metadata": {},
     "outputs": [],
     "prompt_number": 17
    },
    {
     "cell_type": "markdown",
     "metadata": {},
     "source": [
      "2 Here is a function which takes a filename, opens the file, reads the result, closes the file, and returns the contents. It should look something like this:"
     ]
    },
    {
     "cell_type": "code",
     "collapsed": false,
     "input": [
      "#defining read all function and including try, except, else, finally to error handle\n",
      "def read_all_from_file(filename,safe):\n",
      "    if not safe == False: \n",
      "        return \" \"\n",
      "    try:\n",
      "        raise ValueError()\n",
      "    except IOError as err:\n",
      "        print err\n",
      "        print \"File does not exist: \",err.filename\n",
      "        return None\n",
      "    else:\n",
      "        print \"this only happens if it succeeds\"\n",
      "    finally:\n",
      "        f = open(filename)\n",
      "        result = f.read()\n",
      "        f.close()\n",
      "        return result   "
     ],
     "language": "python",
     "metadata": {},
     "outputs": [],
     "prompt_number": 58
    },
    {
     "cell_type": "code",
     "collapsed": false,
     "input": [
      "read_all_from_file('tmp.txt',safe=False)"
     ],
     "language": "python",
     "metadata": {},
     "outputs": [
      {
       "metadata": {},
       "output_type": "pyout",
       "prompt_number": 57,
       "text": [
        "'this is the contents of the file'"
       ]
      }
     ],
     "prompt_number": 57
    },
    {
     "cell_type": "code",
     "collapsed": false,
     "input": [
      "read_all_from_file('battleship.dat',safe=False)"
     ],
     "language": "python",
     "metadata": {},
     "outputs": [
      {
       "metadata": {},
       "output_type": "pyout",
       "prompt_number": 60,
       "text": [
        "'f = open(\\'battleship\\')\\n\\nfrom random import randint\\n# Allows us to use the randit function to randomize the ship\\'s location\\n\\nboard = []\\n\\nfor x in range(0,5):\\n    board.append([\"O\"] * 5)\\n# Adds 5 columns and 5 rows to create a board\\n\\ndef print_board(board):\\n    for row in board:\\n        print \" \".join(row)\\n# Allows the board to print as O O O O instead of [O, O, O, O, O]\\n\\ndef random_row(board):\\n    return randint(0, len(board) - 1)\\n\\ndef random_col(board):\\n    return randint(0, len(board[0]) - 1)\\n\\nship_row = random_row(board)\\nship_col = random_col(board)\\n# Hides the ship in a random location on the board\\n\\nfor turn in range(4):\\n    print \"Turn\", turn + 1\\n# Allows for 4 turn to take place, printing the turn number before each set of guesses \\n    \\n    guess_row = int(raw_input(\"Guess Row:\"))\\n    guess_col = int(raw_input(\"Guess Col:\"))\\n# Creates guesses and turns them into integers\\n\\n    if guess_row == ship_row and guess_col == ship_col: \\n        print \"Congratulations! You sank my battleship!\"\\n        break \\n# The break allows the game to end, skipping the else statement if the ship has been sunk before turn 4\\n    else: \\n        if guess_row < 0 or guess_row > len(board) -1 or guess_col < 0 or\\\\\\n        guess_col > len(board[0]) -1: # If a number less than 0 or greater than index 4 is entered, the user has picked a location not on the board\\n            print \"Oops, that\\'s not even in the ocean.\"\\n        elif(board[guess_row][guess_col] == \"X\"):\\n            print \"You guessed that one already.\"\\n        else: \\n            print \"You missed my battleship!\"\\n            board[int(guess_row)][int(guess_col)] = \"X\" # This adds an X to the row/col the user has guessed\\n            print_board(board)\\n        if turn == 3: # 3 is used here because Python takes guesses up to index 3, which means 4 guesses\\n            print \"Game Over\"        \\nf.close()'"
       ]
      }
     ],
     "prompt_number": 60
    },
    {
     "cell_type": "code",
     "collapsed": false,
     "input": [
      "#using the keyword safe in read all from file function\n",
      "read_all_from_file('file.which.does.not.exist', safe=True)"
     ],
     "language": "python",
     "metadata": {},
     "outputs": [
      {
       "metadata": {},
       "output_type": "pyout",
       "prompt_number": 59,
       "text": [
        "' '"
       ]
      }
     ],
     "prompt_number": 59
    },
    {
     "cell_type": "code",
     "collapsed": false,
     "input": [],
     "language": "python",
     "metadata": {},
     "outputs": []
    }
   ],
   "metadata": {}
  }
 ]
}