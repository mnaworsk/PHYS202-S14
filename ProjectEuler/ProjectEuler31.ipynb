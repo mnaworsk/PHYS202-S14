{
 "metadata": {
  "name": "",
  "signature": "sha256:718eb2429bd8ac68445475eca168692c9f2679a56e2fcde050289b89401557c7"
 },
 "nbformat": 3,
 "nbformat_minor": 0,
 "worksheets": [
  {
   "cells": [
    {
     "cell_type": "heading",
     "level": 1,
     "metadata": {},
     "source": [
      "Coin Sums"
     ]
    },
    {
     "cell_type": "heading",
     "level": 2,
     "metadata": {},
     "source": [
      "Problem 31"
     ]
    },
    {
     "cell_type": "markdown",
     "metadata": {},
     "source": [
      "In England the currency is made up of pound, \u00a3, and pence, p, and there are eight coins in general circulation:\n",
      "\n",
      "1p, 2p, 5p, 10p, 20p, 50p, \u00a31 (100p) and \u00a32 (200p).\n",
      "It is possible to make \u00a32 in the following way:\n",
      "\n",
      "1\u00d7\u00a31 + 1\u00d750p + 2\u00d720p + 1\u00d75p + 1\u00d72p + 3\u00d71p\n",
      "How many different ways can \u00a32 be made using any number of coins?"
     ]
    },
    {
     "cell_type": "code",
     "collapsed": false,
     "input": [
      "#test case\n",
      "#made a list of the coin combo given in the problem\n",
      "coins = [100, 50, 20, 20, 5, 2, 1, 1, 1]\n",
      "\n",
      "#the sum of the coins should equal 200\n",
      "print sum(coins)"
     ],
     "language": "python",
     "metadata": {},
     "outputs": [
      {
       "output_type": "stream",
       "stream": "stdout",
       "text": [
        " 200\n"
       ]
      }
     ],
     "prompt_number": 17
    },
    {
     "cell_type": "code",
     "collapsed": false,
     "input": [
      "#list of possible coins\n",
      "coins = [1, 2, 5, 10, 20, 50, 100, 200]\n",
      "\n",
      "#defined a variable with 2 arguments: the target value and the list of coins\n",
      "def combinations(target, coins): \n",
      "    #created conditions that allowed for coin list to be iterated through \n",
      "    #until the total reached 200\n",
      "    if target == 0 or len(coins) == 1: \n",
      "        return 1\n",
      "    else: \n",
      "        coins = sorted(coins)\n",
      "        highest_value = coins[-1]\n",
      "        uses = target / highest_value\n",
      "        total = 0\n",
      "        for i in range(uses + 1): \n",
      "            total += combinations(target - highest_value * i, coins[:-1])\n",
      "        return total\n",
      "\n",
      "print \"Number of combinations that add to \u00a32 =\", combinations(200, coins)\n"
     ],
     "language": "python",
     "metadata": {},
     "outputs": [
      {
       "output_type": "stream",
       "stream": "stdout",
       "text": [
        "Number of combinations that add to \u00a32 = "
       ]
      },
      {
       "output_type": "stream",
       "stream": "stdout",
       "text": [
        "73682\n"
       ]
      }
     ],
     "prompt_number": 18
    }
   ],
   "metadata": {}
  }
 ]
}