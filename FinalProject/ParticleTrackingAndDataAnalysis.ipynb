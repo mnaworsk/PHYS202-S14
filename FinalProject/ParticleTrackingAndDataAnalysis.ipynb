{
 "metadata": {
  "name": "",
  "signature": "sha256:484bcc834c714048c3098610ee69bba1c0ca2a258b0bc7b5de0c6a327ffc14c6"
 },
 "nbformat": 3,
 "nbformat_minor": 0,
 "worksheets": [
  {
   "cells": [
    {
     "cell_type": "code",
     "collapsed": false,
     "input": [
      "from PIL import Image\n",
      "from BlobFinder import *"
     ],
     "language": "python",
     "metadata": {},
     "outputs": [
      {
       "ename": "ImportError",
       "evalue": "No module named BlobFinder",
       "output_type": "pyerr",
       "traceback": [
        "\u001b[0;31m---------------------------------------------------------------------------\u001b[0m\n\u001b[0;31mImportError\u001b[0m                               Traceback (most recent call last)",
        "\u001b[0;32m<ipython-input-2-7f4c07ca1ead>\u001b[0m in \u001b[0;36m<module>\u001b[0;34m()\u001b[0m\n\u001b[1;32m      1\u001b[0m \u001b[0;32mfrom\u001b[0m \u001b[0mPIL\u001b[0m \u001b[0;32mimport\u001b[0m \u001b[0mImage\u001b[0m\u001b[0;34m\u001b[0m\u001b[0m\n\u001b[0;32m----> 2\u001b[0;31m \u001b[0;32mfrom\u001b[0m \u001b[0mBlobFinder\u001b[0m \u001b[0;32mimport\u001b[0m \u001b[0;34m*\u001b[0m\u001b[0;34m\u001b[0m\u001b[0m\n\u001b[0m",
        "\u001b[0;31mImportError\u001b[0m: No module named BlobFinder"
       ]
      }
     ],
     "prompt_number": 2
    },
    {
     "cell_type": "heading",
     "level": 2,
     "metadata": {},
     "source": [
      "Particle Tracking"
     ]
    },
    {
     "cell_type": "markdown",
     "metadata": {},
     "source": [
      "Tracking the brownian motion of blobs in successive frames using files, P, tau, and deltaP as arguments\n",
      "\n",
      "Determines how far a blob moved from one time step to the next (deltat = 0.5 for test data)\n",
      "\n",
      "Calculates the Euclidean distance for each bead at time t+deltat and identifies these blobs as the same unless the distance exceeds delta_P.\n",
      "\n",
      "Records displacements of each blobs for time deltat"
     ]
    },
    {
     "cell_type": "code",
     "collapsed": false,
     "input": [
      "def Particle_Tracker(frame1, frame2, P, tau, delta_P): \n",
      " \n",
      "    frame1 = Image.open(frame1)\n",
      "    frame2 = Image.open(frame2)\n",
      "        \n",
      "    frame1_blobs = getBeads(P, Blobfinder(frame1, tau))\n",
      "    frame2_blobs = getBeads(P, Blobfinder(frame2, tau))\n",
      "        \n",
      "    displacements = []\n",
      "    #looks at each frame and it's nearest neighbor\n",
      "    #and records the radial displacement \n",
      "    for i in range(len(frame1_blobs)): \n",
      "        #minimum radial displacement = delta P\n",
      "        min_rad_disp = delta_P\n",
      "        for j in range(len(frame2_blobs)):\n",
      "            displacement = frame1_blobs[i].distanceTo(frame2blobs[j])\n",
      "            if (displacement < min_rad_disp):\n",
      "                min_rad_disp = displacement\n",
      "                nearest = j\n",
      "        #blobs within delta_p will be added to displacement list, \n",
      "        #each on a new line and douplicates will be deleted because they \n",
      "        #are too close to be considered a new blob\n",
      "        if min_rad_disp < delta_P: \n",
      "            displacements.append(str(min_rad_disp)+'\\n')\n",
      "            del frame2_blobs[nearest]\n",
      "        \n",
      "    return displacements"
     ],
     "language": "python",
     "metadata": {},
     "outputs": []
    },
    {
     "cell_type": "code",
     "collapsed": false,
     "input": [
      "#writes radial displacements from frame to frame to a file    \n",
      "def brownian_motion_recorder(P, tau, delta_P, files, output_file): \n",
      "    displacements = []\n",
      "    output = open(output_file, 'w')\n",
      "    for i in xrange(len(files) -1): \n",
      "        displacements += Particle_Tracker(files[i], files[i+1], P, tau, delta_P)\n",
      "        print \"Motion in file\", i,\"has been recorded\"\n",
      "    output.writelines(displacements)\n",
      "    output.close()"
     ],
     "language": "python",
     "metadata": {},
     "outputs": []
    },
    {
     "cell_type": "code",
     "collapsed": false,
     "input": [
      "P = 35\n",
      "tau = 650\n",
      "delta_P = 18"
     ],
     "language": "python",
     "metadata": {},
     "outputs": []
    },
    {
     "cell_type": "code",
     "collapsed": false,
     "input": [
      "#creating a list of all of the frames to be used as sample data\n",
      "files = []\n",
      "for i in range(200): \n",
      "    if i < 10: \n",
      "        files.append(\"Run5/frame0000\"+ str(i) +\".jpg\")\n",
      "    elif i < 100: \n",
      "        files.append(\"Run5/frame000\"+ str(i) +\".jpg\")\n",
      "    else: \n",
      "        files.append(\"Run5/frame00\"+ str(i) +\".jpg\")\n",
      "\n",
      "#naming the output file, indicating when process is complete\n",
      "output_file = 'Run5.dat'\n",
      "brownian_motion_recorder(P, tau, delta_P, files, output_file)\n",
      "print 'Displacement comparisons done'"
     ],
     "language": "python",
     "metadata": {},
     "outputs": []
    },
    {
     "cell_type": "code",
     "collapsed": false,
     "input": [
      "#creating a list of milk blob files\n",
      "files2 = []\n",
      "for i in range(201): \n",
      "    if i < 10: \n",
      "        files2.append(\"MilkBlobData/Naworski_T000\"+ str(i) +\".jpg\")\n",
      "    elif i < 100: \n",
      "        files2.append(\"MilkBlobData/Naworski_T00\"+ str(i) +\".jpg\")\n",
      "    else: \n",
      "        files2.append(\"MilkBlobData/Naworski_T0\"+ str(i) +\".jpg\")\n",
      "\n",
      "output_file = 'milk_blobs.dat'\n",
      "brownian_motion_recorder(P, tau, delta_P, files, output_file)\n",
      "print 'Displacement comparisons done'"
     ],
     "language": "python",
     "metadata": {},
     "outputs": []
    },
    {
     "cell_type": "heading",
     "level": 2,
     "metadata": {},
     "source": [
      "Data Analysis"
     ]
    },
    {
     "cell_type": "code",
     "collapsed": false,
     "input": [
      "#Calculating \n",
      "def Data_analysis(run_data):\n",
      "    \"\"\"reads in displacements from run data files, computes avg. displacement,\n",
      "    estimates Boltzmann's constant, and Avogadro's number, then prints the results\"\"\"\n",
      "    def Average_displacement(run_data):\n",
      "        avg = np.loadtxt(run_data)\n",
      "        avg *= 0.175 * (10**-6)\n",
      "        return (avg**2).sum() / (2*avg.size)\n",
      "    \n",
      "    def Boltzmann_estimate(run_data):\n",
      "        eta = 9.135 * (10**-4)\n",
      "        r = 0.5 *(10**-6)\n",
      "        T = 297\n",
      "        Boltzmann = 6*np.pi*eta*r*Avg_displacement(run_data) / T\n",
      "        return Boltzmann\n",
      "    \n",
      "    def Avogadro_estimate(run_data):\n",
      "        R = 8.31457\n",
      "        k = Boltzmann_estimate(run_data)\n",
      "        Avogadro = R / k\n",
      "        return Avogadro\n",
      "\n",
      "\n",
      "    x = Average_displacement(Run5.dat)\n",
      "    B = Boltzmann_estimate(Run5.dat)\n",
      "    A = Avogadro_estimate(Run5.dat)\n",
      "    \n",
      "    print \"The average displacement is\",\"{0:.4e}\".format(x),\"meters per pixel\"\n",
      "    print \"Boltzmann's constant = \", \"{0:.4e}\".format(B),\"molecules per mole\"\n",
      "    print \"Avogadro's number = \", \"{0:.4e}\".format(A), \"Joules per Kelvin\""
     ],
     "language": "python",
     "metadata": {},
     "outputs": []
    },
    {
     "cell_type": "code",
     "collapsed": false,
     "input": [
      "Data_analysis('Run5.dat')"
     ],
     "language": "python",
     "metadata": {},
     "outputs": []
    },
    {
     "cell_type": "code",
     "collapsed": false,
     "input": [
      "Data_analysis('milk_blobs.dat')"
     ],
     "language": "python",
     "metadata": {},
     "outputs": []
    }
   ],
   "metadata": {}
  }
 ]
}