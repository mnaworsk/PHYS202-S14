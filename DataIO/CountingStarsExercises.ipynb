{
 "metadata": {
  "name": "",
  "signature": "sha256:1dd50a5073f9fbd96a492f93a56943caa55a5edc298dac02ef9973bd1d67eb15"
 },
 "nbformat": 3,
 "nbformat_minor": 0,
 "worksheets": [
  {
   "cells": [
    {
     "cell_type": "heading",
     "level": 1,
     "metadata": {},
     "source": [
      "Counting Stars Exercises"
     ]
    },
    {
     "cell_type": "code",
     "collapsed": false,
     "input": [
      "%pylab inline\n",
      "import numpy as np\n",
      "import matplotlib.pyplot as plt\n",
      "from PIL import Image\n",
      "import requests\n",
      "from StringIO import StringIO"
     ],
     "language": "python",
     "metadata": {},
     "outputs": [
      {
       "output_type": "stream",
       "stream": "stdout",
       "text": [
        "Populating the interactive namespace from numpy and matplotlib\n"
       ]
      }
     ],
     "prompt_number": 55
    },
    {
     "cell_type": "markdown",
     "metadata": {},
     "source": [
      "1. Modify the fill function so that it never looks at the same pixel twice. There are at least two ways to do this. Name your new function fastfill. \n",
      "Be sure to include comments and add detail to the docstring to describe what it is doing."
     ]
    },
    {
     "cell_type": "code",
     "collapsed": false,
     "input": [
      "def fastfill(picture, xsize, ysize, xstart, ystart):\n",
      "    \"\"\"keep a list of pixels that need to be looked at, but haven't yet been filled in - a list of the (x,y) coordinates of pixels that are neighbors of ones we have already examined.  Keep looping until there's nothing left in this list\"\"\"\n",
      "    queue = [(xstart,ystart)]\n",
      "    while queue:\n",
      "        x,y,queue = queue[0][0], queue[0][1], queue[1:]\n",
      "        if picture[x,y] == BLACK:\n",
      "            picture[x,y] = RED\n",
      "            if picture[x,y] == RED: \n",
      "                x,y,queue = queue[0][0], queue[0][1], queue[1:] \n",
      "            if x > 0:\n",
      "                queue.append((x-1,y))\n",
      "            if x < (xsize-1):\n",
      "                queue.append((x+1,y))\n",
      "            if y > 0:\n",
      "                queue.append((x, y-1))\n",
      "            if y < (ysize-1):\n",
      "                queue.append((x, y+1))"
     ],
     "language": "python",
     "metadata": {},
     "outputs": [],
     "prompt_number": 96
    },
    {
     "cell_type": "markdown",
     "metadata": {},
     "source": [
      "2: Modify your count function to take another argument - which fill function to use - and compare the time it takes to count the stars using the original fill, your improved fastfill, and the recursive recfill."
     ]
    },
    {
     "cell_type": "code",
     "collapsed": false,
     "input": [
      "def count(picture, fill_func): \n",
      "    \"\"\"Scan the image top to bottom and left to right using a nested loop. When black pixel is found, incriment the count, then call the fill function to fill in all the pixels conected to that one.\"\"\"\n",
      "    xsize, ysize = picture.size\n",
      "    temp = picture.load()\n",
      "    result = 0\n",
      "    for x in range(xsize):\n",
      "        for y in range(ysize):\n",
      "            if temp[x,y] == BLACK: \n",
      "                result += 1\n",
      "                fill(temp,xsize,ysize,x,y)\n",
      "    return result\n",
      "        \n",
      "print elapsed(count(pic, fillrec), pic)\n",
      "print elapsed(count(pic, fill), pic)\n",
      "print elapsed(count(pic, fastfill), pic)"
     ],
     "language": "python",
     "metadata": {},
     "outputs": [
      {
       "ename": "TypeError",
       "evalue": "'int' object is not callable",
       "output_type": "pyerr",
       "traceback": [
        "\u001b[0;31m---------------------------------------------------------------------------\u001b[0m\n\u001b[0;31mTypeError\u001b[0m                                 Traceback (most recent call last)",
        "\u001b[0;32m<ipython-input-97-fa120f7e5d15>\u001b[0m in \u001b[0;36m<module>\u001b[0;34m()\u001b[0m\n\u001b[1;32m     11\u001b[0m     \u001b[0;32mreturn\u001b[0m \u001b[0mresult\u001b[0m\u001b[0;34m\u001b[0m\u001b[0m\n\u001b[1;32m     12\u001b[0m \u001b[0;34m\u001b[0m\u001b[0m\n\u001b[0;32m---> 13\u001b[0;31m \u001b[0;32mprint\u001b[0m \u001b[0melapsed\u001b[0m\u001b[0;34m(\u001b[0m\u001b[0mcount\u001b[0m\u001b[0;34m(\u001b[0m\u001b[0mpic\u001b[0m\u001b[0;34m,\u001b[0m \u001b[0mfillrec\u001b[0m\u001b[0;34m)\u001b[0m\u001b[0;34m,\u001b[0m \u001b[0mpic\u001b[0m\u001b[0;34m)\u001b[0m\u001b[0;34m\u001b[0m\u001b[0m\n\u001b[0m\u001b[1;32m     14\u001b[0m \u001b[0;32mprint\u001b[0m \u001b[0melapsed\u001b[0m\u001b[0;34m(\u001b[0m\u001b[0mcount\u001b[0m\u001b[0;34m(\u001b[0m\u001b[0mpic\u001b[0m\u001b[0;34m,\u001b[0m \u001b[0mfill\u001b[0m\u001b[0;34m)\u001b[0m\u001b[0;34m,\u001b[0m \u001b[0mpic\u001b[0m\u001b[0;34m)\u001b[0m\u001b[0;34m\u001b[0m\u001b[0m\n\u001b[1;32m     15\u001b[0m \u001b[0;32mprint\u001b[0m \u001b[0melapsed\u001b[0m\u001b[0;34m(\u001b[0m\u001b[0mcount\u001b[0m\u001b[0;34m(\u001b[0m\u001b[0mpic\u001b[0m\u001b[0;34m,\u001b[0m \u001b[0mfastfill\u001b[0m\u001b[0;34m)\u001b[0m\u001b[0;34m,\u001b[0m \u001b[0mpic\u001b[0m\u001b[0;34m)\u001b[0m\u001b[0;34m\u001b[0m\u001b[0m\n",
        "\u001b[0;32m<ipython-input-87-0123f1d6b3b2>\u001b[0m in \u001b[0;36melapsed\u001b[0;34m(func, picture)\u001b[0m\n\u001b[1;32m      3\u001b[0m     \u001b[0;34m\"\"\"Takes a function and a picture as arguments, applies the function to the picture, and returns the elapsed time along with whatever the function itself returned.\"\"\"\u001b[0m\u001b[0;34m\u001b[0m\u001b[0m\n\u001b[1;32m      4\u001b[0m     \u001b[0mstart\u001b[0m \u001b[0;34m=\u001b[0m \u001b[0mtime\u001b[0m\u001b[0;34m(\u001b[0m\u001b[0;34m)\u001b[0m\u001b[0;34m\u001b[0m\u001b[0m\n\u001b[0;32m----> 5\u001b[0;31m     \u001b[0mresult\u001b[0m \u001b[0;34m=\u001b[0m \u001b[0mfunc\u001b[0m\u001b[0;34m(\u001b[0m\u001b[0mpicture\u001b[0m\u001b[0;34m)\u001b[0m\u001b[0;34m\u001b[0m\u001b[0m\n\u001b[0m\u001b[1;32m      6\u001b[0m     \u001b[0;32mreturn\u001b[0m \u001b[0mtime\u001b[0m\u001b[0;34m(\u001b[0m\u001b[0;34m)\u001b[0m \u001b[0;34m-\u001b[0m \u001b[0mstart\u001b[0m\u001b[0;34m,\u001b[0m \u001b[0mresult\u001b[0m\u001b[0;34m\u001b[0m\u001b[0m\n\u001b[1;32m      7\u001b[0m \u001b[0;34m\u001b[0m\u001b[0m\n",
        "\u001b[0;31mTypeError\u001b[0m: 'int' object is not callable"
       ]
      }
     ],
     "prompt_number": 97
    },
    {
     "cell_type": "markdown",
     "metadata": {},
     "source": [
      "3: Use the fastest algorithm from question 2 to count the stars above a threshold in all of the images listed at the top of the page. How does the count for each image change if you lower the threshold from 600 to 500? Comment on any changes to the count. Why do they happen?"
     ]
    },
    {
     "cell_type": "code",
     "collapsed": false,
     "input": [
      "def fastfill(picture, xsize, ysize, xstart, ystart):\n",
      "    \"\"\"keep a list of pixels that need to be looked at, but haven't yet been filled in - a list of the (x,y) coordinates of pixels that are neighbors of ones we have already examined.  Keep looping until there's nothing left in this list\"\"\"\n",
      "    queue = [(xstart,ystart)]\n",
      "    while queue:\n",
      "        x,y,queue = queue[0][0], queue[0][1], queue[1:]\n",
      "        if picture[x,y] == BLACK:\n",
      "            picture[x,y] = RED\n",
      "            if picture[x,y] == RED: \n",
      "                x,y,queue = queue[0][0], queue[0][1], queue[1:] \n",
      "            if x > 0:\n",
      "                queue.append((x-1,y))\n",
      "            if x < (xsize-1):\n",
      "                queue.append((x+1,y))\n",
      "            if y > 0:\n",
      "                queue.append((x, y-1))\n",
      "            if y < (ysize-1):\n",
      "                queue.append((x, y+1))"
     ],
     "language": "python",
     "metadata": {},
     "outputs": [],
     "prompt_number": 52
    },
    {
     "cell_type": "markdown",
     "metadata": {},
     "source": [
      "4: Write a variation on your count function to keep track of the pixels in a given blob and use the brightest pixel in the blob as the \"location\" of the star. Use the data I/O skills we learned to write out a text (not binary) file containing: \n",
      "\n",
      "a header which includes:\n",
      "\n",
      "-the link to the image\n",
      "\n",
      "-the threshold value used in the conversion to monochrome\n",
      "\n",
      "-the algorithm used to count its stars\n",
      "\n",
      "-how fast it processed the image\n",
      "\n",
      "-how many stars were found\n",
      "\n",
      "-a description of the data in the subsequent columns\n",
      "\n",
      "-a list of the star data organized in three columns and formatted for easy reading as follows:\n",
      "\n",
      "-location (x,y in pixel units)\n",
      "\n",
      "-maximum brightness value for the star\n",
      "\n",
      "Apply your function to the six images at the top of the page."
     ]
    },
    {
     "cell_type": "code",
     "collapsed": false,
     "input": [
      "def count(picture, fill_func): \n",
      "    \"\"\"Scan the image top to bottom and left to right using a nested loop. When black pixel is found, incriment the count, then call the fill function to fill in all the pixels conected to that one.\"\"\"\n",
      "    xsize, ysize = picture.size\n",
      "    temp = picture.load()\n",
      "    result = 0\n",
      "    track_pixels = 0\n",
      "    for x in range(xsize):\n",
      "        for y in range(ysize):\n",
      "            if temp[x,y] == BLACK: \n",
      "                result += 1\n",
      "                track_pixels += pic.getpixel((0,0))\n",
      "                fill(temp,xsize,ysize,x,y)\n",
      "    return result\n",
      "\n",
      "np.savetxt('new_file.dat',header =\"http://imgsrc.hubblesite.org/hu/db/images/hs-1999-30-b-full_jpg.jpg\",\n",
      "           count(picture,fill_func), elasped(func,picture))\n",
      "!cat new_file.dat\n",
      "\n",
      "DataIn = np.loadtxt('new_file.dat', unpack=True)\n",
      "print DataIn.shape\n",
      "print DataIn\n",
      "\n",
      "np.savetxt('new_file2.dat',header =\"http://imgsrc.hubblesite.org/hu/db/images/hs-2004-20-a-large_web.jpg\",\n",
      "           count(picture,fill_func), elasped(func,picture))\n",
      "!cat new_file2.dat\n",
      "\n",
      "DataIn = np.loadtxt('new_file2.dat', unpack=True)\n",
      "print DataIn.shape\n",
      "print DataIn\n",
      "\n",
      "np.savetxt('new_file3.dat',header =\"http://imgsrc.hubblesite.org/hu/db/images/hs-1993-13-a-large_web.jpg \" ,\n",
      "           count(picture,fill_func), elasped(func,picture))\n",
      "!cat new_file3.dat\n",
      "\n",
      "DataIn = np.loadtxt('new_file3.dat', unpack=True)\n",
      "print DataIn.shape\n",
      "print DataIn\n",
      "\n",
      "np.savetxt('new_file4.dat',header =\"http://imgsrc.hubblesite.org/hu/db/images/hs-1995-32-c-full_jpg.jpg\",\n",
      "           count(picture,fill_func), elasped(func,picture))\n",
      "!cat new_file4.dat\n",
      "\n",
      "DataIn = np.loadtxt('new_file4.dat', unpack=True)\n",
      "print DataIn.shape\n",
      "print DataIn\n",
      "\n",
      "np.savetxt('new_file5.dat',header =\"http://imgsrc.hubblesite.org/hu/db/images/hs-1993-13-a-large_web.jpg\",\n",
      "           count(picture,fill_func), elasped(func,picture))\n",
      "!cat new_file5.dat\n",
      "\n",
      "DataIn = np.loadtxt('new_file5.dat', unpack=True)\n",
      "print DataIn.shape\n",
      "print DataIn\n",
      "\n",
      "np.savetxt('new_file6.dat',header =\"http://imgsrc.hubblesite.org/hu/db/images/hs-2002-10-c-large_web.jpg\",\n",
      "           count(picture,fill_func), elasped(func,picture))\n",
      "!cat new_file6.dat\n",
      "\n",
      "DataIn = np.loadtxt('new_file6.dat', unpack=True)\n",
      "print DataIn.shape\n",
      "print DataIn"
     ],
     "language": "python",
     "metadata": {},
     "outputs": [
      {
       "ename": "SyntaxError",
       "evalue": "non-keyword arg after keyword arg (<ipython-input-100-bc07db0cdff9>, line 16)",
       "output_type": "pyerr",
       "traceback": [
        "\u001b[0;36m  File \u001b[0;32m\"<ipython-input-100-bc07db0cdff9>\"\u001b[0;36m, line \u001b[0;32m16\u001b[0m\n\u001b[0;31m    count(picture,fill_func), elasped(func,picture))\u001b[0m\n\u001b[0;31mSyntaxError\u001b[0m\u001b[0;31m:\u001b[0m non-keyword arg after keyword arg\n"
       ]
      }
     ],
     "prompt_number": 100
    },
    {
     "cell_type": "code",
     "collapsed": false,
     "input": [],
     "language": "python",
     "metadata": {},
     "outputs": []
    }
   ],
   "metadata": {}
  }
 ]
}