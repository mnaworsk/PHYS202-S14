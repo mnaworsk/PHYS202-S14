{
 "metadata": {
  "name": "",
  "signature": "sha256:87fa67b13080b8ac589f6b3a75f4d5cc0564f554c8b07f694163a1ad688c16f4"
 },
 "nbformat": 3,
 "nbformat_minor": 0,
 "worksheets": [
  {
   "cells": [
    {
     "cell_type": "heading",
     "level": 1,
     "metadata": {},
     "source": [
      "Counting Sundays"
     ]
    },
    {
     "cell_type": "heading",
     "level": 2,
     "metadata": {},
     "source": [
      "Problem 19"
     ]
    },
    {
     "cell_type": "markdown",
     "metadata": {},
     "source": [
      "You are given the following information, but you may prefer to do some research for yourself.\n",
      "\n",
      "1 Jan 1900 was a Monday.\n",
      "\n",
      "Thirty days has September,\n",
      "April, June and November.\n",
      "\n",
      "All the rest have thirty-one,\n",
      "\n",
      "Saving February alone,\n",
      "\n",
      "Which has twenty-eight, rain or shine.\n",
      "\n",
      "And on leap years, twenty-nine.\n",
      "\n",
      "A leap year occurs on any year evenly divisible by 4, but not on a century unless it is divisible by 400.\n",
      "\n",
      "How many Sundays fell on the first of the month during the twentieth century (1 Jan 1901 to 31 Dec 2000)?"
     ]
    },
    {
     "cell_type": "code",
     "collapsed": false,
     "input": [
      "#creating a variable to hold the counted days\n",
      "def list_of_days(): \n",
      "    list_of_days = [[0, 0, 0]]\n",
      "#accounting for the 100 year range\n",
      "    for year in range(1900,2001): \n",
      "    #accounting for all months with 30 days total\n",
      "        for month in range(1,13): \n",
      "            if month in [4, 6, 9, 11]: \n",
      "                day_range = 30\n",
      "            #accounting for leap years\n",
      "            elif not month - 2: \n",
      "                if year % 4 == 0 and (year % 100 != 0 or year % 400 == 0):  \n",
      "                    day_range = 29\n",
      "                else: \n",
      "                    day_range = 28\n",
      "            #accounting for months with 31 days\n",
      "            else: \n",
      "                day_range = 31\n",
      "            for day in range(1, day_range + 1): \n",
      "                list_of_days.append([year, month, day])\n",
      "    return list_of_days"
     ],
     "language": "python",
     "metadata": {},
     "outputs": [],
     "prompt_number": 27
    },
    {
     "cell_type": "code",
     "collapsed": false,
     "input": [
      "#creating a list that only counts the sundays in the list of days\n",
      "def list_of_Sundays(): \n",
      "    days = list_of_days()\n",
      "    list_of_Sundays = []\n",
      "    for day in range(len(days)):\n",
      "        if not (day - 6) % 7 and days[day][0] > 1900 and not days[day][2] - 1:\n",
      "            list_of_Sundays.append(days[day])\n",
      "    return len(list_of_Sundays)\n",
      "\n",
      "print(list_of_Sundays())"
     ],
     "language": "python",
     "metadata": {},
     "outputs": [
      {
       "output_type": "stream",
       "stream": "stdout",
       "text": [
        "171\n"
       ]
      }
     ],
     "prompt_number": 30
    },
    {
     "cell_type": "code",
     "collapsed": false,
     "input": [],
     "language": "python",
     "metadata": {},
     "outputs": []
    }
   ],
   "metadata": {}
  }
 ]
}