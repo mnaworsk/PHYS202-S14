{
 "metadata": {
  "name": "",
  "signature": "sha256:afd9e2c906f9cb06128ba791fd58a4f5d7e8b848bae6473999c1fffabcca9ab5"
 },
 "nbformat": 3,
 "nbformat_minor": 0,
 "worksheets": [
  {
   "cells": [
    {
     "cell_type": "heading",
     "level": 1,
     "metadata": {},
     "source": [
      "Largest plaindrome product"
     ]
    },
    {
     "cell_type": "raw",
     "metadata": {},
     "source": [
      "Problem 4"
     ]
    },
    {
     "cell_type": "markdown",
     "metadata": {},
     "source": [
      "A palindromic number reads the same both ways. The largest palindrome made from the product of two 2-digit numbers is 9009 = 91 \u00d7 99.\n",
      "\n",
      "Find the largest palindrome made from the product of two 3-digit numbers."
     ]
    },
    {
     "cell_type": "code",
     "collapsed": false,
     "input": [
      "#test case\n",
      "largest_palindrome = 0\n",
      "for a in xrange(99, 90, -1): \n",
      "    for b in xrange(a, 90, -1): \n",
      "        x = a*b\n",
      "        if x > largest_palindrome: \n",
      "            q = str(a*b)\n",
      "            if q == q[::-1]: \n",
      "                largest_palindrome = a*b\n",
      "print \"The largest palindome made from the product of 2 2-digit numbers is\", largest_palindrome"
     ],
     "language": "python",
     "metadata": {},
     "outputs": [
      {
       "output_type": "stream",
       "stream": "stdout",
       "text": [
        "The largest palindome made from the product of 2 2-digit numbers is 9009\n"
       ]
      }
     ],
     "prompt_number": 14
    },
    {
     "cell_type": "code",
     "collapsed": false,
     "input": [
      "#for loop iterates backwards from 999 to 101, finding the palindome product \n",
      "#for all 3-digit multiples\n",
      "largest_palindrome = 0\n",
      "for a in xrange(999, 100, -1): \n",
      "    for b in xrange(a, 100, -1): \n",
      "        x = a*b\n",
      "        if x > largest_palindrome: \n",
      "            q = str(a*b)\n",
      "            if q == q[::-1]: \n",
      "                largest_palindrome = a*b\n",
      "print \"The largest palindrome made from the product of 2 3-digit numbers \\\n",
      "is\", largest_palindrome"
     ],
     "language": "python",
     "metadata": {},
     "outputs": [
      {
       "output_type": "stream",
       "stream": "stdout",
       "text": [
        "The largest palindrome made from the product of 2 3-digit numbers is 906609\n"
       ]
      }
     ],
     "prompt_number": 8
    },
    {
     "cell_type": "code",
     "collapsed": false,
     "input": [],
     "language": "python",
     "metadata": {},
     "outputs": []
    }
   ],
   "metadata": {}
  }
 ]
}