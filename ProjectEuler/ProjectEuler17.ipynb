{
 "metadata": {
  "name": "",
  "signature": "sha256:389b5dbb00e311971b007889bcd4c999ef70c3ac073d9a97f98669498c0039d9"
 },
 "nbformat": 3,
 "nbformat_minor": 0,
 "worksheets": [
  {
   "cells": [
    {
     "cell_type": "heading",
     "level": 1,
     "metadata": {},
     "source": [
      "Number Letter Counts"
     ]
    },
    {
     "cell_type": "heading",
     "level": 3,
     "metadata": {},
     "source": [
      "Problem 17"
     ]
    },
    {
     "cell_type": "markdown",
     "metadata": {},
     "source": [
      "If the numbers 1 to 5 are written out in words: one, two, three, four, five, then there are 3 + 3 + 5 + 4 + 4 = 19 letters used in total.\n",
      "\n",
      "If all the numbers from 1 to 1000 (one thousand) inclusive were written out in words, how many letters would be used?\n",
      "\n",
      "\n",
      "NOTE: Do not count spaces or hyphens. For example, 342 (three hundred and forty-two) contains 23 letters and 115 (one hundred and fifteen) contains 20 letters. The use of \"and\" when writing out numbers is in compliance with British usage."
     ]
    },
    {
     "cell_type": "code",
     "collapsed": false,
     "input": [
      "#test case\n",
      "number = {1: 'one',\n",
      "           2: 'two',\n",
      "           3: 'three',\n",
      "           4: 'four',\n",
      "           5: 'five'}\n",
      "total = 0\n",
      "for n in range(1, 6): \n",
      "    x = str(n)\n",
      "    if len(str(n)) == 1 or len(str(n)) == 2 or len(str(n)) == 3 \\\n",
      "    or len(str(n)) == 4 or len(str(n)) == 5: \n",
      "        y = len(number[n])\n",
      "        total = total + y\n",
      "print total \n",
      "\n",
      "#this gives us 19 letters total, just as we were told in the problem"
     ],
     "language": "python",
     "metadata": {},
     "outputs": [
      {
       "output_type": "stream",
       "stream": "stdout",
       "text": [
        "19\n"
       ]
      }
     ],
     "prompt_number": 32
    },
    {
     "cell_type": "code",
     "collapsed": false,
     "input": [
      "#creating a number list that includes base numbers, tens, 100's, and teens\n",
      "#so we can mix and match to create each number from 1 to 1000\n",
      "number = {1: 'one', 2: 'two', 3: 'three', 4: 'four', 5: 'five', \n",
      "          6: 'six', 7: 'seven', 8: 'eight', 9: 'nine', 10: 'ten', \n",
      "          11: 'eleven', 12: 'twelve', 14:'fourteen', 15:'fifteen',\n",
      "          16:'sixteen', 17:'seventeen', 18:'eighteen', 19:'nineteen',\n",
      "          20:'twenty', 30:'thirty', 40:'forty', 50:'fifty', 60:'sixty',\n",
      "          70:'seventy', 80:'eighty', 90:'ninety', 100:'hundred',\n",
      "          1000:'thousand'}\n",
      "\n",
      "def counting_digits():\n",
      "    total = 0\n",
      "    for n in range(1, 10001): \n",
      "        x = str(n)\n",
      "        if len(str(n)) == 1: \n",
      "            y = len(number[n])\n",
      "            total = total + y\n",
      "            return total\n",
      "        elif len(str(n)) == 2: \n",
      "            x1 = x[0:1]\n",
      "            x2 = x[0:2]\n",
      "            if n < 20: \n",
      "                y = len(number[n])\n",
      "                total = total + y\n",
      "                return total\n",
      "            else: \n",
      "                #this statement will account for hundreds places and 10's places\n",
      "                if x2 == '0':\n",
      "                    y = len(number[n])\n",
      "                    total = total + y\n",
      "                    return total\n",
      "                else: \n",
      "                    x1a = str(x1 + '0')\n",
      "                    y = len(number[int(x1a)]) + len(number[int(x2)])\n",
      "                    total = total + y\n",
      "                    return total\n",
      "                \n",
      "        elif len(str(n)) == 3: \n",
      "            x1 = x[0:1]\n",
      "            x2 = x[1:2] \n",
      "            x3 = x[2:3]\n",
      "            x1a = str(x2 + '0')\n",
      "            x1b = str(x2 + x3)\n",
      "            if x1 == '1' and x2 == '0' and x3 == '0': #for 100\n",
      "                y = len(number[1]) + len(number[100])\n",
      "                total = total + y\n",
      "                return total\n",
      "            elif x2 == '0' and x3 == '0': #hundreds after 100\n",
      "                y = len(number[int(x1)]) + len(number[100])\n",
      "                total = total + y\n",
      "                return total\n",
      "            elif x2 == '0' and x3 != '0': #for 100-109, 200-209, etc.\n",
      "                y = 3 + len(number[int(x1)]) + len(number[100]) + len(number[int(x3)])\n",
      "                total = total + y\n",
      "                return total\n",
      "            elif x2 != '0' and x3 == '0': #for number by 10's after 100\n",
      "                y = 3 + len(number[int(x1)]) + len(number[100]) + len(number[int(x1a)]) \n",
      "                total = total + y\n",
      "                return total\n",
      "            elif x2 == '1' and x3 != '0': #creating case for teens in 100's\n",
      "                y = 3 + len(number[int(x1)]) + len(number[100]) + len(number[int(x1b)])\n",
      "                total = total + y\n",
      "                return total\n",
      "            else: #takes all other numbers into account\n",
      "                y = 3 + len(number[int(x1)]) + len(number[100]) + len(number[int(x1a)]) + len(number[int(x3)])         \n",
      "                total = total + y\n",
      "                return total\n",
      "        else: #case for 1000\n",
      "            y = len(number[1]) + len(number[1000])\n",
      "            total = total + y\n",
      "            return total\n",
      "    \n",
      "print total"
     ],
     "language": "python",
     "metadata": {},
     "outputs": [
      {
       "output_type": "stream",
       "stream": "stdout",
       "text": [
        "12\n"
       ]
      }
     ],
     "prompt_number": 56
    },
    {
     "cell_type": "code",
     "collapsed": false,
     "input": [],
     "language": "python",
     "metadata": {},
     "outputs": []
    }
   ],
   "metadata": {}
  }
 ]
}