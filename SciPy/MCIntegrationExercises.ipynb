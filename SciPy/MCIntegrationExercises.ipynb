{
 "metadata": {
  "name": "",
  "signature": "sha256:8fad94a12371051977339953816cefff464d15601deab9cfb83a66819dddc2d6"
 },
 "nbformat": 3,
 "nbformat_minor": 0,
 "worksheets": [
  {
   "cells": [
    {
     "cell_type": "heading",
     "level": 1,
     "metadata": {},
     "source": [
      "Monte Carlo Integration Exercises"
     ]
    },
    {
     "cell_type": "code",
     "collapsed": false,
     "input": [
      "%pylab inline\n",
      "import numpy as np\n",
      "import matplotlib.pyplot as plt"
     ],
     "language": "python",
     "metadata": {},
     "outputs": [
      {
       "output_type": "stream",
       "stream": "stdout",
       "text": [
        "Populating the interactive namespace from numpy and matplotlib\n"
       ]
      }
     ],
     "prompt_number": 7
    },
    {
     "cell_type": "heading",
     "level": 2,
     "metadata": {},
     "source": [
      "Question 1"
     ]
    },
    {
     "cell_type": "markdown",
     "metadata": {},
     "source": [
      "(a) Use the sample mean method to compute the potential at point P(2,3) due to the disk of charge for different numbers of samples N=(101,102,103,104,105,106). Report the value and its statistical uncertainty for each sample size. How does the result depend on N?"
     ]
    },
    {
     "cell_type": "code",
     "collapsed": false,
     "input": [
      "from Electrostatics import *\n",
      "\n",
      "#create the point potential function\n",
      "def point_potential_int(N):\n",
      "    xmin = -1\n",
      "    xmax = 1\n",
      "    ymin = 0\n",
      "    ymax = 2\n",
      "    dx = 2\n",
      "    dy = 2\n",
      "    x = np.arange(-1,1,1000)\n",
      "    samples_x = xmin + (xmax-xmin)*np.random.random_sample(N);\n",
      "    y = np.arange(0,2,1000)\n",
      "    samples_y = ymin + (ymax-ymin)*np.random.random_sample(N);\n",
      "    approx = pointPotential(samples_x,samples_y,4e-6,2,3)\n",
      "    I = dx*dy*approx.mean()/((xmax-xmin)*(ymax-ymin))\n",
      "    err = (xmax-xmin)*(ymax-ymin)*np.sqrt(((approx**2).mean() - (approx.mean())**2)/N)\n",
      "    print \"I =\",I, \"+/-\", err\n",
      "#plug in the suggested N values\n",
      "point_potential_int(10)\n",
      "point_potential_int(100)\n",
      "point_potential_int(1000)\n",
      "point_potential_int(10000)\n",
      "point_potential_int(100000)\n",
      "point_potential_int(1000000)\n",
      "\n",
      "# As the value of N increases, the integral value become closer \n",
      "#to the analytical value, N changes the uncertainty"
     ],
     "language": "python",
     "metadata": {},
     "outputs": [
      {
       "output_type": "stream",
       "stream": "stdout",
       "text": [
        "I = 12611.336898 +/- 2775.8376557\n",
        "I = 13138.4976433 +/- 1138.44823987\n",
        "I = 12894.398475 +/- 368.300147346\n",
        "I = 13006.9079343 +/- 119.957506474\n",
        "I = 13042.943669 +/- 37.8122677779\n",
        "I ="
       ]
      },
      {
       "output_type": "stream",
       "stream": "stdout",
       "text": [
        " 13024.1839296 +/- 11.8772874718\n"
       ]
      }
     ],
     "prompt_number": 21
    },
    {
     "cell_type": "markdown",
     "metadata": {},
     "source": [
      "(b) Now use the same method to compute the electric potential, V, at point P(2,3), from a disk centered on the origin with radius, R=1.2 m, and charge density, \u03c3 = 2 nC/m2 ."
     ]
    },
    {
     "cell_type": "code",
     "collapsed": false,
     "input": [
      "def point_potential_circuit(N):\n",
      "      amin = 0\n",
      "      amax = 1.2\n",
      "      bmin = 0\n",
      "      bmax = 2*np.pi\n",
      "      da = 1.2\n",
      "      db = 2*np.pi\n",
      "      a = np.arange(0,1,1000)\n",
      "      samples_a = amin + (amax-amin)*np.random.random_sample(N);\n",
      "      b = np.arange(0,2*np.pi,1000)\n",
      "      samples_b = bmin + (bmax-bmin)*np.random.random_sample(N);\n",
      "      approx = pointPotential(samples_a*np.cos(samples_b),\\\n",
      "               samples_a*np.sin(samples_b),(np.pi*1.44)*2e-9,2,3)\n",
      "      I = approx.mean()/(np.pi*1.44)\n",
      "      err = (amax-amin)*(bmax-bmin)*np.sqrt(((approx**2).mean() \\\n",
      "            - (approx.mean())**2)/N)\n",
      "      print \"I =\",I, \"+/-\", err\n",
      "    \n",
      "#plug in the suggested N values\n",
      "point_potential_circuit(10)\n",
      "point_potential_circuit(100)\n",
      "point_potential_circuit(1000)\n",
      "point_potential_circuit(10000)\n",
      "point_potential_circuit(100000)\n",
      "point_potential_circuit(1000000)\n"
     ],
     "language": "python",
     "metadata": {},
     "outputs": [
      {
       "output_type": "stream",
       "stream": "stdout",
       "text": [
        "I = 4.75654124553 +/- 8.90615475047\n",
        "I = 5.14759393912 +/- 2.47901709927\n",
        "I = 5.03046113218 +/- 0.775364854709\n",
        "I = 5.0259237397 +/- 0.239871631951\n",
        "I = 5.03523481315 +/- 0.0768353565426\n",
        "I ="
       ]
      },
      {
       "output_type": "stream",
       "stream": "stdout",
       "text": [
        " 5.03337958318 +/- 0.0242527565972\n"
       ]
      }
     ],
     "prompt_number": 27
    },
    {
     "cell_type": "heading",
     "level": 2,
     "metadata": {},
     "source": [
      "Question 2"
     ]
    },
    {
     "cell_type": "markdown",
     "metadata": {},
     "source": [
      "Use the sample mean method to compute the volume of a sphere with radius 1 using spherical coordinates:\n",
      "\n",
      "V=\u222b10\u222b\u03c00\u222b2\u03c00r2sin(\u03b8)drd\u03b8d\u03d5\n",
      "\n",
      "for N=(101,102,103,104,105,106). Report the value and statistical uncertainty for each sample size. How does the result depend on N?"
     ]
    },
    {
     "cell_type": "code",
     "collapsed": false,
     "input": [
      "def shpere_volume(N):\n",
      "      cmin = 0\n",
      "      cmax = 1\n",
      "      dmin = 0\n",
      "      dmax = 2*np.pi\n",
      "      phimin = 0\n",
      "      phimax = np.pi\n",
      "      dc = 1\n",
      "      dd = 2*np.pi\n",
      "      dphi = pi\n",
      "      c = np.arange(0,1,1000)\n",
      "      samples_c = cmin + (cmax-cmin)*np.random.random_sample(N);\n",
      "      d = np.arange(0,2*np.pi,1000)\n",
      "      samples_th = thmin + (dmax-dmin)*np.random.random_sample(N);\n",
      "      phi = np.arange(0,np.pi,1000)\n",
      "      samples_phi = phimin + (phimax - phimin)*np.random.random_sample(N);\n",
      "      approx = ((samples_c**2)*sin(samples_phi))\n",
      "      I = (cmax-cmin)*(dmax-dmin)*(phimax-phimin)*approx.mean()\n",
      "      err = (cmax-cmin)*(dmax-dmin)*(phimax-phimin)*np.sqrt(((approx**2).mean()- (approx.mean())**2)/N)\n",
      "      print \"I =\",I, \"+/-\", err\n",
      "    \n",
      "#plug in the suggested N values\n",
      "point_potential_circuit(10)\n",
      "point_potential_circuit(100)\n",
      "point_potential_circuit(1000)\n",
      "point_potential_circuit(10000)\n",
      "point_potential_circuit(100000)\n",
      "point_potential_circuit(1000000)\n"
     ],
     "language": "python",
     "metadata": {},
     "outputs": [
      {
       "output_type": "stream",
       "stream": "stdout",
       "text": [
        "I = 5.17672007774 +/- 10.8751812297\n",
        "I = 5.04216654111 +/- 2.45903287043\n",
        "I = 5.03758931341 +/- 0.787920095106\n",
        "I = 5.0206488112 +/- 0.238332589855\n",
        "I = 5.03264245854 +/- 0.0768011320446\n",
        "I ="
       ]
      },
      {
       "output_type": "stream",
       "stream": "stdout",
       "text": [
        " 5.03286101336 +/- 0.0242326041161\n"
       ]
      }
     ],
     "prompt_number": 28
    },
    {
     "cell_type": "heading",
     "level": 2,
     "metadata": {},
     "source": [
      "Question 3"
     ]
    },
    {
     "cell_type": "markdown",
     "metadata": {},
     "source": [
      "(a) Use the hit or miss Monte Carlo method to estimate the integral of f(x)=41\u2212x2\u203e\u203e\u203e\u203e\u203e\u203e\u203e\u221a in the interval 0\u2264x\u22641 as a function of N, the number of samples. Let N range from 101 to 106 and use at least 100 different values for N.\n",
      "\n",
      "(np.logspace might be useful here to get evenly spaced values for N.)"
     ]
    },
    {
     "cell_type": "code",
     "collapsed": false,
     "input": [
      "def f(N):\n",
      "      f = lambda x: 4*np.sqrt(1-(x**2))\n",
      "      x = np.arange(0.,1.,0.001)\n",
      "      subx = x[logical_and((x>0),(x<1))]\n",
      "      ymax = f(subx).max()*1.05\n",
      "      ymin = 0.\n",
      "      samples_x = 0 + np.random.random_sample(N)\n",
      "      samples_y = 0 + (ymax)*np.random.random_sample(N)\n",
      "      mask = (samples_y < f(samples_x))\n",
      "      I = (ymax*mask.sum())/mask.size\n",
      "      return I\n",
      "    \n",
      "#ran out of time to finish"
     ],
     "language": "python",
     "metadata": {},
     "outputs": [],
     "prompt_number": 31
    },
    {
     "cell_type": "markdown",
     "metadata": {},
     "source": [
      "(b) Calculate the percent error for the N values from part (a) using the exact result \u03c0. Make a log-log plot of the error as a function of N.\n",
      "What is the approximate functional dependence of the error on N for large N, for example N\u2265104?"
     ]
    },
    {
     "cell_type": "code",
     "collapsed": false,
     "input": [
      "#ran out of time to finish"
     ],
     "language": "python",
     "metadata": {},
     "outputs": []
    },
    {
     "cell_type": "markdown",
     "metadata": {},
     "source": [
      "(c) Estimate the same integral using the sample mean method and compute the statistical uncertainty and error as a function of the number of samples N for N\u2265104. Use at least 100 different values for N.\n",
      "Make a log-log plot of both the statistical uncertainty and the error as a function of N.\n",
      "How many samples are needed to determine the result to two decimal places? What is the approximate functional dependence of the error on N for large N?"
     ]
    },
    {
     "cell_type": "code",
     "collapsed": false,
     "input": [
      "#ran out of time to finish"
     ],
     "language": "python",
     "metadata": {},
     "outputs": []
    }
   ],
   "metadata": {}
  }
 ]
}