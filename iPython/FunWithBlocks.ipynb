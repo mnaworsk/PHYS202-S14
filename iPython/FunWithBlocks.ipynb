{
 "metadata": {
  "name": "",
  "signature": "sha256:53f7e5aa6ea9b3e0c2244044f6345ab9e8ffb59c8db27b007c99e3e00ad08090"
 },
 "nbformat": 3,
 "nbformat_minor": 0,
 "worksheets": [
  {
   "cells": [
    {
     "cell_type": "heading",
     "level": 1,
     "metadata": {},
     "source": [
      "Fun With Blocks"
     ]
    },
    {
     "cell_type": "code",
     "collapsed": false,
     "input": [
      "from ipythonblocks import BlockGrid"
     ],
     "language": "python",
     "metadata": {},
     "outputs": [],
     "prompt_number": 2
    },
    {
     "cell_type": "code",
     "collapsed": false,
     "input": [
      "grid = BlockGrid(8,8, fill=(123,234,123))\n",
      "grid"
     ],
     "language": "python",
     "metadata": {},
     "outputs": [
      {
       "html": [
        "<style type=\"text/css\">table.blockgrid {border: none;} .blockgrid tr {border: none;} .blockgrid td {padding: 0px;} #blocksd537875d-d6df-464d-a265-d9c1544864af td {border: 1px solid white;}</style><table id=\"blocksd537875d-d6df-464d-a265-d9c1544864af\" class=\"blockgrid\"><tbody><tr><td title=\"Index: [0, 0]&#10;Color: (123, 234, 123)\" style=\"width: 20px; height: 20px;background-color: rgb(123, 234, 123);\"></td><td title=\"Index: [0, 1]&#10;Color: (123, 234, 123)\" style=\"width: 20px; height: 20px;background-color: rgb(123, 234, 123);\"></td><td title=\"Index: [0, 2]&#10;Color: (123, 234, 123)\" style=\"width: 20px; height: 20px;background-color: rgb(123, 234, 123);\"></td><td title=\"Index: [0, 3]&#10;Color: (123, 234, 123)\" style=\"width: 20px; height: 20px;background-color: rgb(123, 234, 123);\"></td><td title=\"Index: [0, 4]&#10;Color: (123, 234, 123)\" style=\"width: 20px; height: 20px;background-color: rgb(123, 234, 123);\"></td><td title=\"Index: [0, 5]&#10;Color: (123, 234, 123)\" style=\"width: 20px; height: 20px;background-color: rgb(123, 234, 123);\"></td><td title=\"Index: [0, 6]&#10;Color: (123, 234, 123)\" style=\"width: 20px; height: 20px;background-color: rgb(123, 234, 123);\"></td><td title=\"Index: [0, 7]&#10;Color: (123, 234, 123)\" style=\"width: 20px; height: 20px;background-color: rgb(123, 234, 123);\"></td></tr><tr><td title=\"Index: [1, 0]&#10;Color: (123, 234, 123)\" style=\"width: 20px; height: 20px;background-color: rgb(123, 234, 123);\"></td><td title=\"Index: [1, 1]&#10;Color: (123, 234, 123)\" style=\"width: 20px; height: 20px;background-color: rgb(123, 234, 123);\"></td><td title=\"Index: [1, 2]&#10;Color: (123, 234, 123)\" style=\"width: 20px; height: 20px;background-color: rgb(123, 234, 123);\"></td><td title=\"Index: [1, 3]&#10;Color: (123, 234, 123)\" style=\"width: 20px; height: 20px;background-color: rgb(123, 234, 123);\"></td><td title=\"Index: [1, 4]&#10;Color: (123, 234, 123)\" style=\"width: 20px; height: 20px;background-color: rgb(123, 234, 123);\"></td><td title=\"Index: [1, 5]&#10;Color: (123, 234, 123)\" style=\"width: 20px; height: 20px;background-color: rgb(123, 234, 123);\"></td><td title=\"Index: [1, 6]&#10;Color: (123, 234, 123)\" style=\"width: 20px; height: 20px;background-color: rgb(123, 234, 123);\"></td><td title=\"Index: [1, 7]&#10;Color: (123, 234, 123)\" style=\"width: 20px; height: 20px;background-color: rgb(123, 234, 123);\"></td></tr><tr><td title=\"Index: [2, 0]&#10;Color: (123, 234, 123)\" style=\"width: 20px; height: 20px;background-color: rgb(123, 234, 123);\"></td><td title=\"Index: [2, 1]&#10;Color: (123, 234, 123)\" style=\"width: 20px; height: 20px;background-color: rgb(123, 234, 123);\"></td><td title=\"Index: [2, 2]&#10;Color: (123, 234, 123)\" style=\"width: 20px; height: 20px;background-color: rgb(123, 234, 123);\"></td><td title=\"Index: [2, 3]&#10;Color: (123, 234, 123)\" style=\"width: 20px; height: 20px;background-color: rgb(123, 234, 123);\"></td><td title=\"Index: [2, 4]&#10;Color: (123, 234, 123)\" style=\"width: 20px; height: 20px;background-color: rgb(123, 234, 123);\"></td><td title=\"Index: [2, 5]&#10;Color: (123, 234, 123)\" style=\"width: 20px; height: 20px;background-color: rgb(123, 234, 123);\"></td><td title=\"Index: [2, 6]&#10;Color: (123, 234, 123)\" style=\"width: 20px; height: 20px;background-color: rgb(123, 234, 123);\"></td><td title=\"Index: [2, 7]&#10;Color: (123, 234, 123)\" style=\"width: 20px; height: 20px;background-color: rgb(123, 234, 123);\"></td></tr><tr><td title=\"Index: [3, 0]&#10;Color: (123, 234, 123)\" style=\"width: 20px; height: 20px;background-color: rgb(123, 234, 123);\"></td><td title=\"Index: [3, 1]&#10;Color: (123, 234, 123)\" style=\"width: 20px; height: 20px;background-color: rgb(123, 234, 123);\"></td><td title=\"Index: [3, 2]&#10;Color: (123, 234, 123)\" style=\"width: 20px; height: 20px;background-color: rgb(123, 234, 123);\"></td><td title=\"Index: [3, 3]&#10;Color: (123, 234, 123)\" style=\"width: 20px; height: 20px;background-color: rgb(123, 234, 123);\"></td><td title=\"Index: [3, 4]&#10;Color: (123, 234, 123)\" style=\"width: 20px; height: 20px;background-color: rgb(123, 234, 123);\"></td><td title=\"Index: [3, 5]&#10;Color: (123, 234, 123)\" style=\"width: 20px; height: 20px;background-color: rgb(123, 234, 123);\"></td><td title=\"Index: [3, 6]&#10;Color: (123, 234, 123)\" style=\"width: 20px; height: 20px;background-color: rgb(123, 234, 123);\"></td><td title=\"Index: [3, 7]&#10;Color: (123, 234, 123)\" style=\"width: 20px; height: 20px;background-color: rgb(123, 234, 123);\"></td></tr><tr><td title=\"Index: [4, 0]&#10;Color: (123, 234, 123)\" style=\"width: 20px; height: 20px;background-color: rgb(123, 234, 123);\"></td><td title=\"Index: [4, 1]&#10;Color: (123, 234, 123)\" style=\"width: 20px; height: 20px;background-color: rgb(123, 234, 123);\"></td><td title=\"Index: [4, 2]&#10;Color: (123, 234, 123)\" style=\"width: 20px; height: 20px;background-color: rgb(123, 234, 123);\"></td><td title=\"Index: [4, 3]&#10;Color: (123, 234, 123)\" style=\"width: 20px; height: 20px;background-color: rgb(123, 234, 123);\"></td><td title=\"Index: [4, 4]&#10;Color: (123, 234, 123)\" style=\"width: 20px; height: 20px;background-color: rgb(123, 234, 123);\"></td><td title=\"Index: [4, 5]&#10;Color: (123, 234, 123)\" style=\"width: 20px; height: 20px;background-color: rgb(123, 234, 123);\"></td><td title=\"Index: [4, 6]&#10;Color: (123, 234, 123)\" style=\"width: 20px; height: 20px;background-color: rgb(123, 234, 123);\"></td><td title=\"Index: [4, 7]&#10;Color: (123, 234, 123)\" style=\"width: 20px; height: 20px;background-color: rgb(123, 234, 123);\"></td></tr><tr><td title=\"Index: [5, 0]&#10;Color: (123, 234, 123)\" style=\"width: 20px; height: 20px;background-color: rgb(123, 234, 123);\"></td><td title=\"Index: [5, 1]&#10;Color: (123, 234, 123)\" style=\"width: 20px; height: 20px;background-color: rgb(123, 234, 123);\"></td><td title=\"Index: [5, 2]&#10;Color: (123, 234, 123)\" style=\"width: 20px; height: 20px;background-color: rgb(123, 234, 123);\"></td><td title=\"Index: [5, 3]&#10;Color: (123, 234, 123)\" style=\"width: 20px; height: 20px;background-color: rgb(123, 234, 123);\"></td><td title=\"Index: [5, 4]&#10;Color: (123, 234, 123)\" style=\"width: 20px; height: 20px;background-color: rgb(123, 234, 123);\"></td><td title=\"Index: [5, 5]&#10;Color: (123, 234, 123)\" style=\"width: 20px; height: 20px;background-color: rgb(123, 234, 123);\"></td><td title=\"Index: [5, 6]&#10;Color: (123, 234, 123)\" style=\"width: 20px; height: 20px;background-color: rgb(123, 234, 123);\"></td><td title=\"Index: [5, 7]&#10;Color: (123, 234, 123)\" style=\"width: 20px; height: 20px;background-color: rgb(123, 234, 123);\"></td></tr><tr><td title=\"Index: [6, 0]&#10;Color: (123, 234, 123)\" style=\"width: 20px; height: 20px;background-color: rgb(123, 234, 123);\"></td><td title=\"Index: [6, 1]&#10;Color: (123, 234, 123)\" style=\"width: 20px; height: 20px;background-color: rgb(123, 234, 123);\"></td><td title=\"Index: [6, 2]&#10;Color: (123, 234, 123)\" style=\"width: 20px; height: 20px;background-color: rgb(123, 234, 123);\"></td><td title=\"Index: [6, 3]&#10;Color: (123, 234, 123)\" style=\"width: 20px; height: 20px;background-color: rgb(123, 234, 123);\"></td><td title=\"Index: [6, 4]&#10;Color: (123, 234, 123)\" style=\"width: 20px; height: 20px;background-color: rgb(123, 234, 123);\"></td><td title=\"Index: [6, 5]&#10;Color: (123, 234, 123)\" style=\"width: 20px; height: 20px;background-color: rgb(123, 234, 123);\"></td><td title=\"Index: [6, 6]&#10;Color: (123, 234, 123)\" style=\"width: 20px; height: 20px;background-color: rgb(123, 234, 123);\"></td><td title=\"Index: [6, 7]&#10;Color: (123, 234, 123)\" style=\"width: 20px; height: 20px;background-color: rgb(123, 234, 123);\"></td></tr><tr><td title=\"Index: [7, 0]&#10;Color: (123, 234, 123)\" style=\"width: 20px; height: 20px;background-color: rgb(123, 234, 123);\"></td><td title=\"Index: [7, 1]&#10;Color: (123, 234, 123)\" style=\"width: 20px; height: 20px;background-color: rgb(123, 234, 123);\"></td><td title=\"Index: [7, 2]&#10;Color: (123, 234, 123)\" style=\"width: 20px; height: 20px;background-color: rgb(123, 234, 123);\"></td><td title=\"Index: [7, 3]&#10;Color: (123, 234, 123)\" style=\"width: 20px; height: 20px;background-color: rgb(123, 234, 123);\"></td><td title=\"Index: [7, 4]&#10;Color: (123, 234, 123)\" style=\"width: 20px; height: 20px;background-color: rgb(123, 234, 123);\"></td><td title=\"Index: [7, 5]&#10;Color: (123, 234, 123)\" style=\"width: 20px; height: 20px;background-color: rgb(123, 234, 123);\"></td><td title=\"Index: [7, 6]&#10;Color: (123, 234, 123)\" style=\"width: 20px; height: 20px;background-color: rgb(123, 234, 123);\"></td><td title=\"Index: [7, 7]&#10;Color: (123, 234, 123)\" style=\"width: 20px; height: 20px;background-color: rgb(123, 234, 123);\"></td></tr></tbody></table>"
       ],
       "metadata": {},
       "output_type": "pyout",
       "prompt_number": 3,
       "text": [
        "<ipythonblocks.ipythonblocks.BlockGrid at 0x102619590>"
       ]
      }
     ],
     "prompt_number": 3
    },
    {
     "cell_type": "code",
     "collapsed": false,
     "input": [
      "grid[0,0]"
     ],
     "language": "python",
     "metadata": {},
     "outputs": [
      {
       "html": [
        "<style type=\"text/css\">table.blockgrid {border: none;} .blockgrid tr {border: none;} .blockgrid td {padding: 0px;} #blocks6b7dc880-c2c2-4b5a-8524-685b6f212399 td {border: 0px solid white;}</style><table id=\"blocks6b7dc880-c2c2-4b5a-8524-685b6f212399\" class=\"blockgrid\"><tbody><tr><td title=\"Index: [0, 0]&#10;Color: (123, 234, 123)\" style=\"width: 20px; height: 20px;background-color: rgb(123, 234, 123);\"></td></tr></tbody></table>"
       ],
       "metadata": {},
       "output_type": "pyout",
       "prompt_number": 5,
       "text": [
        "Block(123, 234, 123, size=20)"
       ]
      }
     ],
     "prompt_number": 5
    },
    {
     "cell_type": "code",
     "collapsed": false,
     "input": [
      "grid[0,0] = (0,0,  0)\n",
      "grid[0,2] = (255, 0, 0)\n",
      "grid[0,4] = (255, 255, 255)\n",
      "grid[0,6] = (0, 150, 150)\n",
      "grid.show()"
     ],
     "language": "python",
     "metadata": {},
     "outputs": [
      {
       "html": [
        "<style type=\"text/css\">table.blockgrid {border: none;} .blockgrid tr {border: none;} .blockgrid td {padding: 0px;} #blocksbecc53c1-024c-40ca-8611-de6f8db4ae12 td {border: 1px solid white;}</style><table id=\"blocksbecc53c1-024c-40ca-8611-de6f8db4ae12\" class=\"blockgrid\"><tbody><tr><td title=\"Index: [0, 0]&#10;Color: (0, 0, 0)\" style=\"width: 20px; height: 20px;background-color: rgb(0, 0, 0);\"></td><td title=\"Index: [0, 1]&#10;Color: (123, 234, 123)\" style=\"width: 20px; height: 20px;background-color: rgb(123, 234, 123);\"></td><td title=\"Index: [0, 2]&#10;Color: (255, 0, 0)\" style=\"width: 20px; height: 20px;background-color: rgb(255, 0, 0);\"></td><td title=\"Index: [0, 3]&#10;Color: (123, 234, 123)\" style=\"width: 20px; height: 20px;background-color: rgb(123, 234, 123);\"></td><td title=\"Index: [0, 4]&#10;Color: (255, 255, 255)\" style=\"width: 20px; height: 20px;background-color: rgb(255, 255, 255);\"></td><td title=\"Index: [0, 5]&#10;Color: (123, 234, 123)\" style=\"width: 20px; height: 20px;background-color: rgb(123, 234, 123);\"></td><td title=\"Index: [0, 6]&#10;Color: (0, 150, 150)\" style=\"width: 20px; height: 20px;background-color: rgb(0, 150, 150);\"></td><td title=\"Index: [0, 7]&#10;Color: (123, 234, 123)\" style=\"width: 20px; height: 20px;background-color: rgb(123, 234, 123);\"></td></tr><tr><td title=\"Index: [1, 0]&#10;Color: (123, 234, 123)\" style=\"width: 20px; height: 20px;background-color: rgb(123, 234, 123);\"></td><td title=\"Index: [1, 1]&#10;Color: (123, 234, 123)\" style=\"width: 20px; height: 20px;background-color: rgb(123, 234, 123);\"></td><td title=\"Index: [1, 2]&#10;Color: (123, 234, 123)\" style=\"width: 20px; height: 20px;background-color: rgb(123, 234, 123);\"></td><td title=\"Index: [1, 3]&#10;Color: (123, 234, 123)\" style=\"width: 20px; height: 20px;background-color: rgb(123, 234, 123);\"></td><td title=\"Index: [1, 4]&#10;Color: (123, 234, 123)\" style=\"width: 20px; height: 20px;background-color: rgb(123, 234, 123);\"></td><td title=\"Index: [1, 5]&#10;Color: (123, 234, 123)\" style=\"width: 20px; height: 20px;background-color: rgb(123, 234, 123);\"></td><td title=\"Index: [1, 6]&#10;Color: (123, 234, 123)\" style=\"width: 20px; height: 20px;background-color: rgb(123, 234, 123);\"></td><td title=\"Index: [1, 7]&#10;Color: (123, 234, 123)\" style=\"width: 20px; height: 20px;background-color: rgb(123, 234, 123);\"></td></tr><tr><td title=\"Index: [2, 0]&#10;Color: (123, 234, 123)\" style=\"width: 20px; height: 20px;background-color: rgb(123, 234, 123);\"></td><td title=\"Index: [2, 1]&#10;Color: (123, 234, 123)\" style=\"width: 20px; height: 20px;background-color: rgb(123, 234, 123);\"></td><td title=\"Index: [2, 2]&#10;Color: (123, 234, 123)\" style=\"width: 20px; height: 20px;background-color: rgb(123, 234, 123);\"></td><td title=\"Index: [2, 3]&#10;Color: (123, 234, 123)\" style=\"width: 20px; height: 20px;background-color: rgb(123, 234, 123);\"></td><td title=\"Index: [2, 4]&#10;Color: (123, 234, 123)\" style=\"width: 20px; height: 20px;background-color: rgb(123, 234, 123);\"></td><td title=\"Index: [2, 5]&#10;Color: (123, 234, 123)\" style=\"width: 20px; height: 20px;background-color: rgb(123, 234, 123);\"></td><td title=\"Index: [2, 6]&#10;Color: (123, 234, 123)\" style=\"width: 20px; height: 20px;background-color: rgb(123, 234, 123);\"></td><td title=\"Index: [2, 7]&#10;Color: (123, 234, 123)\" style=\"width: 20px; height: 20px;background-color: rgb(123, 234, 123);\"></td></tr><tr><td title=\"Index: [3, 0]&#10;Color: (123, 234, 123)\" style=\"width: 20px; height: 20px;background-color: rgb(123, 234, 123);\"></td><td title=\"Index: [3, 1]&#10;Color: (123, 234, 123)\" style=\"width: 20px; height: 20px;background-color: rgb(123, 234, 123);\"></td><td title=\"Index: [3, 2]&#10;Color: (123, 234, 123)\" style=\"width: 20px; height: 20px;background-color: rgb(123, 234, 123);\"></td><td title=\"Index: [3, 3]&#10;Color: (123, 234, 123)\" style=\"width: 20px; height: 20px;background-color: rgb(123, 234, 123);\"></td><td title=\"Index: [3, 4]&#10;Color: (123, 234, 123)\" style=\"width: 20px; height: 20px;background-color: rgb(123, 234, 123);\"></td><td title=\"Index: [3, 5]&#10;Color: (123, 234, 123)\" style=\"width: 20px; height: 20px;background-color: rgb(123, 234, 123);\"></td><td title=\"Index: [3, 6]&#10;Color: (123, 234, 123)\" style=\"width: 20px; height: 20px;background-color: rgb(123, 234, 123);\"></td><td title=\"Index: [3, 7]&#10;Color: (123, 234, 123)\" style=\"width: 20px; height: 20px;background-color: rgb(123, 234, 123);\"></td></tr><tr><td title=\"Index: [4, 0]&#10;Color: (123, 234, 123)\" style=\"width: 20px; height: 20px;background-color: rgb(123, 234, 123);\"></td><td title=\"Index: [4, 1]&#10;Color: (123, 234, 123)\" style=\"width: 20px; height: 20px;background-color: rgb(123, 234, 123);\"></td><td title=\"Index: [4, 2]&#10;Color: (123, 234, 123)\" style=\"width: 20px; height: 20px;background-color: rgb(123, 234, 123);\"></td><td title=\"Index: [4, 3]&#10;Color: (123, 234, 123)\" style=\"width: 20px; height: 20px;background-color: rgb(123, 234, 123);\"></td><td title=\"Index: [4, 4]&#10;Color: (123, 234, 123)\" style=\"width: 20px; height: 20px;background-color: rgb(123, 234, 123);\"></td><td title=\"Index: [4, 5]&#10;Color: (123, 234, 123)\" style=\"width: 20px; height: 20px;background-color: rgb(123, 234, 123);\"></td><td title=\"Index: [4, 6]&#10;Color: (123, 234, 123)\" style=\"width: 20px; height: 20px;background-color: rgb(123, 234, 123);\"></td><td title=\"Index: [4, 7]&#10;Color: (123, 234, 123)\" style=\"width: 20px; height: 20px;background-color: rgb(123, 234, 123);\"></td></tr><tr><td title=\"Index: [5, 0]&#10;Color: (123, 234, 123)\" style=\"width: 20px; height: 20px;background-color: rgb(123, 234, 123);\"></td><td title=\"Index: [5, 1]&#10;Color: (123, 234, 123)\" style=\"width: 20px; height: 20px;background-color: rgb(123, 234, 123);\"></td><td title=\"Index: [5, 2]&#10;Color: (123, 234, 123)\" style=\"width: 20px; height: 20px;background-color: rgb(123, 234, 123);\"></td><td title=\"Index: [5, 3]&#10;Color: (123, 234, 123)\" style=\"width: 20px; height: 20px;background-color: rgb(123, 234, 123);\"></td><td title=\"Index: [5, 4]&#10;Color: (123, 234, 123)\" style=\"width: 20px; height: 20px;background-color: rgb(123, 234, 123);\"></td><td title=\"Index: [5, 5]&#10;Color: (123, 234, 123)\" style=\"width: 20px; height: 20px;background-color: rgb(123, 234, 123);\"></td><td title=\"Index: [5, 6]&#10;Color: (123, 234, 123)\" style=\"width: 20px; height: 20px;background-color: rgb(123, 234, 123);\"></td><td title=\"Index: [5, 7]&#10;Color: (123, 234, 123)\" style=\"width: 20px; height: 20px;background-color: rgb(123, 234, 123);\"></td></tr><tr><td title=\"Index: [6, 0]&#10;Color: (123, 234, 123)\" style=\"width: 20px; height: 20px;background-color: rgb(123, 234, 123);\"></td><td title=\"Index: [6, 1]&#10;Color: (123, 234, 123)\" style=\"width: 20px; height: 20px;background-color: rgb(123, 234, 123);\"></td><td title=\"Index: [6, 2]&#10;Color: (123, 234, 123)\" style=\"width: 20px; height: 20px;background-color: rgb(123, 234, 123);\"></td><td title=\"Index: [6, 3]&#10;Color: (123, 234, 123)\" style=\"width: 20px; height: 20px;background-color: rgb(123, 234, 123);\"></td><td title=\"Index: [6, 4]&#10;Color: (123, 234, 123)\" style=\"width: 20px; height: 20px;background-color: rgb(123, 234, 123);\"></td><td title=\"Index: [6, 5]&#10;Color: (123, 234, 123)\" style=\"width: 20px; height: 20px;background-color: rgb(123, 234, 123);\"></td><td title=\"Index: [6, 6]&#10;Color: (123, 234, 123)\" style=\"width: 20px; height: 20px;background-color: rgb(123, 234, 123);\"></td><td title=\"Index: [6, 7]&#10;Color: (123, 234, 123)\" style=\"width: 20px; height: 20px;background-color: rgb(123, 234, 123);\"></td></tr><tr><td title=\"Index: [7, 0]&#10;Color: (123, 234, 123)\" style=\"width: 20px; height: 20px;background-color: rgb(123, 234, 123);\"></td><td title=\"Index: [7, 1]&#10;Color: (123, 234, 123)\" style=\"width: 20px; height: 20px;background-color: rgb(123, 234, 123);\"></td><td title=\"Index: [7, 2]&#10;Color: (123, 234, 123)\" style=\"width: 20px; height: 20px;background-color: rgb(123, 234, 123);\"></td><td title=\"Index: [7, 3]&#10;Color: (123, 234, 123)\" style=\"width: 20px; height: 20px;background-color: rgb(123, 234, 123);\"></td><td title=\"Index: [7, 4]&#10;Color: (123, 234, 123)\" style=\"width: 20px; height: 20px;background-color: rgb(123, 234, 123);\"></td><td title=\"Index: [7, 5]&#10;Color: (123, 234, 123)\" style=\"width: 20px; height: 20px;background-color: rgb(123, 234, 123);\"></td><td title=\"Index: [7, 6]&#10;Color: (123, 234, 123)\" style=\"width: 20px; height: 20px;background-color: rgb(123, 234, 123);\"></td><td title=\"Index: [7, 7]&#10;Color: (123, 234, 123)\" style=\"width: 20px; height: 20px;background-color: rgb(123, 234, 123);\"></td></tr></tbody></table>"
       ],
       "metadata": {},
       "output_type": "display_data",
       "text": [
        "<IPython.core.display.HTML at 0x102619350>"
       ]
      }
     ],
     "prompt_number": 9
    },
    {
     "cell_type": "code",
     "collapsed": false,
     "input": [
      "for block in grid:\n",
      "    if block.row % 2 == 0 and block.col % 3 == 0: \n",
      "        block.red = 0\n",
      "        block.green = 0\n",
      "        block.green = 0\n",
      "grid.show()"
     ],
     "language": "python",
     "metadata": {},
     "outputs": [
      {
       "html": [
        "<style type=\"text/css\">table.blockgrid {border: none;} .blockgrid tr {border: none;} .blockgrid td {padding: 0px;} #blocksfd4e03dc-cca3-4c78-a2a7-d0fa148262b3 td {border: 1px solid white;}</style><table id=\"blocksfd4e03dc-cca3-4c78-a2a7-d0fa148262b3\" class=\"blockgrid\"><tbody><tr><td title=\"Index: [0, 0]&#10;Color: (0, 0, 0)\" style=\"width: 20px; height: 20px;background-color: rgb(0, 0, 0);\"></td><td title=\"Index: [0, 1]&#10;Color: (123, 234, 123)\" style=\"width: 20px; height: 20px;background-color: rgb(123, 234, 123);\"></td><td title=\"Index: [0, 2]&#10;Color: (255, 0, 0)\" style=\"width: 20px; height: 20px;background-color: rgb(255, 0, 0);\"></td><td title=\"Index: [0, 3]&#10;Color: (0, 0, 123)\" style=\"width: 20px; height: 20px;background-color: rgb(0, 0, 123);\"></td><td title=\"Index: [0, 4]&#10;Color: (255, 255, 255)\" style=\"width: 20px; height: 20px;background-color: rgb(255, 255, 255);\"></td><td title=\"Index: [0, 5]&#10;Color: (123, 234, 123)\" style=\"width: 20px; height: 20px;background-color: rgb(123, 234, 123);\"></td><td title=\"Index: [0, 6]&#10;Color: (0, 0, 150)\" style=\"width: 20px; height: 20px;background-color: rgb(0, 0, 150);\"></td><td title=\"Index: [0, 7]&#10;Color: (123, 234, 123)\" style=\"width: 20px; height: 20px;background-color: rgb(123, 234, 123);\"></td></tr><tr><td title=\"Index: [1, 0]&#10;Color: (123, 234, 123)\" style=\"width: 20px; height: 20px;background-color: rgb(123, 234, 123);\"></td><td title=\"Index: [1, 1]&#10;Color: (123, 234, 123)\" style=\"width: 20px; height: 20px;background-color: rgb(123, 234, 123);\"></td><td title=\"Index: [1, 2]&#10;Color: (123, 234, 123)\" style=\"width: 20px; height: 20px;background-color: rgb(123, 234, 123);\"></td><td title=\"Index: [1, 3]&#10;Color: (123, 234, 123)\" style=\"width: 20px; height: 20px;background-color: rgb(123, 234, 123);\"></td><td title=\"Index: [1, 4]&#10;Color: (123, 234, 123)\" style=\"width: 20px; height: 20px;background-color: rgb(123, 234, 123);\"></td><td title=\"Index: [1, 5]&#10;Color: (123, 234, 123)\" style=\"width: 20px; height: 20px;background-color: rgb(123, 234, 123);\"></td><td title=\"Index: [1, 6]&#10;Color: (123, 234, 123)\" style=\"width: 20px; height: 20px;background-color: rgb(123, 234, 123);\"></td><td title=\"Index: [1, 7]&#10;Color: (123, 234, 123)\" style=\"width: 20px; height: 20px;background-color: rgb(123, 234, 123);\"></td></tr><tr><td title=\"Index: [2, 0]&#10;Color: (0, 0, 123)\" style=\"width: 20px; height: 20px;background-color: rgb(0, 0, 123);\"></td><td title=\"Index: [2, 1]&#10;Color: (123, 234, 123)\" style=\"width: 20px; height: 20px;background-color: rgb(123, 234, 123);\"></td><td title=\"Index: [2, 2]&#10;Color: (123, 234, 123)\" style=\"width: 20px; height: 20px;background-color: rgb(123, 234, 123);\"></td><td title=\"Index: [2, 3]&#10;Color: (0, 0, 123)\" style=\"width: 20px; height: 20px;background-color: rgb(0, 0, 123);\"></td><td title=\"Index: [2, 4]&#10;Color: (123, 234, 123)\" style=\"width: 20px; height: 20px;background-color: rgb(123, 234, 123);\"></td><td title=\"Index: [2, 5]&#10;Color: (123, 234, 123)\" style=\"width: 20px; height: 20px;background-color: rgb(123, 234, 123);\"></td><td title=\"Index: [2, 6]&#10;Color: (0, 0, 123)\" style=\"width: 20px; height: 20px;background-color: rgb(0, 0, 123);\"></td><td title=\"Index: [2, 7]&#10;Color: (123, 234, 123)\" style=\"width: 20px; height: 20px;background-color: rgb(123, 234, 123);\"></td></tr><tr><td title=\"Index: [3, 0]&#10;Color: (123, 234, 123)\" style=\"width: 20px; height: 20px;background-color: rgb(123, 234, 123);\"></td><td title=\"Index: [3, 1]&#10;Color: (123, 234, 123)\" style=\"width: 20px; height: 20px;background-color: rgb(123, 234, 123);\"></td><td title=\"Index: [3, 2]&#10;Color: (123, 234, 123)\" style=\"width: 20px; height: 20px;background-color: rgb(123, 234, 123);\"></td><td title=\"Index: [3, 3]&#10;Color: (123, 234, 123)\" style=\"width: 20px; height: 20px;background-color: rgb(123, 234, 123);\"></td><td title=\"Index: [3, 4]&#10;Color: (123, 234, 123)\" style=\"width: 20px; height: 20px;background-color: rgb(123, 234, 123);\"></td><td title=\"Index: [3, 5]&#10;Color: (123, 234, 123)\" style=\"width: 20px; height: 20px;background-color: rgb(123, 234, 123);\"></td><td title=\"Index: [3, 6]&#10;Color: (123, 234, 123)\" style=\"width: 20px; height: 20px;background-color: rgb(123, 234, 123);\"></td><td title=\"Index: [3, 7]&#10;Color: (123, 234, 123)\" style=\"width: 20px; height: 20px;background-color: rgb(123, 234, 123);\"></td></tr><tr><td title=\"Index: [4, 0]&#10;Color: (0, 0, 123)\" style=\"width: 20px; height: 20px;background-color: rgb(0, 0, 123);\"></td><td title=\"Index: [4, 1]&#10;Color: (123, 234, 123)\" style=\"width: 20px; height: 20px;background-color: rgb(123, 234, 123);\"></td><td title=\"Index: [4, 2]&#10;Color: (123, 234, 123)\" style=\"width: 20px; height: 20px;background-color: rgb(123, 234, 123);\"></td><td title=\"Index: [4, 3]&#10;Color: (0, 0, 123)\" style=\"width: 20px; height: 20px;background-color: rgb(0, 0, 123);\"></td><td title=\"Index: [4, 4]&#10;Color: (123, 234, 123)\" style=\"width: 20px; height: 20px;background-color: rgb(123, 234, 123);\"></td><td title=\"Index: [4, 5]&#10;Color: (123, 234, 123)\" style=\"width: 20px; height: 20px;background-color: rgb(123, 234, 123);\"></td><td title=\"Index: [4, 6]&#10;Color: (0, 0, 123)\" style=\"width: 20px; height: 20px;background-color: rgb(0, 0, 123);\"></td><td title=\"Index: [4, 7]&#10;Color: (123, 234, 123)\" style=\"width: 20px; height: 20px;background-color: rgb(123, 234, 123);\"></td></tr><tr><td title=\"Index: [5, 0]&#10;Color: (123, 234, 123)\" style=\"width: 20px; height: 20px;background-color: rgb(123, 234, 123);\"></td><td title=\"Index: [5, 1]&#10;Color: (123, 234, 123)\" style=\"width: 20px; height: 20px;background-color: rgb(123, 234, 123);\"></td><td title=\"Index: [5, 2]&#10;Color: (123, 234, 123)\" style=\"width: 20px; height: 20px;background-color: rgb(123, 234, 123);\"></td><td title=\"Index: [5, 3]&#10;Color: (123, 234, 123)\" style=\"width: 20px; height: 20px;background-color: rgb(123, 234, 123);\"></td><td title=\"Index: [5, 4]&#10;Color: (123, 234, 123)\" style=\"width: 20px; height: 20px;background-color: rgb(123, 234, 123);\"></td><td title=\"Index: [5, 5]&#10;Color: (123, 234, 123)\" style=\"width: 20px; height: 20px;background-color: rgb(123, 234, 123);\"></td><td title=\"Index: [5, 6]&#10;Color: (123, 234, 123)\" style=\"width: 20px; height: 20px;background-color: rgb(123, 234, 123);\"></td><td title=\"Index: [5, 7]&#10;Color: (123, 234, 123)\" style=\"width: 20px; height: 20px;background-color: rgb(123, 234, 123);\"></td></tr><tr><td title=\"Index: [6, 0]&#10;Color: (0, 0, 123)\" style=\"width: 20px; height: 20px;background-color: rgb(0, 0, 123);\"></td><td title=\"Index: [6, 1]&#10;Color: (123, 234, 123)\" style=\"width: 20px; height: 20px;background-color: rgb(123, 234, 123);\"></td><td title=\"Index: [6, 2]&#10;Color: (123, 234, 123)\" style=\"width: 20px; height: 20px;background-color: rgb(123, 234, 123);\"></td><td title=\"Index: [6, 3]&#10;Color: (0, 0, 123)\" style=\"width: 20px; height: 20px;background-color: rgb(0, 0, 123);\"></td><td title=\"Index: [6, 4]&#10;Color: (123, 234, 123)\" style=\"width: 20px; height: 20px;background-color: rgb(123, 234, 123);\"></td><td title=\"Index: [6, 5]&#10;Color: (123, 234, 123)\" style=\"width: 20px; height: 20px;background-color: rgb(123, 234, 123);\"></td><td title=\"Index: [6, 6]&#10;Color: (0, 0, 123)\" style=\"width: 20px; height: 20px;background-color: rgb(0, 0, 123);\"></td><td title=\"Index: [6, 7]&#10;Color: (123, 234, 123)\" style=\"width: 20px; height: 20px;background-color: rgb(123, 234, 123);\"></td></tr><tr><td title=\"Index: [7, 0]&#10;Color: (123, 234, 123)\" style=\"width: 20px; height: 20px;background-color: rgb(123, 234, 123);\"></td><td title=\"Index: [7, 1]&#10;Color: (123, 234, 123)\" style=\"width: 20px; height: 20px;background-color: rgb(123, 234, 123);\"></td><td title=\"Index: [7, 2]&#10;Color: (123, 234, 123)\" style=\"width: 20px; height: 20px;background-color: rgb(123, 234, 123);\"></td><td title=\"Index: [7, 3]&#10;Color: (123, 234, 123)\" style=\"width: 20px; height: 20px;background-color: rgb(123, 234, 123);\"></td><td title=\"Index: [7, 4]&#10;Color: (123, 234, 123)\" style=\"width: 20px; height: 20px;background-color: rgb(123, 234, 123);\"></td><td title=\"Index: [7, 5]&#10;Color: (123, 234, 123)\" style=\"width: 20px; height: 20px;background-color: rgb(123, 234, 123);\"></td><td title=\"Index: [7, 6]&#10;Color: (123, 234, 123)\" style=\"width: 20px; height: 20px;background-color: rgb(123, 234, 123);\"></td><td title=\"Index: [7, 7]&#10;Color: (123, 234, 123)\" style=\"width: 20px; height: 20px;background-color: rgb(123, 234, 123);\"></td></tr></tbody></table>"
       ],
       "metadata": {},
       "output_type": "display_data",
       "text": [
        "<IPython.core.display.HTML at 0x102639950>"
       ]
      }
     ],
     "prompt_number": 11
    },
    {
     "cell_type": "code",
     "collapsed": false,
     "input": [
      "for row in range(grid.height):\n",
      "    for col in range(grid.width):\n",
      "        square = grid[row,col]\n",
      "        square.red = 100 \n",
      "        \n",
      "        if row % 2 == 0: \n",
      "            square.green = 15\n",
      "        else:\n",
      "            square.blue = 15\n",
      "        if col % 2 == 0: \n",
      "            square.blue = 15\n",
      "        else: \n",
      "            square.blue = 255\n",
      "grid.show()"
     ],
     "language": "python",
     "metadata": {},
     "outputs": [
      {
       "html": [
        "<style type=\"text/css\">table.blockgrid {border: none;} .blockgrid tr {border: none;} .blockgrid td {padding: 0px;} #blocks1e9ef4a8-7cbe-4e11-8790-077fc5825554 td {border: 1px solid white;}</style><table id=\"blocks1e9ef4a8-7cbe-4e11-8790-077fc5825554\" class=\"blockgrid\"><tbody><tr><td title=\"Index: [0, 0]&#10;Color: (100, 15, 15)\" style=\"width: 20px; height: 20px;background-color: rgb(100, 15, 15);\"></td><td title=\"Index: [0, 1]&#10;Color: (100, 15, 255)\" style=\"width: 20px; height: 20px;background-color: rgb(100, 15, 255);\"></td><td title=\"Index: [0, 2]&#10;Color: (100, 15, 15)\" style=\"width: 20px; height: 20px;background-color: rgb(100, 15, 15);\"></td><td title=\"Index: [0, 3]&#10;Color: (100, 15, 255)\" style=\"width: 20px; height: 20px;background-color: rgb(100, 15, 255);\"></td><td title=\"Index: [0, 4]&#10;Color: (100, 15, 15)\" style=\"width: 20px; height: 20px;background-color: rgb(100, 15, 15);\"></td><td title=\"Index: [0, 5]&#10;Color: (100, 15, 255)\" style=\"width: 20px; height: 20px;background-color: rgb(100, 15, 255);\"></td><td title=\"Index: [0, 6]&#10;Color: (100, 15, 15)\" style=\"width: 20px; height: 20px;background-color: rgb(100, 15, 15);\"></td><td title=\"Index: [0, 7]&#10;Color: (100, 15, 255)\" style=\"width: 20px; height: 20px;background-color: rgb(100, 15, 255);\"></td></tr><tr><td title=\"Index: [1, 0]&#10;Color: (100, 234, 15)\" style=\"width: 20px; height: 20px;background-color: rgb(100, 234, 15);\"></td><td title=\"Index: [1, 1]&#10;Color: (100, 234, 255)\" style=\"width: 20px; height: 20px;background-color: rgb(100, 234, 255);\"></td><td title=\"Index: [1, 2]&#10;Color: (100, 234, 15)\" style=\"width: 20px; height: 20px;background-color: rgb(100, 234, 15);\"></td><td title=\"Index: [1, 3]&#10;Color: (100, 234, 255)\" style=\"width: 20px; height: 20px;background-color: rgb(100, 234, 255);\"></td><td title=\"Index: [1, 4]&#10;Color: (100, 234, 15)\" style=\"width: 20px; height: 20px;background-color: rgb(100, 234, 15);\"></td><td title=\"Index: [1, 5]&#10;Color: (100, 234, 255)\" style=\"width: 20px; height: 20px;background-color: rgb(100, 234, 255);\"></td><td title=\"Index: [1, 6]&#10;Color: (100, 234, 15)\" style=\"width: 20px; height: 20px;background-color: rgb(100, 234, 15);\"></td><td title=\"Index: [1, 7]&#10;Color: (100, 234, 255)\" style=\"width: 20px; height: 20px;background-color: rgb(100, 234, 255);\"></td></tr><tr><td title=\"Index: [2, 0]&#10;Color: (100, 15, 15)\" style=\"width: 20px; height: 20px;background-color: rgb(100, 15, 15);\"></td><td title=\"Index: [2, 1]&#10;Color: (100, 15, 255)\" style=\"width: 20px; height: 20px;background-color: rgb(100, 15, 255);\"></td><td title=\"Index: [2, 2]&#10;Color: (100, 15, 15)\" style=\"width: 20px; height: 20px;background-color: rgb(100, 15, 15);\"></td><td title=\"Index: [2, 3]&#10;Color: (100, 15, 255)\" style=\"width: 20px; height: 20px;background-color: rgb(100, 15, 255);\"></td><td title=\"Index: [2, 4]&#10;Color: (100, 15, 15)\" style=\"width: 20px; height: 20px;background-color: rgb(100, 15, 15);\"></td><td title=\"Index: [2, 5]&#10;Color: (100, 15, 255)\" style=\"width: 20px; height: 20px;background-color: rgb(100, 15, 255);\"></td><td title=\"Index: [2, 6]&#10;Color: (100, 15, 15)\" style=\"width: 20px; height: 20px;background-color: rgb(100, 15, 15);\"></td><td title=\"Index: [2, 7]&#10;Color: (100, 15, 255)\" style=\"width: 20px; height: 20px;background-color: rgb(100, 15, 255);\"></td></tr><tr><td title=\"Index: [3, 0]&#10;Color: (100, 234, 15)\" style=\"width: 20px; height: 20px;background-color: rgb(100, 234, 15);\"></td><td title=\"Index: [3, 1]&#10;Color: (100, 234, 255)\" style=\"width: 20px; height: 20px;background-color: rgb(100, 234, 255);\"></td><td title=\"Index: [3, 2]&#10;Color: (100, 234, 15)\" style=\"width: 20px; height: 20px;background-color: rgb(100, 234, 15);\"></td><td title=\"Index: [3, 3]&#10;Color: (100, 234, 255)\" style=\"width: 20px; height: 20px;background-color: rgb(100, 234, 255);\"></td><td title=\"Index: [3, 4]&#10;Color: (100, 234, 15)\" style=\"width: 20px; height: 20px;background-color: rgb(100, 234, 15);\"></td><td title=\"Index: [3, 5]&#10;Color: (100, 234, 255)\" style=\"width: 20px; height: 20px;background-color: rgb(100, 234, 255);\"></td><td title=\"Index: [3, 6]&#10;Color: (100, 234, 15)\" style=\"width: 20px; height: 20px;background-color: rgb(100, 234, 15);\"></td><td title=\"Index: [3, 7]&#10;Color: (100, 234, 255)\" style=\"width: 20px; height: 20px;background-color: rgb(100, 234, 255);\"></td></tr><tr><td title=\"Index: [4, 0]&#10;Color: (100, 15, 15)\" style=\"width: 20px; height: 20px;background-color: rgb(100, 15, 15);\"></td><td title=\"Index: [4, 1]&#10;Color: (100, 15, 255)\" style=\"width: 20px; height: 20px;background-color: rgb(100, 15, 255);\"></td><td title=\"Index: [4, 2]&#10;Color: (100, 15, 15)\" style=\"width: 20px; height: 20px;background-color: rgb(100, 15, 15);\"></td><td title=\"Index: [4, 3]&#10;Color: (100, 15, 255)\" style=\"width: 20px; height: 20px;background-color: rgb(100, 15, 255);\"></td><td title=\"Index: [4, 4]&#10;Color: (100, 15, 15)\" style=\"width: 20px; height: 20px;background-color: rgb(100, 15, 15);\"></td><td title=\"Index: [4, 5]&#10;Color: (100, 15, 255)\" style=\"width: 20px; height: 20px;background-color: rgb(100, 15, 255);\"></td><td title=\"Index: [4, 6]&#10;Color: (100, 15, 15)\" style=\"width: 20px; height: 20px;background-color: rgb(100, 15, 15);\"></td><td title=\"Index: [4, 7]&#10;Color: (100, 15, 255)\" style=\"width: 20px; height: 20px;background-color: rgb(100, 15, 255);\"></td></tr><tr><td title=\"Index: [5, 0]&#10;Color: (100, 234, 15)\" style=\"width: 20px; height: 20px;background-color: rgb(100, 234, 15);\"></td><td title=\"Index: [5, 1]&#10;Color: (100, 234, 255)\" style=\"width: 20px; height: 20px;background-color: rgb(100, 234, 255);\"></td><td title=\"Index: [5, 2]&#10;Color: (100, 234, 15)\" style=\"width: 20px; height: 20px;background-color: rgb(100, 234, 15);\"></td><td title=\"Index: [5, 3]&#10;Color: (100, 234, 255)\" style=\"width: 20px; height: 20px;background-color: rgb(100, 234, 255);\"></td><td title=\"Index: [5, 4]&#10;Color: (100, 234, 15)\" style=\"width: 20px; height: 20px;background-color: rgb(100, 234, 15);\"></td><td title=\"Index: [5, 5]&#10;Color: (100, 234, 255)\" style=\"width: 20px; height: 20px;background-color: rgb(100, 234, 255);\"></td><td title=\"Index: [5, 6]&#10;Color: (100, 234, 15)\" style=\"width: 20px; height: 20px;background-color: rgb(100, 234, 15);\"></td><td title=\"Index: [5, 7]&#10;Color: (100, 234, 255)\" style=\"width: 20px; height: 20px;background-color: rgb(100, 234, 255);\"></td></tr><tr><td title=\"Index: [6, 0]&#10;Color: (100, 15, 15)\" style=\"width: 20px; height: 20px;background-color: rgb(100, 15, 15);\"></td><td title=\"Index: [6, 1]&#10;Color: (100, 15, 255)\" style=\"width: 20px; height: 20px;background-color: rgb(100, 15, 255);\"></td><td title=\"Index: [6, 2]&#10;Color: (100, 15, 15)\" style=\"width: 20px; height: 20px;background-color: rgb(100, 15, 15);\"></td><td title=\"Index: [6, 3]&#10;Color: (100, 15, 255)\" style=\"width: 20px; height: 20px;background-color: rgb(100, 15, 255);\"></td><td title=\"Index: [6, 4]&#10;Color: (100, 15, 15)\" style=\"width: 20px; height: 20px;background-color: rgb(100, 15, 15);\"></td><td title=\"Index: [6, 5]&#10;Color: (100, 15, 255)\" style=\"width: 20px; height: 20px;background-color: rgb(100, 15, 255);\"></td><td title=\"Index: [6, 6]&#10;Color: (100, 15, 15)\" style=\"width: 20px; height: 20px;background-color: rgb(100, 15, 15);\"></td><td title=\"Index: [6, 7]&#10;Color: (100, 15, 255)\" style=\"width: 20px; height: 20px;background-color: rgb(100, 15, 255);\"></td></tr><tr><td title=\"Index: [7, 0]&#10;Color: (100, 234, 15)\" style=\"width: 20px; height: 20px;background-color: rgb(100, 234, 15);\"></td><td title=\"Index: [7, 1]&#10;Color: (100, 234, 255)\" style=\"width: 20px; height: 20px;background-color: rgb(100, 234, 255);\"></td><td title=\"Index: [7, 2]&#10;Color: (100, 234, 15)\" style=\"width: 20px; height: 20px;background-color: rgb(100, 234, 15);\"></td><td title=\"Index: [7, 3]&#10;Color: (100, 234, 255)\" style=\"width: 20px; height: 20px;background-color: rgb(100, 234, 255);\"></td><td title=\"Index: [7, 4]&#10;Color: (100, 234, 15)\" style=\"width: 20px; height: 20px;background-color: rgb(100, 234, 15);\"></td><td title=\"Index: [7, 5]&#10;Color: (100, 234, 255)\" style=\"width: 20px; height: 20px;background-color: rgb(100, 234, 255);\"></td><td title=\"Index: [7, 6]&#10;Color: (100, 234, 15)\" style=\"width: 20px; height: 20px;background-color: rgb(100, 234, 15);\"></td><td title=\"Index: [7, 7]&#10;Color: (100, 234, 255)\" style=\"width: 20px; height: 20px;background-color: rgb(100, 234, 255);\"></td></tr></tbody></table>"
       ],
       "metadata": {},
       "output_type": "display_data",
       "text": [
        "<IPython.core.display.HTML at 0x102643990>"
       ]
      }
     ],
     "prompt_number": 14
    },
    {
     "cell_type": "code",
     "collapsed": false,
     "input": [
      "from ipythonblocks import colors"
     ],
     "language": "python",
     "metadata": {},
     "outputs": [],
     "prompt_number": 15
    },
    {
     "cell_type": "code",
     "collapsed": false,
     "input": [
      "colors"
     ],
     "language": "python",
     "metadata": {},
     "outputs": [
      {
       "metadata": {},
       "output_type": "pyout",
       "prompt_number": 16,
       "text": [
        "{'AliceBlue': (240, 248, 255),\n",
        " 'AntiqueWhite': (250, 235, 215),\n",
        " 'Aqua': (0, 255, 255),\n",
        " 'Aquamarine': (127, 255, 212),\n",
        " 'Azure': (240, 255, 255),\n",
        " 'Beige': (245, 245, 220),\n",
        " 'Bisque': (255, 228, 196),\n",
        " 'Black': (0, 0, 0),\n",
        " 'BlanchedAlmond': (255, 235, 205),\n",
        " 'Blue': (0, 0, 255),\n",
        " 'BlueViolet': (138, 43, 226),\n",
        " 'Brown': (165, 42, 42),\n",
        " 'BurlyWood': (222, 184, 135),\n",
        " 'CadetBlue': (95, 158, 160),\n",
        " 'Chartreuse': (127, 255, 0),\n",
        " 'Chocolate': (210, 105, 30),\n",
        " 'Coral': (255, 127, 80),\n",
        " 'CornflowerBlue': (100, 149, 237),\n",
        " 'Cornsilk': (255, 248, 220),\n",
        " 'Crimson': (220, 20, 60),\n",
        " 'Cyan': (0, 255, 255),\n",
        " 'DarkBlue': (0, 0, 139),\n",
        " 'DarkCyan': (0, 139, 139),\n",
        " 'DarkGoldenrod': (184, 134, 11),\n",
        " 'DarkGray': (169, 169, 169),\n",
        " 'DarkGreen': (0, 100, 0),\n",
        " 'DarkKhaki': (189, 183, 107),\n",
        " 'DarkMagenta': (139, 0, 139),\n",
        " 'DarkOliveGreen': (85, 107, 47),\n",
        " 'DarkOrange': (255, 140, 0),\n",
        " 'DarkOrchid': (153, 50, 204),\n",
        " 'DarkRed': (139, 0, 0),\n",
        " 'DarkSalmon': (233, 150, 122),\n",
        " 'DarkSeaGreen': (143, 188, 143),\n",
        " 'DarkSlateBlue': (72, 61, 139),\n",
        " 'DarkSlateGray': (47, 79, 79),\n",
        " 'DarkTurquoise': (0, 206, 209),\n",
        " 'DarkViolet': (148, 0, 211),\n",
        " 'DeepPink': (255, 20, 147),\n",
        " 'DeepSkyBlue': (0, 191, 255),\n",
        " 'DimGray': (105, 105, 105),\n",
        " 'DodgerBlue': (30, 144, 255),\n",
        " 'FireBrick': (178, 34, 34),\n",
        " 'FloralWhite': (255, 250, 240),\n",
        " 'ForestGreen': (34, 139, 34),\n",
        " 'Fuchsia': (255, 0, 255),\n",
        " 'Gainsboro': (220, 220, 220),\n",
        " 'GhostWhite': (248, 248, 255),\n",
        " 'Gold': (255, 215, 0),\n",
        " 'Goldenrod': (218, 165, 32),\n",
        " 'Gray': (128, 128, 128),\n",
        " 'Green': (0, 128, 0),\n",
        " 'GreenYellow': (173, 255, 47),\n",
        " 'Honeydew': (240, 255, 240),\n",
        " 'HotPink': (255, 105, 180),\n",
        " 'IndianRed': (205, 92, 92),\n",
        " 'Indigo': (75, 0, 130),\n",
        " 'Ivory': (255, 255, 240),\n",
        " 'Khaki': (240, 230, 140),\n",
        " 'Lavender': (230, 230, 250),\n",
        " 'LavenderBlush': (255, 240, 245),\n",
        " 'LawnGreen': (124, 252, 0),\n",
        " 'LemonChiffon': (255, 250, 205),\n",
        " 'LightBlue': (173, 216, 230),\n",
        " 'LightCoral': (240, 128, 128),\n",
        " 'LightCyan': (224, 255, 255),\n",
        " 'LightGoldenrodYellow': (250, 250, 210),\n",
        " 'LightGray': (211, 211, 211),\n",
        " 'LightGreen': (144, 238, 144),\n",
        " 'LightPink': (255, 182, 193),\n",
        " 'LightSalmon': (255, 160, 122),\n",
        " 'LightSeaGreen': (32, 178, 170),\n",
        " 'LightSkyBlue': (135, 206, 250),\n",
        " 'LightSlateGray': (119, 136, 153),\n",
        " 'LightSteelBlue': (176, 196, 222),\n",
        " 'LightYellow': (255, 255, 224),\n",
        " 'Lime': (0, 255, 0),\n",
        " 'LimeGreen': (50, 205, 50),\n",
        " 'Linen': (250, 240, 230),\n",
        " 'Magenta': (255, 0, 255),\n",
        " 'Maroon': (128, 0, 0),\n",
        " 'MediumAquamarine': (102, 205, 170),\n",
        " 'MediumBlue': (0, 0, 205),\n",
        " 'MediumOrchid': (186, 85, 211),\n",
        " 'MediumPurple': (147, 112, 219),\n",
        " 'MediumSeaGreen': (60, 179, 113),\n",
        " 'MediumSlateBlue': (123, 104, 238),\n",
        " 'MediumSpringGreen': (0, 250, 154),\n",
        " 'MediumTurquoise': (72, 209, 204),\n",
        " 'MediumVioletRed': (199, 21, 133),\n",
        " 'MidnightBlue': (25, 25, 112),\n",
        " 'MintCream': (245, 255, 250),\n",
        " 'MistyRose': (255, 228, 225),\n",
        " 'Moccasin': (255, 228, 181),\n",
        " 'NavajoWhite': (255, 222, 173),\n",
        " 'Navy': (0, 0, 128),\n",
        " 'OldLace': (253, 245, 230),\n",
        " 'Olive': (128, 128, 0),\n",
        " 'OliveDrab': (107, 142, 35),\n",
        " 'Orange': (255, 165, 0),\n",
        " 'OrangeRed': (255, 69, 0),\n",
        " 'Orchid': (218, 112, 214),\n",
        " 'PaleGoldenrod': (238, 232, 170),\n",
        " 'PaleGreen': (152, 251, 152),\n",
        " 'PaleTurquoise': (175, 238, 238),\n",
        " 'PaleVioletRed': (219, 112, 147),\n",
        " 'PapayaWhip': (255, 239, 213),\n",
        " 'PeachPuff': (255, 218, 185),\n",
        " 'Peru': (205, 133, 63),\n",
        " 'Pink': (255, 192, 203),\n",
        " 'Plum': (221, 160, 221),\n",
        " 'PowderBlue': (176, 224, 230),\n",
        " 'Purple': (128, 0, 128),\n",
        " 'Red': (255, 0, 0),\n",
        " 'RosyBrown': (188, 143, 143),\n",
        " 'RoyalBlue': (65, 105, 225),\n",
        " 'SaddleBrown': (139, 69, 19),\n",
        " 'Salmon': (250, 128, 114),\n",
        " 'SandyBrown': (244, 164, 96),\n",
        " 'SeaGreen': (46, 139, 87),\n",
        " 'Seashell': (255, 245, 238),\n",
        " 'Sienna': (160, 82, 45),\n",
        " 'Silver': (192, 192, 192),\n",
        " 'SkyBlue': (135, 206, 235),\n",
        " 'SlateBlue': (106, 90, 205),\n",
        " 'SlateGray': (112, 128, 144),\n",
        " 'Snow': (255, 250, 250),\n",
        " 'SpringGreen': (0, 255, 127),\n",
        " 'SteelBlue': (70, 130, 180),\n",
        " 'Tan': (210, 180, 140),\n",
        " 'Teal': (0, 128, 128),\n",
        " 'Thistle': (216, 191, 216),\n",
        " 'Tomato': (255, 99, 71),\n",
        " 'Turquoise': (64, 224, 208),\n",
        " 'Violet': (238, 130, 238),\n",
        " 'Wheat': (245, 222, 179),\n",
        " 'White': (255, 255, 255),\n",
        " 'WhiteSmoke': (245, 245, 245),\n",
        " 'Yellow': (255, 255, 0),\n",
        " 'YellowGreen': (154, 205, 50)}"
       ]
      }
     ],
     "prompt_number": 16
    },
    {
     "cell_type": "code",
     "collapsed": false,
     "input": [
      "grid[1,1] = colors['Teal']\n",
      "grid[1,2] = colors['Thistle']\n",
      "grid[1,3] = colors['Peru']\n",
      "grid"
     ],
     "language": "python",
     "metadata": {},
     "outputs": [
      {
       "html": [
        "<style type=\"text/css\">table.blockgrid {border: none;} .blockgrid tr {border: none;} .blockgrid td {padding: 0px;} #blockse5cccde2-b063-461f-b991-e4ba1714bffa td {border: 1px solid white;}</style><table id=\"blockse5cccde2-b063-461f-b991-e4ba1714bffa\" class=\"blockgrid\"><tbody><tr><td title=\"Index: [0, 0]&#10;Color: (100, 15, 15)\" style=\"width: 20px; height: 20px;background-color: rgb(100, 15, 15);\"></td><td title=\"Index: [0, 1]&#10;Color: (100, 15, 255)\" style=\"width: 20px; height: 20px;background-color: rgb(100, 15, 255);\"></td><td title=\"Index: [0, 2]&#10;Color: (100, 15, 15)\" style=\"width: 20px; height: 20px;background-color: rgb(100, 15, 15);\"></td><td title=\"Index: [0, 3]&#10;Color: (100, 15, 255)\" style=\"width: 20px; height: 20px;background-color: rgb(100, 15, 255);\"></td><td title=\"Index: [0, 4]&#10;Color: (100, 15, 15)\" style=\"width: 20px; height: 20px;background-color: rgb(100, 15, 15);\"></td><td title=\"Index: [0, 5]&#10;Color: (100, 15, 255)\" style=\"width: 20px; height: 20px;background-color: rgb(100, 15, 255);\"></td><td title=\"Index: [0, 6]&#10;Color: (100, 15, 15)\" style=\"width: 20px; height: 20px;background-color: rgb(100, 15, 15);\"></td><td title=\"Index: [0, 7]&#10;Color: (100, 15, 255)\" style=\"width: 20px; height: 20px;background-color: rgb(100, 15, 255);\"></td></tr><tr><td title=\"Index: [1, 0]&#10;Color: (100, 234, 15)\" style=\"width: 20px; height: 20px;background-color: rgb(100, 234, 15);\"></td><td title=\"Index: [1, 1]&#10;Color: (0, 128, 128)\" style=\"width: 20px; height: 20px;background-color: rgb(0, 128, 128);\"></td><td title=\"Index: [1, 2]&#10;Color: (216, 191, 216)\" style=\"width: 20px; height: 20px;background-color: rgb(216, 191, 216);\"></td><td title=\"Index: [1, 3]&#10;Color: (205, 133, 63)\" style=\"width: 20px; height: 20px;background-color: rgb(205, 133, 63);\"></td><td title=\"Index: [1, 4]&#10;Color: (100, 234, 15)\" style=\"width: 20px; height: 20px;background-color: rgb(100, 234, 15);\"></td><td title=\"Index: [1, 5]&#10;Color: (100, 234, 255)\" style=\"width: 20px; height: 20px;background-color: rgb(100, 234, 255);\"></td><td title=\"Index: [1, 6]&#10;Color: (100, 234, 15)\" style=\"width: 20px; height: 20px;background-color: rgb(100, 234, 15);\"></td><td title=\"Index: [1, 7]&#10;Color: (100, 234, 255)\" style=\"width: 20px; height: 20px;background-color: rgb(100, 234, 255);\"></td></tr><tr><td title=\"Index: [2, 0]&#10;Color: (100, 15, 15)\" style=\"width: 20px; height: 20px;background-color: rgb(100, 15, 15);\"></td><td title=\"Index: [2, 1]&#10;Color: (100, 15, 255)\" style=\"width: 20px; height: 20px;background-color: rgb(100, 15, 255);\"></td><td title=\"Index: [2, 2]&#10;Color: (100, 15, 15)\" style=\"width: 20px; height: 20px;background-color: rgb(100, 15, 15);\"></td><td title=\"Index: [2, 3]&#10;Color: (100, 15, 255)\" style=\"width: 20px; height: 20px;background-color: rgb(100, 15, 255);\"></td><td title=\"Index: [2, 4]&#10;Color: (100, 15, 15)\" style=\"width: 20px; height: 20px;background-color: rgb(100, 15, 15);\"></td><td title=\"Index: [2, 5]&#10;Color: (100, 15, 255)\" style=\"width: 20px; height: 20px;background-color: rgb(100, 15, 255);\"></td><td title=\"Index: [2, 6]&#10;Color: (100, 15, 15)\" style=\"width: 20px; height: 20px;background-color: rgb(100, 15, 15);\"></td><td title=\"Index: [2, 7]&#10;Color: (100, 15, 255)\" style=\"width: 20px; height: 20px;background-color: rgb(100, 15, 255);\"></td></tr><tr><td title=\"Index: [3, 0]&#10;Color: (100, 234, 15)\" style=\"width: 20px; height: 20px;background-color: rgb(100, 234, 15);\"></td><td title=\"Index: [3, 1]&#10;Color: (100, 234, 255)\" style=\"width: 20px; height: 20px;background-color: rgb(100, 234, 255);\"></td><td title=\"Index: [3, 2]&#10;Color: (100, 234, 15)\" style=\"width: 20px; height: 20px;background-color: rgb(100, 234, 15);\"></td><td title=\"Index: [3, 3]&#10;Color: (100, 234, 255)\" style=\"width: 20px; height: 20px;background-color: rgb(100, 234, 255);\"></td><td title=\"Index: [3, 4]&#10;Color: (100, 234, 15)\" style=\"width: 20px; height: 20px;background-color: rgb(100, 234, 15);\"></td><td title=\"Index: [3, 5]&#10;Color: (100, 234, 255)\" style=\"width: 20px; height: 20px;background-color: rgb(100, 234, 255);\"></td><td title=\"Index: [3, 6]&#10;Color: (100, 234, 15)\" style=\"width: 20px; height: 20px;background-color: rgb(100, 234, 15);\"></td><td title=\"Index: [3, 7]&#10;Color: (100, 234, 255)\" style=\"width: 20px; height: 20px;background-color: rgb(100, 234, 255);\"></td></tr><tr><td title=\"Index: [4, 0]&#10;Color: (100, 15, 15)\" style=\"width: 20px; height: 20px;background-color: rgb(100, 15, 15);\"></td><td title=\"Index: [4, 1]&#10;Color: (100, 15, 255)\" style=\"width: 20px; height: 20px;background-color: rgb(100, 15, 255);\"></td><td title=\"Index: [4, 2]&#10;Color: (100, 15, 15)\" style=\"width: 20px; height: 20px;background-color: rgb(100, 15, 15);\"></td><td title=\"Index: [4, 3]&#10;Color: (100, 15, 255)\" style=\"width: 20px; height: 20px;background-color: rgb(100, 15, 255);\"></td><td title=\"Index: [4, 4]&#10;Color: (100, 15, 15)\" style=\"width: 20px; height: 20px;background-color: rgb(100, 15, 15);\"></td><td title=\"Index: [4, 5]&#10;Color: (100, 15, 255)\" style=\"width: 20px; height: 20px;background-color: rgb(100, 15, 255);\"></td><td title=\"Index: [4, 6]&#10;Color: (100, 15, 15)\" style=\"width: 20px; height: 20px;background-color: rgb(100, 15, 15);\"></td><td title=\"Index: [4, 7]&#10;Color: (100, 15, 255)\" style=\"width: 20px; height: 20px;background-color: rgb(100, 15, 255);\"></td></tr><tr><td title=\"Index: [5, 0]&#10;Color: (100, 234, 15)\" style=\"width: 20px; height: 20px;background-color: rgb(100, 234, 15);\"></td><td title=\"Index: [5, 1]&#10;Color: (100, 234, 255)\" style=\"width: 20px; height: 20px;background-color: rgb(100, 234, 255);\"></td><td title=\"Index: [5, 2]&#10;Color: (100, 234, 15)\" style=\"width: 20px; height: 20px;background-color: rgb(100, 234, 15);\"></td><td title=\"Index: [5, 3]&#10;Color: (100, 234, 255)\" style=\"width: 20px; height: 20px;background-color: rgb(100, 234, 255);\"></td><td title=\"Index: [5, 4]&#10;Color: (100, 234, 15)\" style=\"width: 20px; height: 20px;background-color: rgb(100, 234, 15);\"></td><td title=\"Index: [5, 5]&#10;Color: (100, 234, 255)\" style=\"width: 20px; height: 20px;background-color: rgb(100, 234, 255);\"></td><td title=\"Index: [5, 6]&#10;Color: (100, 234, 15)\" style=\"width: 20px; height: 20px;background-color: rgb(100, 234, 15);\"></td><td title=\"Index: [5, 7]&#10;Color: (100, 234, 255)\" style=\"width: 20px; height: 20px;background-color: rgb(100, 234, 255);\"></td></tr><tr><td title=\"Index: [6, 0]&#10;Color: (100, 15, 15)\" style=\"width: 20px; height: 20px;background-color: rgb(100, 15, 15);\"></td><td title=\"Index: [6, 1]&#10;Color: (100, 15, 255)\" style=\"width: 20px; height: 20px;background-color: rgb(100, 15, 255);\"></td><td title=\"Index: [6, 2]&#10;Color: (100, 15, 15)\" style=\"width: 20px; height: 20px;background-color: rgb(100, 15, 15);\"></td><td title=\"Index: [6, 3]&#10;Color: (100, 15, 255)\" style=\"width: 20px; height: 20px;background-color: rgb(100, 15, 255);\"></td><td title=\"Index: [6, 4]&#10;Color: (100, 15, 15)\" style=\"width: 20px; height: 20px;background-color: rgb(100, 15, 15);\"></td><td title=\"Index: [6, 5]&#10;Color: (100, 15, 255)\" style=\"width: 20px; height: 20px;background-color: rgb(100, 15, 255);\"></td><td title=\"Index: [6, 6]&#10;Color: (100, 15, 15)\" style=\"width: 20px; height: 20px;background-color: rgb(100, 15, 15);\"></td><td title=\"Index: [6, 7]&#10;Color: (100, 15, 255)\" style=\"width: 20px; height: 20px;background-color: rgb(100, 15, 255);\"></td></tr><tr><td title=\"Index: [7, 0]&#10;Color: (100, 234, 15)\" style=\"width: 20px; height: 20px;background-color: rgb(100, 234, 15);\"></td><td title=\"Index: [7, 1]&#10;Color: (100, 234, 255)\" style=\"width: 20px; height: 20px;background-color: rgb(100, 234, 255);\"></td><td title=\"Index: [7, 2]&#10;Color: (100, 234, 15)\" style=\"width: 20px; height: 20px;background-color: rgb(100, 234, 15);\"></td><td title=\"Index: [7, 3]&#10;Color: (100, 234, 255)\" style=\"width: 20px; height: 20px;background-color: rgb(100, 234, 255);\"></td><td title=\"Index: [7, 4]&#10;Color: (100, 234, 15)\" style=\"width: 20px; height: 20px;background-color: rgb(100, 234, 15);\"></td><td title=\"Index: [7, 5]&#10;Color: (100, 234, 255)\" style=\"width: 20px; height: 20px;background-color: rgb(100, 234, 255);\"></td><td title=\"Index: [7, 6]&#10;Color: (100, 234, 15)\" style=\"width: 20px; height: 20px;background-color: rgb(100, 234, 15);\"></td><td title=\"Index: [7, 7]&#10;Color: (100, 234, 255)\" style=\"width: 20px; height: 20px;background-color: rgb(100, 234, 255);\"></td></tr></tbody></table>"
       ],
       "metadata": {},
       "output_type": "pyout",
       "prompt_number": 18,
       "text": [
        "<ipythonblocks.ipythonblocks.BlockGrid at 0x102619590>"
       ]
      }
     ],
     "prompt_number": 18
    },
    {
     "cell_type": "code",
     "collapsed": false,
     "input": [
      "subgrid = grid[:,3]\n",
      "subgrid"
     ],
     "language": "python",
     "metadata": {},
     "outputs": [
      {
       "html": [
        "<style type=\"text/css\">table.blockgrid {border: none;} .blockgrid tr {border: none;} .blockgrid td {padding: 0px;} #blocks9259c5ba-5e16-4170-8b4f-9fc4c16e707f td {border: 1px solid white;}</style><table id=\"blocks9259c5ba-5e16-4170-8b4f-9fc4c16e707f\" class=\"blockgrid\"><tbody><tr><td title=\"Index: [0, 0]&#10;Color: (100, 15, 255)\" style=\"width: 20px; height: 20px;background-color: rgb(100, 15, 255);\"></td></tr><tr><td title=\"Index: [1, 0]&#10;Color: (205, 133, 63)\" style=\"width: 20px; height: 20px;background-color: rgb(205, 133, 63);\"></td></tr><tr><td title=\"Index: [2, 0]&#10;Color: (100, 15, 255)\" style=\"width: 20px; height: 20px;background-color: rgb(100, 15, 255);\"></td></tr><tr><td title=\"Index: [3, 0]&#10;Color: (100, 234, 255)\" style=\"width: 20px; height: 20px;background-color: rgb(100, 234, 255);\"></td></tr><tr><td title=\"Index: [4, 0]&#10;Color: (100, 15, 255)\" style=\"width: 20px; height: 20px;background-color: rgb(100, 15, 255);\"></td></tr><tr><td title=\"Index: [5, 0]&#10;Color: (100, 234, 255)\" style=\"width: 20px; height: 20px;background-color: rgb(100, 234, 255);\"></td></tr><tr><td title=\"Index: [6, 0]&#10;Color: (100, 15, 255)\" style=\"width: 20px; height: 20px;background-color: rgb(100, 15, 255);\"></td></tr><tr><td title=\"Index: [7, 0]&#10;Color: (100, 234, 255)\" style=\"width: 20px; height: 20px;background-color: rgb(100, 234, 255);\"></td></tr></tbody></table>"
       ],
       "metadata": {},
       "output_type": "pyout",
       "prompt_number": 24,
       "text": [
        "<ipythonblocks.ipythonblocks.BlockGrid at 0x102639710>"
       ]
      }
     ],
     "prompt_number": 24
    },
    {
     "cell_type": "code",
     "collapsed": false,
     "input": [
      "subgrid = grid[2:4, 5:7]\n",
      "subgrid"
     ],
     "language": "python",
     "metadata": {},
     "outputs": [
      {
       "html": [
        "<style type=\"text/css\">table.blockgrid {border: none;} .blockgrid tr {border: none;} .blockgrid td {padding: 0px;} #blocks31f9e8a6-2c35-4dd7-8894-ebc371022e3c td {border: 1px solid white;}</style><table id=\"blocks31f9e8a6-2c35-4dd7-8894-ebc371022e3c\" class=\"blockgrid\"><tbody><tr><td title=\"Index: [0, 0]&#10;Color: (100, 15, 255)\" style=\"width: 20px; height: 20px;background-color: rgb(100, 15, 255);\"></td><td title=\"Index: [0, 1]&#10;Color: (100, 15, 15)\" style=\"width: 20px; height: 20px;background-color: rgb(100, 15, 15);\"></td></tr><tr><td title=\"Index: [1, 0]&#10;Color: (100, 234, 255)\" style=\"width: 20px; height: 20px;background-color: rgb(100, 234, 255);\"></td><td title=\"Index: [1, 1]&#10;Color: (100, 234, 15)\" style=\"width: 20px; height: 20px;background-color: rgb(100, 234, 15);\"></td></tr></tbody></table>"
       ],
       "metadata": {},
       "output_type": "pyout",
       "prompt_number": 21,
       "text": [
        "<ipythonblocks.ipythonblocks.BlockGrid at 0x102639450>"
       ]
      }
     ],
     "prompt_number": 21
    },
    {
     "cell_type": "heading",
     "level": 2,
     "metadata": {},
     "source": [
      "Battleship!"
     ]
    },
    {
     "cell_type": "markdown",
     "metadata": {},
     "source": [
      "Copy code from Codecademy 13-18."
     ]
    },
    {
     "cell_type": "code",
     "collapsed": false,
     "input": [
      "from random import randint\n",
      "# Allows us to use the randit function to randomize the ship's location\n",
      "\n",
      "board = []\n",
      "\n",
      "for x in range(0,5):\n",
      "    board.append([\"O\"] * 5)\n",
      "# Adds 5 columns and 5 rows to create a board\n",
      "\n",
      "def print_board(board):\n",
      "    for row in board:\n",
      "        print \" \".join(row)\n",
      "# Allows the board to print as O O O O instead of [O, O, O, O, O]\n",
      "\n",
      "def random_row(board):\n",
      "    return randint(0, len(board) - 1)\n",
      "\n",
      "def random_col(board):\n",
      "    return randint(0, len(board[0]) - 1)\n",
      "\n",
      "ship_row = random_row(board)\n",
      "ship_col = random_col(board)\n",
      "# Hides the ship in a random location on the board\n",
      "\n",
      "for turn in range(4):\n",
      "    print \"Turn\", turn + 1\n",
      "# Allows for 4 turn to take place, printing the turn number before each set of guesses \n",
      "    \n",
      "    guess_row = int(raw_input(\"Guess Row:\"))\n",
      "    guess_col = int(raw_input(\"Guess Col:\"))\n",
      "# Creates guesses and turns them into integers\n",
      "\n",
      "    if guess_row == ship_row and guess_col == ship_col: \n",
      "        print \"Congratulations! You sank my battleship!\"\n",
      "        break \n",
      "# The break allows the game to end, skipping the else statement if the ship has been sunk before turn 4\n",
      "    else: \n",
      "        if guess_row < 0 or guess_row > len(board) -1 or guess_col < 0 or\\\n",
      "        guess_col > len(board[0]) -1: # If a number less than 0 or greater than index 4 is entered, the user has picked a location not on the board\n",
      "            print \"Oops, that's not even in the ocean.\"\n",
      "        elif(board[guess_row][guess_col] == \"X\"):\n",
      "            print \"You guessed that one already.\"\n",
      "        else: \n",
      "            print \"You missed my battleship!\"\n",
      "            board[int(guess_row)][int(guess_col)] = \"X\" # This adds an X to the row/col the user has guessed\n",
      "            print_board(board)\n",
      "        if turn == 3: # 3 is used here because Python takes guesses up to index 3, which means 4 guesses\n",
      "            print \"Game Over\"        \n",
      "            "
     ],
     "language": "python",
     "metadata": {},
     "outputs": [
      {
       "output_type": "stream",
       "stream": "stdout",
       "text": [
        "Turn 1\n"
       ]
      }
     ]
    },
    {
     "cell_type": "code",
     "collapsed": false,
     "input": [],
     "language": "python",
     "metadata": {},
     "outputs": []
    }
   ],
   "metadata": {}
  }
 ]
}