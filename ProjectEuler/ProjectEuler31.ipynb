{
 "metadata": {
  "name": "",
  "signature": "sha256:2dd0cd5dae12e53c3eeec0adf39576b441dd6ec54181933f7e184ab9d3413fe2"
 },
 "nbformat": 3,
 "nbformat_minor": 0,
 "worksheets": [
  {
   "cells": [
    {
     "cell_type": "heading",
     "level": 1,
     "metadata": {},
     "source": [
      "Coin Sums"
     ]
    },
    {
     "cell_type": "heading",
     "level": 2,
     "metadata": {},
     "source": [
      "Problem 31"
     ]
    },
    {
     "cell_type": "markdown",
     "metadata": {},
     "source": [
      "In England the currency is made up of pound, \u00a3, and pence, p, and there are eight coins in general circulation:\n",
      "\n",
      "1p, 2p, 5p, 10p, 20p, 50p, \u00a31 (100p) and \u00a32 (200p).\n",
      "It is possible to make \u00a32 in the following way:\n",
      "\n",
      "1\u00d7\u00a31 + 1\u00d750p + 2\u00d720p + 1\u00d75p + 1\u00d72p + 3\u00d71p\n",
      "How many different ways can \u00a32 be made using any number of coins?"
     ]
    },
    {
     "cell_type": "code",
     "collapsed": false,
     "input": [
      "combos = [0]*201\n",
      "combos[0] = 1\n",
      "\n",
      "for x in [1, 2, 5, 10, 20, 50, 100, 200]: \n",
      "    for i in range(x, 201): \n",
      "        combos[i] += combos[i-1]\n",
      "print \"Number of combinations that add to \u00a32 =\", combos[200]"
     ],
     "language": "python",
     "metadata": {},
     "outputs": [
      {
       "output_type": "stream",
       "stream": "stdout",
       "text": [
        "Number of combinations that add to \u00a32 = 184332809024\n"
       ]
      }
     ],
     "prompt_number": 15
    },
    {
     "cell_type": "code",
     "collapsed": false,
     "input": [],
     "language": "python",
     "metadata": {},
     "outputs": []
    }
   ],
   "metadata": {}
  }
 ]
}